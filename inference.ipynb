{
 "cells": [
  {
   "cell_type": "markdown",
   "metadata": {},
   "source": [
    "# Step.0 Prepare"
   ]
  },
  {
   "cell_type": "code",
   "execution_count": 15,
   "metadata": {},
   "outputs": [
    {
     "name": "stdout",
     "output_type": "stream",
     "text": [
      "./DRL-TU/egs/exp/time_varying_all_T_epoch21_rank0.npy\n",
      "./DRL-TU/egs/exp/time_varying_all_T_epoch21_rank1.npy\n",
      "./DRL-TU/egs/exp/time_varying_all_T_epoch21_rank2.npy\n"
     ]
    }
   ],
   "source": [
    "# 1. Load speaker embedding\n",
    "import glob\n",
    "import numpy as np\n",
    "from scipy import spatial\n",
    "import pickle\n",
    "\n",
    "embds_dict={}\n",
    "for npy_path in glob.glob('./DRL-TU/egs/exp/time_varying_all_T_epoch21_rank*.npy'):\n",
    "    print(npy_path)\n",
    "    embds_dict_tmp = np.load(npy_path,allow_pickle=True).item()\n",
    "    embds_dict ={**embds_dict,**embds_dict_tmp}"
   ]
  },
  {
   "cell_type": "markdown",
   "metadata": {},
   "source": [
    "# Step.1 Inference"
   ]
  },
  {
   "cell_type": "code",
   "execution_count": 16,
   "metadata": {},
   "outputs": [],
   "source": [
    "from collections import defaultdict\n",
    "from utils.util import compute_eer\n",
    "from tqdm import tqdm\n",
    "embd_size=128\n",
    "scenario2model2day2score_v0=defaultdict(list)\n",
    "scenario2model2day2score_v1=defaultdict(list)\n",
    "scenario2model2day2score_v21=defaultdict(list)\n",
    "scenario2model2day2score_v22=defaultdict(list)"
   ]
  },
  {
   "cell_type": "markdown",
   "metadata": {},
   "source": [
    "## Baseline Method  Scoring ( V0 )"
   ]
  },
  {
   "cell_type": "code",
   "execution_count": 17,
   "metadata": {},
   "outputs": [
    {
     "name": "stderr",
     "output_type": "stream",
     "text": [
      "  0%|                                                                         | 0/9 [00:00<?, ?it/s]/tmp/ipykernel_35769/637914665.py:21: RuntimeWarning: invalid value encountered in divide\n",
      "  enrol_embd_dict[tmp_model]=enrol_embd/np.linalg.norm(enrol_embd)\n",
      " 11%|███████▏                                                         | 1/9 [00:07<00:58,  7.34s/it]"
     ]
    },
    {
     "name": "stdout",
     "output_type": "stream",
     "text": [
      "---- Scenario : random----\n",
      "EER: 3.741261927387755, EER_threshold: 0.4204883810721398 \n",
      "MinDCT: 0.4168760332730183, MinDCT_threshold: 0.6114183805549603, \n",
      "76819 76819\n"
     ]
    },
    {
     "name": "stderr",
     "output_type": "stream",
     "text": [
      "\r",
      " 22%|██████████████▍                                                  | 2/9 [00:14<00:49,  7.06s/it]"
     ]
    },
    {
     "name": "stdout",
     "output_type": "stream",
     "text": [
      "---- Scenario : 1das----\n",
      "EER: 3.5488372699646553, EER_threshold: 0.42262014935163994 \n",
      "MinDCT: 0.4114094922593351, MinDCT_threshold: 0.6101848045173396, \n",
      "76673 76673\n"
     ]
    },
    {
     "name": "stderr",
     "output_type": "stream",
     "text": [
      "\r",
      " 33%|█████████████████████▋                                           | 3/9 [00:21<00:43,  7.26s/it]"
     ]
    },
    {
     "name": "stdout",
     "output_type": "stream",
     "text": [
      "---- Scenario : 3das----\n",
      "EER: 3.1537940379403793, EER_threshold: 0.43440902365005996 \n",
      "MinDCT: 0.38472222222222224, MinDCT_threshold: 0.6166655118717964, \n",
      "88560 88560\n"
     ]
    },
    {
     "name": "stderr",
     "output_type": "stream",
     "text": [
      "\r",
      " 44%|████████████████████████████▉                                    | 4/9 [00:27<00:33,  6.62s/it]"
     ]
    },
    {
     "name": "stdout",
     "output_type": "stream",
     "text": [
      "---- Scenario : 5das----\n",
      "EER: 3.106192677935269, EER_threshold: 0.43856202796563903 \n",
      "MinDCT: 0.3766239672553627, MinDCT_threshold: 0.6300347089493383, \n",
      "65965 65965\n"
     ]
    },
    {
     "name": "stderr",
     "output_type": "stream",
     "text": [
      "\r",
      " 56%|████████████████████████████████████                             | 5/9 [00:32<00:24,  6.07s/it]"
     ]
    },
    {
     "name": "stdout",
     "output_type": "stream",
     "text": [
      "---- Scenario : 10das----\n",
      "EER: 3.1131727903004323, EER_threshold: 0.4379431343961363 \n",
      "MinDCT: 0.38520280001339724, MinDCT_threshold: 0.6207601899579509, \n",
      "59714 59714\n"
     ]
    },
    {
     "name": "stderr",
     "output_type": "stream",
     "text": [
      "\r",
      " 67%|███████████████████████████████████████████▎                     | 6/9 [00:40<00:20,  6.72s/it]"
     ]
    },
    {
     "name": "stdout",
     "output_type": "stream",
     "text": [
      "---- Scenario : 1d1s----\n",
      "EER: 3.608339728830903, EER_threshold: 0.4210491813310211 \n",
      "MinDCT: 0.40076745970836525, MinDCT_threshold: 0.6056797494933029, \n",
      "78180 78180\n"
     ]
    },
    {
     "name": "stderr",
     "output_type": "stream",
     "text": [
      "\r",
      " 78%|██████████████████████████████████████████████████▌              | 7/9 [00:48<00:14,  7.20s/it]"
     ]
    },
    {
     "name": "stdout",
     "output_type": "stream",
     "text": [
      "---- Scenario : 3d1s----\n",
      "EER: 3.214285714285714, EER_threshold: 0.43185900051725 \n",
      "MinDCT: 0.38895053166897825, MinDCT_threshold: 0.622124760633776, \n",
      "86520 86520\n"
     ]
    },
    {
     "name": "stderr",
     "output_type": "stream",
     "text": [
      "\r",
      " 89%|█████████████████████████████████████████████████████████▊       | 8/9 [00:54<00:06,  6.91s/it]"
     ]
    },
    {
     "name": "stdout",
     "output_type": "stream",
     "text": [
      "---- Scenario : 5d1s----\n",
      "EER: 3.1555971312753353, EER_threshold: 0.4349993243156891 \n",
      "MinDCT: 0.4003429996881821, MinDCT_threshold: 0.6009552607194296, \n",
      "64140 64140\n"
     ]
    },
    {
     "name": "stderr",
     "output_type": "stream",
     "text": [
      "100%|█████████████████████████████████████████████████████████████████| 9/9 [01:00<00:00,  6.75s/it]"
     ]
    },
    {
     "name": "stdout",
     "output_type": "stream",
     "text": [
      "---- Scenario : 10d1s----\n",
      "EER: 3.0926594464500603, EER_threshold: 0.43475103455404407 \n",
      "MinDCT: 0.3838748495788207, MinDCT_threshold: 0.6196905461999074, \n",
      "58170 58170\n"
     ]
    },
    {
     "name": "stderr",
     "output_type": "stream",
     "text": [
      "\n"
     ]
    }
   ],
   "source": [
    "eers_v0={}\n",
    "mindcts_v0={}\n",
    "\n",
    "for tmp_scenario in tqdm(['random','1das','3das','5das','10das','1d1s','3d1s','5d1s','10d1s']):\n",
    "    # 0. init\n",
    "    scenario2model2day2score_v0[tmp_scenario]=defaultdict(list)\n",
    "    \n",
    "    # 1. Load trial trajectory and enrollment model\n",
    "    f_read = open('./trials/%s/trial.pkl' %tmp_scenario, 'rb')\n",
    "    trials = pickle.load(f_read)\n",
    "    f_read.close()\n",
    "    enrol_models={i.split()[0]:i.split()[1:] for i in open('./trials/%s/enrol_model'%tmp_scenario)}\n",
    "    \n",
    "    # 2. achieve enrol template\n",
    "    enrol_embd_dict={}\n",
    "    for tmp_model in enrol_models:\n",
    "        enrol_embd=np.zeros((1,128))\n",
    "        for utt in enrol_models[tmp_model]:\n",
    "            enrol_embd += embds_dict[utt]\n",
    "\n",
    "        enrol_embd_dict[tmp_model]=enrol_embd/np.linalg.norm(enrol_embd)\n",
    "    # 3. scoring\n",
    "    true_score=[]\n",
    "    false_score=[]\n",
    "    \n",
    "    if tmp_scenario in ['random']:\n",
    "        for tmp_model in trials:\n",
    "            ts=tmp_model[3:7]\n",
    "            scenario2model2day2score_v0[tmp_scenario][tmp_model]=defaultdict(list)\n",
    "            for utt in trials[tmp_model]:\n",
    "                test_embd = embds_dict[utt]\n",
    "                result = 1 - spatial.distance.cosine(enrol_embd_dict[tmp_model], test_embd)\n",
    "                if ts == utt[:4]:\n",
    "                    true_score.append(result) \n",
    "                    scenario2model2day2score_v0[tmp_scenario][tmp_model]['true'].append(result)\n",
    "                else:\n",
    "                    false_score.append(result) \n",
    "                    scenario2model2day2score_v0[tmp_scenario][tmp_model]['false'].append(result)\n",
    "    elif tmp_scenario in ['1das','3das','5das','10das']:\n",
    "        for tmp_model in trials:\n",
    "            ts=tmp_model[3:7]\n",
    "            scenario2model2day2score_v0[tmp_scenario][tmp_model]=defaultdict(list)\n",
    "            for day in trials[tmp_model]:\n",
    "                scenario2model2day2score_v0[tmp_scenario][tmp_model][day]=defaultdict(list)\n",
    "                for utt in trials[tmp_model][day]:\n",
    "                    test_embd = embds_dict[utt]\n",
    "                    result = 1 - spatial.distance.cosine(enrol_embd_dict[tmp_model], test_embd)\n",
    "                    if ts == utt[:4]:\n",
    "                        true_score.append(result) \n",
    "                        scenario2model2day2score_v0[tmp_scenario][tmp_model][day]['true'].append(result)\n",
    "                    else:\n",
    "                        false_score.append(result) \n",
    "                        scenario2model2day2score_v0[tmp_scenario][tmp_model][day]['false'].append(result)\n",
    "    elif tmp_scenario in ['1d1s','3d1s','5d1s','10d1s']:\n",
    "        for tmp_round in trials:\n",
    "            scenario2model2day2score_v0[tmp_scenario][tmp_round]=defaultdict(list)\n",
    "            for tmp_model in trials[tmp_round]:\n",
    "                ts=tmp_model[3:7]\n",
    "                scenario2model2day2score_v0[tmp_scenario][tmp_round][tmp_model]=defaultdict(list)\n",
    "                for day in trials[tmp_round][tmp_model]:\n",
    "                    scenario2model2day2score_v0[tmp_scenario][tmp_round][tmp_model][day]=defaultdict(list)\n",
    "                    for utt in trials[tmp_round][tmp_model][day]:\n",
    "                        test_embd = embds_dict[utt]\n",
    "                        result = 1 - spatial.distance.cosine(enrol_embd_dict[tmp_model], test_embd)\n",
    "                        if ts == utt[:4]:\n",
    "                            true_score.append(result) \n",
    "                            scenario2model2day2score_v0[tmp_scenario][tmp_round][tmp_model][day]['true'].append(result)\n",
    "                        else:\n",
    "                            false_score.append(result) \n",
    "                            scenario2model2day2score_v0[tmp_scenario][tmp_round][tmp_model][day]['false'].append(result)\n",
    "\n",
    "    eer_v0, threshold_eer, mindct_v0, threashold_dct = compute_eer(np.array(true_score), np.array(false_score))\n",
    "    eers_v0[tmp_scenario]=eer_v0\n",
    "    mindcts_v0[tmp_scenario]=mindct_v0\n",
    "    print('---- Scenario : %s----'%tmp_scenario)\n",
    "    print('EER: %s, EER_threshold: %s \\nMinDCT: %s, MinDCT_threshold: %s, '%(eer_v0*100,threshold_eer, mindct_v0, threashold_dct))\n",
    "    print(len(true_score),len(false_score))\n",
    "    "
   ]
  },
  {
   "cell_type": "code",
   "execution_count": null,
   "metadata": {},
   "outputs": [],
   "source": []
  },
  {
   "cell_type": "code",
   "execution_count": null,
   "metadata": {},
   "outputs": [],
   "source": []
  },
  {
   "cell_type": "code",
   "execution_count": null,
   "metadata": {},
   "outputs": [],
   "source": []
  },
  {
   "cell_type": "markdown",
   "metadata": {},
   "source": [
    "## FixW-TU  Scoring ( V1 )"
   ]
  },
  {
   "cell_type": "code",
   "execution_count": 18,
   "metadata": {},
   "outputs": [
    {
     "name": "stderr",
     "output_type": "stream",
     "text": [
      " 11%|███████▏                                                         | 1/9 [00:07<01:00,  7.61s/it]"
     ]
    },
    {
     "name": "stdout",
     "output_type": "stream",
     "text": [
      "---- Alpha: 0.05, Scenario : random----\n",
      "EER: 3.064346060219477, EER_threshold: 0.44583582648185094 \n",
      "MinDCT: 0.3554719535531574, MinDCT_threshold: 0.6383059435130687, \n",
      "76819 76819\n"
     ]
    },
    {
     "name": "stderr",
     "output_type": "stream",
     "text": [
      "\r",
      " 22%|██████████████▍                                                  | 2/9 [00:14<00:52,  7.44s/it]"
     ]
    },
    {
     "name": "stdout",
     "output_type": "stream",
     "text": [
      "---- Alpha: 0.05, Scenario : 1das----\n",
      "EER: 1.1685991157252227, EER_threshold: 0.5211724994979267 \n",
      "MinDCT: 0.23686304174872513, MinDCT_threshold: 0.6626917801236984, \n",
      "76673 76673\n"
     ]
    },
    {
     "name": "stderr",
     "output_type": "stream",
     "text": [
      "\r",
      " 33%|█████████████████████▋                                           | 3/9 [00:23<00:47,  7.86s/it]"
     ]
    },
    {
     "name": "stdout",
     "output_type": "stream",
     "text": [
      "---- Alpha: 0.05, Scenario : 3das----\n",
      "EER: 1.5311653116531165, EER_threshold: 0.5037094774929685 \n",
      "MinDCT: 0.22057362240289066, MinDCT_threshold: 0.6549831042549724, \n",
      "88560 88560\n"
     ]
    },
    {
     "name": "stderr",
     "output_type": "stream",
     "text": [
      "\r",
      " 44%|████████████████████████████▉                                    | 4/9 [00:29<00:36,  7.22s/it]"
     ]
    },
    {
     "name": "stdout",
     "output_type": "stream",
     "text": [
      "---- Alpha: 0.05, Scenario : 5das----\n",
      "EER: 1.609944667626772, EER_threshold: 0.49824611765427607 \n",
      "MinDCT: 0.2530129614189343, MinDCT_threshold: 0.6531114679451092, \n",
      "65965 65965\n"
     ]
    },
    {
     "name": "stderr",
     "output_type": "stream",
     "text": [
      "\r",
      " 56%|████████████████████████████████████                             | 5/9 [00:35<00:26,  6.66s/it]"
     ]
    },
    {
     "name": "stdout",
     "output_type": "stream",
     "text": [
      "---- Alpha: 0.05, Scenario : 10das----\n",
      "EER: 2.128479083631979, EER_threshold: 0.47831210505443345 \n",
      "MinDCT: 0.30098469370666847, MinDCT_threshold: 0.6521729795247512, \n",
      "59714 59714\n"
     ]
    },
    {
     "name": "stderr",
     "output_type": "stream",
     "text": [
      "\r",
      " 67%|███████████████████████████████████████████▎                     | 6/9 [00:43<00:21,  7.14s/it]"
     ]
    },
    {
     "name": "stdout",
     "output_type": "stream",
     "text": [
      "---- Alpha: 0.05, Scenario : 1d1s----\n",
      "EER: 1.6193399846508059, EER_threshold: 0.504464766407361 \n",
      "MinDCT: 0.26662829368124835, MinDCT_threshold: 0.6547631808683904, \n",
      "78180 78180\n"
     ]
    },
    {
     "name": "stderr",
     "output_type": "stream",
     "text": [
      "\r",
      " 78%|██████████████████████████████████████████████████▌              | 7/9 [00:52<00:15,  7.77s/it]"
     ]
    },
    {
     "name": "stdout",
     "output_type": "stream",
     "text": [
      "---- Alpha: 0.05, Scenario : 3d1s----\n",
      "EER: 1.7383263985205732, EER_threshold: 0.4947929149157759 \n",
      "MinDCT: 0.2870550161812298, MinDCT_threshold: 0.643785233783581, \n",
      "86520 86520\n"
     ]
    },
    {
     "name": "stderr",
     "output_type": "stream",
     "text": [
      "\r",
      " 89%|█████████████████████████████████████████████████████████▊       | 8/9 [00:59<00:07,  7.46s/it]"
     ]
    },
    {
     "name": "stdout",
     "output_type": "stream",
     "text": [
      "---- Alpha: 0.05, Scenario : 5d1s----\n",
      "EER: 1.9223573433115062, EER_threshold: 0.4879140902691219 \n",
      "MinDCT: 0.29402868724664794, MinDCT_threshold: 0.65364466696043, \n",
      "64140 64140\n"
     ]
    },
    {
     "name": "stderr",
     "output_type": "stream",
     "text": [
      "100%|█████████████████████████████████████████████████████████████████| 9/9 [01:04<00:00,  7.22s/it]\n"
     ]
    },
    {
     "name": "stdout",
     "output_type": "stream",
     "text": [
      "---- Alpha: 0.05, Scenario : 10d1s----\n",
      "EER: 2.2399862472064638, EER_threshold: 0.4741158190691941 \n",
      "MinDCT: 0.3113116726835138, MinDCT_threshold: 0.6416539134572329, \n",
      "58170 58170\n"
     ]
    },
    {
     "name": "stderr",
     "output_type": "stream",
     "text": [
      " 11%|███████▏                                                         | 1/9 [00:07<00:58,  7.35s/it]"
     ]
    },
    {
     "name": "stdout",
     "output_type": "stream",
     "text": [
      "---- Alpha: 0.1, Scenario : random----\n",
      "EER: 2.4785534828623126, EER_threshold: 0.46719423600342913 \n",
      "MinDCT: 0.3142581913328734, MinDCT_threshold: 0.6538125762309162, \n",
      "76819 76819\n"
     ]
    },
    {
     "name": "stderr",
     "output_type": "stream",
     "text": [
      "\r",
      " 22%|██████████████▍                                                  | 2/9 [00:14<00:51,  7.37s/it]"
     ]
    },
    {
     "name": "stdout",
     "output_type": "stream",
     "text": [
      "---- Alpha: 0.1, Scenario : 1das----\n",
      "EER: 1.1581651950491048, EER_threshold: 0.5194513746715624 \n",
      "MinDCT: 0.23202431103517535, MinDCT_threshold: 0.6655423409516492, \n",
      "76673 76673\n"
     ]
    },
    {
     "name": "stderr",
     "output_type": "stream",
     "text": [
      "\r",
      " 33%|█████████████████████▋                                           | 3/9 [00:23<00:47,  7.90s/it]"
     ]
    },
    {
     "name": "stdout",
     "output_type": "stream",
     "text": [
      "---- Alpha: 0.1, Scenario : 3das----\n",
      "EER: 1.4261517615176151, EER_threshold: 0.5057453735109346 \n",
      "MinDCT: 0.20073396567299007, MinDCT_threshold: 0.6558726943581369, \n",
      "88560 88560\n"
     ]
    },
    {
     "name": "stderr",
     "output_type": "stream",
     "text": [
      "\r",
      " 44%|████████████████████████████▉                                    | 4/9 [00:29<00:36,  7.27s/it]"
     ]
    },
    {
     "name": "stdout",
     "output_type": "stream",
     "text": [
      "---- Alpha: 0.1, Scenario : 5das----\n",
      "EER: 1.4022587735920564, EER_threshold: 0.5059456618872256 \n",
      "MinDCT: 0.22630182672629426, MinDCT_threshold: 0.6644930677817602, \n",
      "65965 65965\n"
     ]
    },
    {
     "name": "stderr",
     "output_type": "stream",
     "text": [
      "\r",
      " 56%|████████████████████████████████████                             | 5/9 [00:35<00:26,  6.73s/it]"
     ]
    },
    {
     "name": "stdout",
     "output_type": "stream",
     "text": [
      "---- Alpha: 0.1, Scenario : 10das----\n",
      "EER: 1.6997688984157817, EER_threshold: 0.4949006751177589 \n",
      "MinDCT: 0.2758984492748769, MinDCT_threshold: 0.6549846217634249, \n",
      "59714 59714\n"
     ]
    },
    {
     "name": "stderr",
     "output_type": "stream",
     "text": [
      "\r",
      " 67%|███████████████████████████████████████████▎                     | 6/9 [00:43<00:21,  7.29s/it]"
     ]
    },
    {
     "name": "stdout",
     "output_type": "stream",
     "text": [
      "---- Alpha: 0.1, Scenario : 1d1s----\n",
      "EER: 1.627014581734459, EER_threshold: 0.5022131392052704 \n",
      "MinDCT: 0.27183422870299306, MinDCT_threshold: 0.6545716586880881, \n",
      "78180 78180\n"
     ]
    },
    {
     "name": "stderr",
     "output_type": "stream",
     "text": [
      "\r",
      " 78%|██████████████████████████████████████████████████▌              | 7/9 [00:52<00:15,  7.88s/it]"
     ]
    },
    {
     "name": "stdout",
     "output_type": "stream",
     "text": [
      "---- Alpha: 0.1, Scenario : 3d1s----\n",
      "EER: 1.6805362921867777, EER_threshold: 0.4962670612073007 \n",
      "MinDCT: 0.29366620434581603, MinDCT_threshold: 0.6530388796726543, \n",
      "86520 86520\n"
     ]
    },
    {
     "name": "stderr",
     "output_type": "stream",
     "text": [
      "\r",
      " 89%|█████████████████████████████████████████████████████████▊       | 8/9 [00:59<00:07,  7.42s/it]"
     ]
    },
    {
     "name": "stdout",
     "output_type": "stream",
     "text": [
      "---- Alpha: 0.1, Scenario : 5d1s----\n",
      "EER: 1.7539756782039289, EER_threshold: 0.49296736601782365 \n",
      "MinDCT: 0.28964764577486746, MinDCT_threshold: 0.6569263239445339, \n",
      "64140 64140\n"
     ]
    },
    {
     "name": "stderr",
     "output_type": "stream",
     "text": [
      "100%|█████████████████████████████████████████████████████████████████| 9/9 [01:05<00:00,  7.23s/it]\n"
     ]
    },
    {
     "name": "stdout",
     "output_type": "stream",
     "text": [
      "---- Alpha: 0.1, Scenario : 10d1s----\n",
      "EER: 2.013065153859378, EER_threshold: 0.4824730847625527 \n",
      "MinDCT: 0.2966993295513151, MinDCT_threshold: 0.6493027363741095, \n",
      "58170 58170\n"
     ]
    },
    {
     "name": "stderr",
     "output_type": "stream",
     "text": [
      " 11%|███████▏                                                         | 1/9 [00:08<01:05,  8.17s/it]"
     ]
    },
    {
     "name": "stdout",
     "output_type": "stream",
     "text": [
      "---- Alpha: 0.15, Scenario : random----\n",
      "EER: 2.190864239315794, EER_threshold: 0.4763895845014845 \n",
      "MinDCT: 0.3074499798227001, MinDCT_threshold: 0.6524161831737595, \n",
      "76819 76819\n"
     ]
    },
    {
     "name": "stderr",
     "output_type": "stream",
     "text": [
      "\r",
      " 22%|██████████████▍                                                  | 2/9 [00:15<00:53,  7.67s/it]"
     ]
    },
    {
     "name": "stdout",
     "output_type": "stream",
     "text": [
      "---- Alpha: 0.15, Scenario : 1das----\n",
      "EER: 1.237723840204505, EER_threshold: 0.5134037003419971 \n",
      "MinDCT: 0.2286984988196627, MinDCT_threshold: 0.6564822826659105, \n",
      "76673 76673\n"
     ]
    },
    {
     "name": "stderr",
     "output_type": "stream",
     "text": [
      "\r",
      " 33%|█████████████████████▋                                           | 3/9 [00:24<00:48,  8.10s/it]"
     ]
    },
    {
     "name": "stdout",
     "output_type": "stream",
     "text": [
      "---- Alpha: 0.15, Scenario : 3das----\n",
      "EER: 1.4442186088527553, EER_threshold: 0.5017089506505166 \n",
      "MinDCT: 0.19620596205962057, MinDCT_threshold: 0.6520116135231667, \n",
      "88560 88560\n"
     ]
    },
    {
     "name": "stderr",
     "output_type": "stream",
     "text": [
      "\r",
      " 44%|████████████████████████████▉                                    | 4/9 [00:30<00:36,  7.39s/it]"
     ]
    },
    {
     "name": "stdout",
     "output_type": "stream",
     "text": [
      "---- Alpha: 0.15, Scenario : 5das----\n",
      "EER: 1.3552641552338363, EER_threshold: 0.5044515589161146 \n",
      "MinDCT: 0.22419464867732886, MinDCT_threshold: 0.6681353423017514, \n",
      "65965 65965\n"
     ]
    },
    {
     "name": "stderr",
     "output_type": "stream",
     "text": [
      "\r",
      " 56%|████████████████████████████████████                             | 5/9 [00:36<00:27,  6.77s/it]"
     ]
    },
    {
     "name": "stdout",
     "output_type": "stream",
     "text": [
      "---- Alpha: 0.15, Scenario : 10das----\n",
      "EER: 1.6177110895267441, EER_threshold: 0.4968937021158908 \n",
      "MinDCT: 0.25422848913152696, MinDCT_threshold: 0.6557229559179498, \n",
      "59714 59714\n"
     ]
    },
    {
     "name": "stderr",
     "output_type": "stream",
     "text": [
      "\r",
      " 67%|███████████████████████████████████████████▎                     | 6/9 [00:44<00:22,  7.39s/it]"
     ]
    },
    {
     "name": "stdout",
     "output_type": "stream",
     "text": [
      "---- Alpha: 0.15, Scenario : 1d1s----\n",
      "EER: 1.6935277564594526, EER_threshold: 0.49763909809563256 \n",
      "MinDCT: 0.2793681248401126, MinDCT_threshold: 0.6418944034306, \n",
      "78180 78180\n"
     ]
    },
    {
     "name": "stderr",
     "output_type": "stream",
     "text": [
      "\r",
      " 78%|██████████████████████████████████████████████████▌              | 7/9 [00:53<00:15,  7.88s/it]"
     ]
    },
    {
     "name": "stdout",
     "output_type": "stream",
     "text": [
      "---- Alpha: 0.15, Scenario : 3d1s----\n",
      "EER: 1.7475728155339807, EER_threshold: 0.49362411891344515 \n",
      "MinDCT: 0.2986245954692557, MinDCT_threshold: 0.6525041779593673, \n",
      "86520 86520\n"
     ]
    },
    {
     "name": "stderr",
     "output_type": "stream",
     "text": [
      "\r",
      " 89%|█████████████████████████████████████████████████████████▊       | 8/9 [01:00<00:07,  7.72s/it]"
     ]
    },
    {
     "name": "stdout",
     "output_type": "stream",
     "text": [
      "---- Alpha: 0.15, Scenario : 5d1s----\n",
      "EER: 1.816339257873402, EER_threshold: 0.4897718524877459 \n",
      "MinDCT: 0.29554100405363265, MinDCT_threshold: 0.6480698818917934, \n",
      "64140 64140\n"
     ]
    },
    {
     "name": "stderr",
     "output_type": "stream",
     "text": [
      "100%|█████████████████████████████████████████████████████████████████| 9/9 [01:06<00:00,  7.43s/it]\n"
     ]
    },
    {
     "name": "stdout",
     "output_type": "stream",
     "text": [
      "---- Alpha: 0.15, Scenario : 10d1s----\n",
      "EER: 1.9993123603231906, EER_threshold: 0.48296752782039665 \n",
      "MinDCT: 0.2985043837029397, MinDCT_threshold: 0.6319495010935431, \n",
      "58170 58170\n"
     ]
    },
    {
     "name": "stderr",
     "output_type": "stream",
     "text": [
      " 11%|███████▏                                                         | 1/9 [00:07<00:59,  7.40s/it]"
     ]
    },
    {
     "name": "stdout",
     "output_type": "stream",
     "text": [
      "---- Alpha: 0.2, Scenario : random----\n",
      "EER: 2.0906286205235682, EER_threshold: 0.47861225479798 \n",
      "MinDCT: 0.30711152188911595, MinDCT_threshold: 0.6488880488951463, \n",
      "76819 76819\n"
     ]
    },
    {
     "name": "stderr",
     "output_type": "stream",
     "text": [
      "\r",
      " 22%|██████████████▍                                                  | 2/9 [00:14<00:52,  7.44s/it]"
     ]
    },
    {
     "name": "stdout",
     "output_type": "stream",
     "text": [
      "---- Alpha: 0.2, Scenario : 1das----\n",
      "EER: 1.3303248862050527, EER_threshold: 0.5047283778584207 \n",
      "MinDCT: 0.23074615575235088, MinDCT_threshold: 0.6542427036733757, \n",
      "76673 76673\n"
     ]
    },
    {
     "name": "stderr",
     "output_type": "stream",
     "text": [
      "\r",
      " 33%|█████████████████████▋                                           | 3/9 [00:23<00:47,  7.87s/it]"
     ]
    },
    {
     "name": "stdout",
     "output_type": "stream",
     "text": [
      "---- Alpha: 0.2, Scenario : 3das----\n",
      "EER: 1.5006775067750677, EER_threshold: 0.4952896087734361 \n",
      "MinDCT: 0.1931007226738934, MinDCT_threshold: 0.6430676918601229, \n",
      "88560 88560\n"
     ]
    },
    {
     "name": "stderr",
     "output_type": "stream",
     "text": [
      "\r",
      " 44%|████████████████████████████▉                                    | 4/9 [00:29<00:36,  7.26s/it]"
     ]
    },
    {
     "name": "stdout",
     "output_type": "stream",
     "text": [
      "---- Alpha: 0.2, Scenario : 5das----\n",
      "EER: 1.423482149624801, EER_threshold: 0.49711622691810153 \n",
      "MinDCT: 0.21976805881907072, MinDCT_threshold: 0.643808000695535, \n",
      "65965 65965\n"
     ]
    },
    {
     "name": "stderr",
     "output_type": "stream",
     "text": [
      "\r",
      " 56%|████████████████████████████████████                             | 5/9 [00:35<00:26,  6.69s/it]"
     ]
    },
    {
     "name": "stdout",
     "output_type": "stream",
     "text": [
      "---- Alpha: 0.2, Scenario : 10das----\n",
      "EER: 1.6277589844927487, EER_threshold: 0.4935915365602479 \n",
      "MinDCT: 0.2498744013129249, MinDCT_threshold: 0.672779741071006, \n",
      "59714 59714\n"
     ]
    },
    {
     "name": "stderr",
     "output_type": "stream",
     "text": [
      "\r",
      " 67%|███████████████████████████████████████████▎                     | 6/9 [00:43<00:21,  7.09s/it]"
     ]
    },
    {
     "name": "stdout",
     "output_type": "stream",
     "text": [
      "---- Alpha: 0.2, Scenario : 1d1s----\n",
      "EER: 1.7958557175748273, EER_threshold: 0.4924567545733254 \n",
      "MinDCT: 0.2898567408544384, MinDCT_threshold: 0.6442521222547377, \n",
      "78180 78180\n"
     ]
    },
    {
     "name": "stderr",
     "output_type": "stream",
     "text": [
      "\r",
      " 78%|██████████████████████████████████████████████████▌              | 7/9 [00:52<00:15,  7.98s/it]"
     ]
    },
    {
     "name": "stdout",
     "output_type": "stream",
     "text": [
      "---- Alpha: 0.2, Scenario : 3d1s----\n",
      "EER: 1.833102172907998, EER_threshold: 0.488022849535074 \n",
      "MinDCT: 0.3033633841886269, MinDCT_threshold: 0.6465314635363562, \n",
      "86520 86520\n"
     ]
    },
    {
     "name": "stderr",
     "output_type": "stream",
     "text": [
      "\r",
      " 89%|█████████████████████████████████████████████████████████▊       | 8/9 [00:59<00:07,  7.53s/it]"
     ]
    },
    {
     "name": "stdout",
     "output_type": "stream",
     "text": [
      "---- Alpha: 0.2, Scenario : 5d1s----\n",
      "EER: 1.8896164639850328, EER_threshold: 0.4860815635418454 \n",
      "MinDCT: 0.3055971312753352, MinDCT_threshold: 0.6422249201099174, \n",
      "64140 64140\n"
     ]
    },
    {
     "name": "stderr",
     "output_type": "stream",
     "text": [
      "100%|█████████████████████████████████████████████████████████████████| 9/9 [01:05<00:00,  7.26s/it]\n"
     ]
    },
    {
     "name": "stdout",
     "output_type": "stream",
     "text": [
      "---- Alpha: 0.2, Scenario : 10d1s----\n",
      "EER: 2.033694344163658, EER_threshold: 0.4806524763282436 \n",
      "MinDCT: 0.3064638129620079, MinDCT_threshold: 0.6412885744412963, \n",
      "58170 58170\n"
     ]
    },
    {
     "name": "stderr",
     "output_type": "stream",
     "text": [
      " 11%|███████▏                                                         | 1/9 [00:07<00:59,  7.47s/it]"
     ]
    },
    {
     "name": "stdout",
     "output_type": "stream",
     "text": [
      "---- Alpha: 0.3, Scenario : random----\n",
      "EER: 2.133586742863094, EER_threshold: 0.47353382758777807 \n",
      "MinDCT: 0.3134510993374035, MinDCT_threshold: 0.6386480127272544, \n",
      "76819 76819\n"
     ]
    },
    {
     "name": "stderr",
     "output_type": "stream",
     "text": [
      "\r",
      " 22%|██████████████▍                                                  | 2/9 [00:15<00:52,  7.54s/it]"
     ]
    },
    {
     "name": "stdout",
     "output_type": "stream",
     "text": [
      "---- Alpha: 0.3, Scenario : 1das----\n",
      "EER: 1.5676965815867385, EER_threshold: 0.4868457909828581 \n",
      "MinDCT: 0.2319851838326399, MinDCT_threshold: 0.6365848646871476, \n",
      "76673 76673\n"
     ]
    },
    {
     "name": "stderr",
     "output_type": "stream",
     "text": [
      "\r",
      " 33%|█████████████████████▋                                           | 3/9 [00:23<00:48,  8.09s/it]"
     ]
    },
    {
     "name": "stdout",
     "output_type": "stream",
     "text": [
      "---- Alpha: 0.3, Scenario : 3das----\n",
      "EER: 1.7841011743450768, EER_threshold: 0.4802845633475106 \n",
      "MinDCT: 0.2088075880758808, MinDCT_threshold: 0.63848602801106, \n",
      "88560 88560\n"
     ]
    },
    {
     "name": "stderr",
     "output_type": "stream",
     "text": [
      "\r",
      " 44%|████████████████████████████▉                                    | 4/9 [00:30<00:37,  7.45s/it]"
     ]
    },
    {
     "name": "stdout",
     "output_type": "stream",
     "text": [
      "---- Alpha: 0.3, Scenario : 5das----\n",
      "EER: 1.6493595088304405, EER_threshold: 0.4822860699829272 \n",
      "MinDCT: 0.2155991813840673, MinDCT_threshold: 0.6626279405900707, \n",
      "65965 65965\n"
     ]
    },
    {
     "name": "stderr",
     "output_type": "stream",
     "text": [
      "\r",
      " 56%|████████████████████████████████████                             | 5/9 [00:36<00:27,  6.84s/it]"
     ]
    },
    {
     "name": "stdout",
     "output_type": "stream",
     "text": [
      "---- Alpha: 0.3, Scenario : 10das----\n",
      "EER: 1.7433097766018018, EER_threshold: 0.48208482464805114 \n",
      "MinDCT: 0.23684563084033894, MinDCT_threshold: 0.6625763318284964, \n",
      "59714 59714\n"
     ]
    },
    {
     "name": "stderr",
     "output_type": "stream",
     "text": [
      "\r",
      " 67%|███████████████████████████████████████████▎                     | 6/9 [00:43<00:21,  7.19s/it]"
     ]
    },
    {
     "name": "stdout",
     "output_type": "stream",
     "text": [
      "---- Alpha: 0.3, Scenario : 1d1s----\n",
      "EER: 1.9813251470964441, EER_threshold: 0.47956447777084665 \n",
      "MinDCT: 0.3122026093630085, MinDCT_threshold: 0.63336180351067, \n",
      "78180 78180\n"
     ]
    },
    {
     "name": "stderr",
     "output_type": "stream",
     "text": [
      "\r",
      " 78%|██████████████████████████████████████████████████▌              | 7/9 [00:53<00:16,  8.05s/it]"
     ]
    },
    {
     "name": "stdout",
     "output_type": "stream",
     "text": [
      "---- Alpha: 0.3, Scenario : 3d1s----\n",
      "EER: 2.0434581599630146, EER_threshold: 0.474919564390897 \n",
      "MinDCT: 0.3253698566805363, MinDCT_threshold: 0.636553169019357, \n",
      "86520 86520\n"
     ]
    },
    {
     "name": "stderr",
     "output_type": "stream",
     "text": [
      "\r",
      " 89%|█████████████████████████████████████████████████████████▊       | 8/9 [01:00<00:07,  7.55s/it]"
     ]
    },
    {
     "name": "stdout",
     "output_type": "stream",
     "text": [
      "---- Alpha: 0.3, Scenario : 5d1s----\n",
      "EER: 2.0985344558777674, EER_threshold: 0.4731462298127498 \n",
      "MinDCT: 0.3334112878079202, MinDCT_threshold: 0.6461586565045327, \n",
      "64140 64140\n"
     ]
    },
    {
     "name": "stderr",
     "output_type": "stream",
     "text": [
      "100%|█████████████████████████████████████████████████████████████████| 9/9 [01:06<00:00,  7.35s/it]\n"
     ]
    },
    {
     "name": "stdout",
     "output_type": "stream",
     "text": [
      "---- Alpha: 0.3, Scenario : 10d1s----\n",
      "EER: 2.1729413787175518, EER_threshold: 0.47259668557608636 \n",
      "MinDCT: 0.32784940691077874, MinDCT_threshold: 0.6299571982327189, \n",
      "58170 58170\n"
     ]
    },
    {
     "name": "stderr",
     "output_type": "stream",
     "text": [
      " 11%|███████▏                                                         | 1/9 [00:07<00:58,  7.35s/it]"
     ]
    },
    {
     "name": "stdout",
     "output_type": "stream",
     "text": [
      "---- Alpha: 0.4, Scenario : random----\n",
      "EER: 2.397844283315326, EER_threshold: 0.4616756936178412 \n",
      "MinDCT: 0.33685676720602975, MinDCT_threshold: 0.6353634468037016, \n",
      "76819 76819\n"
     ]
    },
    {
     "name": "stderr",
     "output_type": "stream",
     "text": [
      "\r",
      " 22%|██████████████▍                                                  | 2/9 [00:14<00:52,  7.44s/it]"
     ]
    },
    {
     "name": "stdout",
     "output_type": "stream",
     "text": [
      "---- Alpha: 0.4, Scenario : 1das----\n",
      "EER: 2.296766788830488, EER_threshold: 0.45805204043399783 \n",
      "MinDCT: 0.2524747955603668, MinDCT_threshold: 0.6355663280966231, \n",
      "76673 76673\n"
     ]
    },
    {
     "name": "stderr",
     "output_type": "stream",
     "text": [
      "\r",
      " 33%|█████████████████████▋                                           | 3/9 [00:23<00:47,  7.91s/it]"
     ]
    },
    {
     "name": "stdout",
     "output_type": "stream",
     "text": [
      "---- Alpha: 0.4, Scenario : 3das----\n",
      "EER: 2.261743450767841, EER_threshold: 0.4574016663009448 \n",
      "MinDCT: 0.22964092140921413, MinDCT_threshold: 0.655202010347544, \n",
      "88560 88560\n"
     ]
    },
    {
     "name": "stderr",
     "output_type": "stream",
     "text": [
      "\r",
      " 44%|████████████████████████████▉                                    | 4/9 [00:29<00:36,  7.27s/it]"
     ]
    },
    {
     "name": "stdout",
     "output_type": "stream",
     "text": [
      "---- Alpha: 0.4, Scenario : 5das----\n",
      "EER: 2.0935344500871675, EER_threshold: 0.4630455819897443 \n",
      "MinDCT: 0.2301523535208065, MinDCT_threshold: 0.6553941472234484, \n",
      "65965 65965\n"
     ]
    },
    {
     "name": "stderr",
     "output_type": "stream",
     "text": [
      "\r",
      " 56%|████████████████████████████████████                             | 5/9 [00:35<00:26,  6.66s/it]"
     ]
    },
    {
     "name": "stdout",
     "output_type": "stream",
     "text": [
      "---- Alpha: 0.4, Scenario : 10das----\n",
      "EER: 2.1351776802759823, EER_threshold: 0.46296816987541933 \n",
      "MinDCT: 0.2469102722979536, MinDCT_threshold: 0.6386815911588218, \n",
      "59714 59714\n"
     ]
    },
    {
     "name": "stderr",
     "output_type": "stream",
     "text": [
      "\r",
      " 67%|███████████████████████████████████████████▎                     | 6/9 [00:43<00:21,  7.08s/it]"
     ]
    },
    {
     "name": "stdout",
     "output_type": "stream",
     "text": [
      "---- Alpha: 0.4, Scenario : 1d1s----\n",
      "EER: 2.2115630596060374, EER_threshold: 0.4658447207443003 \n",
      "MinDCT: 0.3325402916346892, MinDCT_threshold: 0.6153869410974041, \n",
      "78180 78180\n"
     ]
    },
    {
     "name": "stderr",
     "output_type": "stream",
     "text": [
      "\r",
      " 78%|██████████████████████████████████████████████████▌              | 7/9 [00:51<00:15,  7.66s/it]"
     ]
    },
    {
     "name": "stdout",
     "output_type": "stream",
     "text": [
      "---- Alpha: 0.4, Scenario : 3d1s----\n",
      "EER: 2.300046232085067, EER_threshold: 0.46045675871008884 \n",
      "MinDCT: 0.34958391123439664, MinDCT_threshold: 0.6290245493262936, \n",
      "86520 86520\n"
     ]
    },
    {
     "name": "stderr",
     "output_type": "stream",
     "text": [
      "\r",
      " 89%|█████████████████████████████████████████████████████████▊       | 8/9 [00:59<00:07,  7.67s/it]"
     ]
    },
    {
     "name": "stdout",
     "output_type": "stream",
     "text": [
      "---- Alpha: 0.4, Scenario : 5d1s----\n",
      "EER: 2.360461490489554, EER_threshold: 0.46075522625036114 \n",
      "MinDCT: 0.3600405363267852, MinDCT_threshold: 0.6375136214165464, \n",
      "64140 64140\n"
     ]
    },
    {
     "name": "stderr",
     "output_type": "stream",
     "text": [
      "100%|█████████████████████████████████████████████████████████████████| 9/9 [01:05<00:00,  7.29s/it]\n"
     ]
    },
    {
     "name": "stdout",
     "output_type": "stream",
     "text": [
      "---- Alpha: 0.4, Scenario : 10d1s----\n",
      "EER: 2.4050197696407083, EER_threshold: 0.4601473503320186 \n",
      "MinDCT: 0.3573835310297404, MinDCT_threshold: 0.6402068402804447, \n",
      "58170 58170\n"
     ]
    },
    {
     "name": "stderr",
     "output_type": "stream",
     "text": [
      " 11%|███████▏                                                         | 1/9 [00:07<00:58,  7.32s/it]"
     ]
    },
    {
     "name": "stdout",
     "output_type": "stream",
     "text": [
      "---- Alpha: 0.5, Scenario : random----\n",
      "EER: 2.7258881266353376, EER_threshold: 0.44736162750135455 \n",
      "MinDCT: 0.35336310027467166, MinDCT_threshold: 0.6313428544526367, \n",
      "76819 76819\n"
     ]
    },
    {
     "name": "stderr",
     "output_type": "stream",
     "text": [
      "\r",
      " 22%|██████████████▍                                                  | 2/9 [00:14<00:51,  7.37s/it]"
     ]
    },
    {
     "name": "stdout",
     "output_type": "stream",
     "text": [
      "---- Alpha: 0.5, Scenario : 1das----\n",
      "EER: 3.0623557184406507, EER_threshold: 0.4347335367590397 \n",
      "MinDCT: 0.2765510675205092, MinDCT_threshold: 0.6295275981156513, \n",
      "76673 76673\n"
     ]
    },
    {
     "name": "stderr",
     "output_type": "stream",
     "text": [
      "\r",
      " 33%|█████████████████████▋                                           | 3/9 [00:23<00:48,  8.03s/it]"
     ]
    },
    {
     "name": "stdout",
     "output_type": "stream",
     "text": [
      "---- Alpha: 0.5, Scenario : 3das----\n",
      "EER: 3.030713640469738, EER_threshold: 0.43418703876579 \n",
      "MinDCT: 0.2513775971093044, MinDCT_threshold: 0.6364608607048166, \n",
      "88560 88560\n"
     ]
    },
    {
     "name": "stderr",
     "output_type": "stream",
     "text": [
      "\r",
      " 44%|████████████████████████████▉                                    | 4/9 [00:29<00:36,  7.33s/it]"
     ]
    },
    {
     "name": "stdout",
     "output_type": "stream",
     "text": [
      "---- Alpha: 0.5, Scenario : 5das----\n",
      "EER: 2.7029485333131205, EER_threshold: 0.44366806657622915 \n",
      "MinDCT: 0.2535738649283711, MinDCT_threshold: 0.6296999997398992, \n",
      "65965 65965\n"
     ]
    },
    {
     "name": "stderr",
     "output_type": "stream",
     "text": [
      "\r",
      " 56%|████████████████████████████████████                             | 5/9 [00:35<00:26,  6.72s/it]"
     ]
    },
    {
     "name": "stdout",
     "output_type": "stream",
     "text": [
      "---- Alpha: 0.5, Scenario : 10das----\n",
      "EER: 2.654318920186221, EER_threshold: 0.4447074265158555 \n",
      "MinDCT: 0.2553505040693974, MinDCT_threshold: 0.6349414368240394, \n",
      "59714 59714\n"
     ]
    },
    {
     "name": "stderr",
     "output_type": "stream",
     "text": [
      "\r",
      " 67%|███████████████████████████████████████████▎                     | 6/9 [00:43<00:21,  7.11s/it]"
     ]
    },
    {
     "name": "stdout",
     "output_type": "stream",
     "text": [
      "---- Alpha: 0.5, Scenario : 1d1s----\n",
      "EER: 2.541570734203121, EER_threshold: 0.45099075539383593 \n",
      "MinDCT: 0.36290611409567664, MinDCT_threshold: 0.6078769375298237, \n",
      "78180 78180\n"
     ]
    },
    {
     "name": "stderr",
     "output_type": "stream",
     "text": [
      "\r",
      " 78%|██████████████████████████████████████████████████▌              | 7/9 [00:52<00:15,  7.67s/it]"
     ]
    },
    {
     "name": "stdout",
     "output_type": "stream",
     "text": [
      "---- Alpha: 0.5, Scenario : 3d1s----\n",
      "EER: 2.777392510402219, EER_threshold: 0.4442189610884293 \n",
      "MinDCT: 0.3777045769764216, MinDCT_threshold: 0.6263129588106932, \n",
      "86520 86520\n"
     ]
    },
    {
     "name": "stderr",
     "output_type": "stream",
     "text": [
      "\r",
      " 89%|█████████████████████████████████████████████████████████▊       | 8/9 [00:58<00:07,  7.28s/it]"
     ]
    },
    {
     "name": "stdout",
     "output_type": "stream",
     "text": [
      "---- Alpha: 0.5, Scenario : 5d1s----\n",
      "EER: 2.720611163080761, EER_threshold: 0.4466104178471677 \n",
      "MinDCT: 0.3792017461802307, MinDCT_threshold: 0.621164300030476, \n",
      "64140 64140\n"
     ]
    },
    {
     "name": "stderr",
     "output_type": "stream",
     "text": [
      "100%|█████████████████████████████████████████████████████████████████| 9/9 [01:05<00:00,  7.32s/it]"
     ]
    },
    {
     "name": "stdout",
     "output_type": "stream",
     "text": [
      "---- Alpha: 0.5, Scenario : 10d1s----\n",
      "EER: 2.680075640364449, EER_threshold: 0.4472871640622963 \n",
      "MinDCT: 0.3735946364105209, MinDCT_threshold: 0.6105346292144689, \n",
      "58170 58170\n"
     ]
    },
    {
     "name": "stderr",
     "output_type": "stream",
     "text": [
      "\n"
     ]
    }
   ],
   "source": [
    "eers_v1=defaultdict(list)\n",
    "mindcts_v1=defaultdict(list)\n",
    "Threshold=0.51\n",
    "\n",
    "for alpha in [0.05,0.1,0.15,0.2,0.3,0.4,0.5]:\n",
    "    scenario2model2day2score_v1[alpha]=defaultdict(list)\n",
    "    eers_v1[alpha]={}\n",
    "    mindcts_v1[alpha]={}\n",
    "    for tmp_scenario in tqdm(['random','1das','3das','5das','10das','1d1s','3d1s','5d1s','10d1s']):\n",
    "        # 0. init\n",
    "        scenario2model2day2score_v1[alpha][tmp_scenario]=defaultdict(list)\n",
    "\n",
    "        # 1. Load trial trajectory and enrollment model\n",
    "        f_read = open('./trials/%s/trial.pkl' %tmp_scenario, 'rb')\n",
    "        trials = pickle.load(f_read)\n",
    "        f_read.close()\n",
    "        enrol_models={i.split()[0]:i.split()[1:] for i in open('./trials/%s/enrol_model'%tmp_scenario)}\n",
    "\n",
    "        # 2. achieve enrol template\n",
    "        enrol_embd_dict={}\n",
    "        for tmp_model in enrol_models:\n",
    "            enrol_embd=np.zeros((1,128))\n",
    "            for utt in enrol_models[tmp_model]:\n",
    "                enrol_embd += embds_dict[utt]\n",
    "\n",
    "#             enrol_embd_dict[tmp_model]=enrol_embd/np.linalg.norm(enrol_embd)\n",
    "            enrol_embd_dict[tmp_model]=enrol_embd\n",
    "        # 3. scoring\n",
    "        true_score=[]\n",
    "        false_score=[]\n",
    "\n",
    "        if tmp_scenario in ['random']:\n",
    "            for tmp_model in trials:\n",
    "                ts=tmp_model[3:7]\n",
    "                scenario2model2day2score_v1[alpha][tmp_scenario][tmp_model]=defaultdict(list)\n",
    "                for utt in trials[tmp_model]:\n",
    "                    test_embd = embds_dict[utt]\n",
    "                    result = 1 - spatial.distance.cosine(enrol_embd_dict[tmp_model], test_embd)\n",
    "                    if ts == utt[:4]:\n",
    "                        true_score.append(result) \n",
    "                        scenario2model2day2score_v1[alpha][tmp_scenario][tmp_model]['true'].append(result)\n",
    "                    else:\n",
    "                        false_score.append(result) \n",
    "                        scenario2model2day2score_v1[alpha][tmp_scenario][tmp_model]['false'].append(result)\n",
    "                    \n",
    "                    if result> Threshold:\n",
    "                        enrol_model = (1-alpha)*enrol_embd_dict[tmp_model] + alpha*test_embd\n",
    "                        enrol_embd_dict[tmp_model] = enrol_model\n",
    "                    \n",
    "        elif tmp_scenario in ['1das','3das','5das','10das']:\n",
    "            for tmp_model in trials:\n",
    "                ts=tmp_model[3:7]\n",
    "                scenario2model2day2score_v1[alpha][tmp_scenario][tmp_model]=defaultdict(list)\n",
    "                for day in trials[tmp_model]:\n",
    "                    scenario2model2day2score_v1[alpha][tmp_scenario][tmp_model][day]=defaultdict(list)\n",
    "                    for utt in trials[tmp_model][day]:\n",
    "                        test_embd = embds_dict[utt]\n",
    "                        result = 1 - spatial.distance.cosine(enrol_embd_dict[tmp_model], test_embd)\n",
    "                        if ts == utt[:4]:\n",
    "                            true_score.append(result) \n",
    "                            scenario2model2day2score_v1[alpha][tmp_scenario][tmp_model][day]['true'].append(result)\n",
    "                        else:\n",
    "                            false_score.append(result) \n",
    "                            scenario2model2day2score_v1[alpha][tmp_scenario][tmp_model][day]['false'].append(result)\n",
    "                        \n",
    "                        if result> Threshold:\n",
    "                            enrol_model = (1-alpha)*enrol_embd_dict[tmp_model] + alpha*test_embd\n",
    "                            enrol_embd_dict[tmp_model] = enrol_model\n",
    "                        \n",
    "        elif tmp_scenario in ['1d1s','3d1s','5d1s','10d1s']:\n",
    "            for tmp_round in trials:\n",
    "                scenario2model2day2score_v1[alpha][tmp_scenario][tmp_round]=defaultdict(list)\n",
    "                for tmp_model in trials[tmp_round]:\n",
    "                    ts=tmp_model[3:7]\n",
    "                    scenario2model2day2score_v1[alpha][tmp_scenario][tmp_round][tmp_model]=defaultdict(list)\n",
    "                    for day in trials[tmp_round][tmp_model]:\n",
    "                        scenario2model2day2score_v1[alpha][tmp_scenario][tmp_round][tmp_model][day]=defaultdict(list)\n",
    "                        for utt in trials[tmp_round][tmp_model][day]:\n",
    "                            test_embd = embds_dict[utt]\n",
    "                            result = 1 - spatial.distance.cosine(enrol_embd_dict[tmp_model], test_embd)\n",
    "                            if ts == utt[:4]:\n",
    "                                true_score.append(result) \n",
    "                                scenario2model2day2score_v1[alpha][tmp_scenario][tmp_round][tmp_model][day]['true'].append(result)\n",
    "                            else:\n",
    "                                false_score.append(result) \n",
    "                                scenario2model2day2score_v1[alpha][tmp_scenario][tmp_round][tmp_model][day]['false'].append(result)\n",
    "                            \n",
    "                            if result> Threshold:\n",
    "                                enrol_model = (1-alpha)*enrol_embd_dict[tmp_model] + alpha*test_embd\n",
    "                                enrol_embd_dict[tmp_model] = enrol_model\n",
    "                                \n",
    "        eer_v1, threshold_eer, mindct_v1, threashold_dct = compute_eer(np.array(true_score), np.array(false_score))\n",
    "        eers_v1[alpha][tmp_scenario]=eer_v1\n",
    "        mindcts_v1[alpha][tmp_scenario]=mindct_v1\n",
    "\n",
    "        print('---- Alpha: %s, Scenario : %s----'%(alpha,tmp_scenario))\n",
    "        print('EER: %s, EER_threshold: %s \\nMinDCT: %s, MinDCT_threshold: %s, '%(eer_v1*100,threshold_eer, mindct_v1, threashold_dct))\n",
    "        print(len(true_score),len(false_score))\n",
    "    "
   ]
  },
  {
   "cell_type": "markdown",
   "metadata": {},
   "source": [
    "## DRL-TU-AdW (V21)"
   ]
  },
  {
   "cell_type": "code",
   "execution_count": 19,
   "metadata": {},
   "outputs": [],
   "source": [
    "import torch.nn as nn\n",
    "import torch\n",
    "import torch.nn.functional as F\n",
    "\n",
    "class Pi_net(nn.Module):\n",
    "    def __init__(self, input_size, hidden_size, output_size):\n",
    "        super(Pi_net, self).__init__()\n",
    "        self.linear1 = nn.Linear(input_size, hidden_size)\n",
    "        self.linear2 = nn.Linear(hidden_size, int(hidden_size/2))\n",
    "        self.mu = nn.Linear(int(hidden_size/2), output_size)\n",
    "        self.sigma = nn.Linear(int(hidden_size/2), output_size)\n",
    "\n",
    "    def forward(self, s):\n",
    "        x = F.relu(self.linear1(s))\n",
    "        x = F.relu(self.linear2(x))\n",
    "        mu = (torch.tanh(self.mu(x))+1)/2\n",
    "        sigma = F.softplus(self.mu(x))\n",
    "        return mu,sigma \n",
    "\n",
    "actor = Pi_net(256, 256, 1) # \n",
    "checkpoint = torch.load('./DRL-TU/egs/exp/DRL-TU-AdW_pretrained/model_final.pkl',map_location='cpu')\n",
    "actor.load_state_dict(checkpoint['pi'],strict=False)\n",
    "actor = actor.to('cuda:3')"
   ]
  },
  {
   "cell_type": "code",
   "execution_count": 43,
   "metadata": {},
   "outputs": [
    {
     "name": "stderr",
     "output_type": "stream",
     "text": [
      " 11%|███████                                                         | 1/9 [02:05<16:43, 125.40s/it]"
     ]
    },
    {
     "name": "stdout",
     "output_type": "stream",
     "text": [
      "---- Scenario : random----\n",
      "EER: 2.082818052825473, EER_threshold: 0.4823680362225973 \n",
      "MinDCT: 0.29384657441518375, MinDCT_threshold: 0.6615565211001295, \n",
      "76819 76819\n"
     ]
    },
    {
     "name": "stderr",
     "output_type": "stream",
     "text": [
      "\r",
      " 22%|██████████████▏                                                 | 2/9 [04:13<14:47, 126.76s/it]"
     ]
    },
    {
     "name": "stdout",
     "output_type": "stream",
     "text": [
      "---- Scenario : 1das----\n",
      "EER: 1.139905833865898, EER_threshold: 0.5213414881064696 \n",
      "MinDCT: 0.2349718936261787, MinDCT_threshold: 0.6590617128272642, \n",
      "76673 76673\n"
     ]
    },
    {
     "name": "stderr",
     "output_type": "stream",
     "text": [
      "\r",
      " 33%|█████████████████████▎                                          | 3/9 [06:40<13:35, 135.97s/it]"
     ]
    },
    {
     "name": "stdout",
     "output_type": "stream",
     "text": [
      "---- Scenario : 3das----\n",
      "EER: 1.335817524841915, EER_threshold: 0.511376880301319 \n",
      "MinDCT: 0.19625112917795845, MinDCT_threshold: 0.6639785445819468, \n",
      "88560 88560\n"
     ]
    },
    {
     "name": "stderr",
     "output_type": "stream",
     "text": [
      "\r",
      " 44%|████████████████████████████▍                                   | 4/9 [08:30<10:29, 125.81s/it]"
     ]
    },
    {
     "name": "stdout",
     "output_type": "stream",
     "text": [
      "---- Scenario : 5das----\n",
      "EER: 1.3158493140301675, EER_threshold: 0.5115842309578706 \n",
      "MinDCT: 0.2251648601531115, MinDCT_threshold: 0.651612206665674, \n",
      "65965 65965\n"
     ]
    },
    {
     "name": "stderr",
     "output_type": "stream",
     "text": [
      "\r",
      " 56%|███████████████████████████████████▌                            | 5/9 [10:11<07:47, 116.92s/it]"
     ]
    },
    {
     "name": "stdout",
     "output_type": "stream",
     "text": [
      "---- Scenario : 10das----\n",
      "EER: 1.4686673141976756, EER_threshold: 0.5067740947497129 \n",
      "MinDCT: 0.2662022306326824, MinDCT_threshold: 0.6677172860769177, \n",
      "59714 59714\n"
     ]
    },
    {
     "name": "stderr",
     "output_type": "stream",
     "text": [
      "\r",
      " 67%|██████████████████████████████████████████▋                     | 6/9 [12:21<06:03, 121.25s/it]"
     ]
    },
    {
     "name": "stdout",
     "output_type": "stream",
     "text": [
      "---- Scenario : 1d1s----\n",
      "EER: 1.6525965720133027, EER_threshold: 0.4984740252439791 \n",
      "MinDCT: 0.27421335379892553, MinDCT_threshold: 0.6432642569282556, \n",
      "78180 78180\n"
     ]
    },
    {
     "name": "stderr",
     "output_type": "stream",
     "text": [
      "\r",
      " 78%|█████████████████████████████████████████████████▊              | 7/9 [14:43<04:16, 128.20s/it]"
     ]
    },
    {
     "name": "stdout",
     "output_type": "stream",
     "text": [
      "---- Scenario : 3d1s----\n",
      "EER: 2.2850208044382803, EER_threshold: 0.4704318783768252 \n",
      "MinDCT: 0.31716366158113735, MinDCT_threshold: 0.6396442849019088, \n",
      "86520 86520\n"
     ]
    },
    {
     "name": "stderr",
     "output_type": "stream",
     "text": [
      "\r",
      " 89%|████████████████████████████████████████████████████████▉       | 8/9 [16:27<02:00, 120.51s/it]"
     ]
    },
    {
     "name": "stdout",
     "output_type": "stream",
     "text": [
      "---- Scenario : 5d1s----\n",
      "EER: 2.513252260679763, EER_threshold: 0.4621256025759285 \n",
      "MinDCT: 0.3482850015590895, MinDCT_threshold: 0.6146218808433515, \n",
      "64140 64140\n"
     ]
    },
    {
     "name": "stderr",
     "output_type": "stream",
     "text": [
      "100%|████████████████████████████████████████████████████████████████| 9/9 [18:00<00:00, 120.10s/it]"
     ]
    },
    {
     "name": "stdout",
     "output_type": "stream",
     "text": [
      "---- Scenario : 10d1s----\n",
      "EER: 2.7815024926938285, EER_threshold: 0.4497328181702912 \n",
      "MinDCT: 0.3636926250644662, MinDCT_threshold: 0.6211127157449158, \n",
      "58170 58170\n"
     ]
    },
    {
     "name": "stderr",
     "output_type": "stream",
     "text": [
      "\n"
     ]
    }
   ],
   "source": [
    "eers_v21={}\n",
    "mindcts_v21={}\n",
    "Threshold=0.51\n",
    "visual=False\n",
    "\n",
    "for tmp_scenario in tqdm(['random','1das','3das','5das','10das','1d1s','3d1s','5d1s','10d1s']):\n",
    "# for tmp_scenario in tqdm(['random']):\n",
    "    # 0. init\n",
    "    scenario2model2day2score_v21[tmp_scenario]=defaultdict(list)\n",
    "    \n",
    "    # 1. Load trial trajectory and enrollment model\n",
    "    f_read = open('./trials/%s/trial.pkl' %tmp_scenario, 'rb')\n",
    "    trials = pickle.load(f_read)\n",
    "    f_read.close()\n",
    "    enrol_models={i.split()[0]:i.split()[1:] for i in open('./trials/%s/enrol_model'%tmp_scenario)}\n",
    "    \n",
    "    # 2. achieve enrol template\n",
    "    enrol_embd_dict={}\n",
    "    for tmp_model in enrol_models:\n",
    "        enrol_embd=np.zeros((1,128))\n",
    "        for utt in enrol_models[tmp_model]:\n",
    "            enrol_embd += embds_dict[utt]\n",
    "\n",
    "#         enrol_embd_dict[tmp_model]=enrol_embd/np.linalg.norm(enrol_embd)\n",
    "        enrol_embd_dict[tmp_model]=enrol_embd/5\n",
    "    # 3. scoring\n",
    "    true_score=[]\n",
    "    false_score=[]\n",
    "    \n",
    "    if tmp_scenario in ['random']:\n",
    "        for tmp_model in trials:\n",
    "            enrol_embd = enrol_embd_dict[tmp_model]\n",
    "            ts=tmp_model[3:7]\n",
    "            scenario2model2day2score_v21[tmp_scenario][tmp_model]=defaultdict(list)\n",
    "            for utt in trials[tmp_model]:\n",
    "                test_embd = embds_dict[utt]\n",
    "                \n",
    "                result = 1 - spatial.distance.cosine(enrol_embd, test_embd)\n",
    "                \n",
    "                if ts == utt[:4]:\n",
    "                    true_score.append(result) \n",
    "                    scenario2model2day2score_v21[tmp_scenario][tmp_model]['true'].append(result)\n",
    "                else:\n",
    "                    false_score.append(result) \n",
    "                    scenario2model2day2score_v21[tmp_scenario][tmp_model]['false'].append(result)\n",
    "                    \n",
    "                if result> Threshold:\n",
    "                    enrol_embd = enrol_embd/np.linalg.norm(enrol_embd)\n",
    "                    test_embd = test_embd/np.linalg.norm(test_embd)\n",
    "                    \n",
    "                    observation = np.concatenate((enrol_embd,test_embd),axis=1)\n",
    "                    observation = torch.from_numpy(observation.astype('float32'))\n",
    "                    observation = observation.to('cuda:3')\n",
    "                    mu,sigma = actor(observation)\n",
    "                    action_value = mu\n",
    "                    action_value = action_value.cpu().detach().cpu().numpy()[0][0]\n",
    "                    if visual: print(utt,ts,result,action_value)\n",
    "                    enrol_embd = (1-action_value)*enrol_embd + action_value*test_embd\n",
    "                    \n",
    "    elif tmp_scenario in ['1das','3das','5das','10das']:\n",
    "        for tmp_model in trials:\n",
    "            enrol_embd = enrol_embd_dict[tmp_model]\n",
    "            ts=tmp_model[3:7]\n",
    "            scenario2model2day2score_v21[tmp_scenario][tmp_model]=defaultdict(list)\n",
    "            for day in trials[tmp_model]:\n",
    "                scenario2model2day2score_v21[tmp_scenario][tmp_model][day]=defaultdict(list)\n",
    "                for utt in trials[tmp_model][day]:\n",
    "                    test_embd = embds_dict[utt]\n",
    "                    \n",
    "                    result = 1 - spatial.distance.cosine(enrol_embd, test_embd)\n",
    "                    if ts == utt[:4]:\n",
    "                        true_score.append(result) \n",
    "                        scenario2model2day2score_v21[tmp_scenario][tmp_model][day]['true'].append(result)\n",
    "                    else:\n",
    "                        false_score.append(result) \n",
    "                        scenario2model2day2score_v21[tmp_scenario][tmp_model][day]['false'].append(result)\n",
    "                        \n",
    "                    if result> Threshold:\n",
    "                        enrol_embd = enrol_embd/np.linalg.norm(enrol_embd)\n",
    "                        test_embd = test_embd/np.linalg.norm(test_embd)\n",
    "                        \n",
    "                        observation = np.concatenate((enrol_embd,test_embd),axis=1)\n",
    "                        observation = torch.from_numpy(observation.astype('float32'))\n",
    "                        observation = observation.to('cuda:3')\n",
    "                        mu,sigma = actor(observation)\n",
    "                        action_value = mu\n",
    "                        action_value = action_value.cpu().detach().cpu().numpy()[0][0]\n",
    "                        if visual: print(utt,ts,result,action_value)\n",
    "                        enrol_embd = (1-action_value)*enrol_embd + action_value*test_embd\n",
    "                        \n",
    "    elif tmp_scenario in ['1d1s','3d1s','5d1s','10d1s']:\n",
    "        for tmp_round in trials:\n",
    "            scenario2model2day2score_v21[tmp_scenario][tmp_round]=defaultdict(list)\n",
    "            for tmp_model in trials[tmp_round]:\n",
    "                enrol_embd = enrol_embd_dict[tmp_model]\n",
    "                ts=tmp_model[3:7]\n",
    "                scenario2model2day2score_v21[tmp_scenario][tmp_round][tmp_model]=defaultdict(list)\n",
    "                for day in trials[tmp_round][tmp_model]:\n",
    "                    scenario2model2day2score_v21[tmp_scenario][tmp_round][tmp_model][day]=defaultdict(list)\n",
    "                    for utt in trials[tmp_round][tmp_model][day]:\n",
    "                        test_embd = embds_dict[utt]\n",
    "                        \n",
    "                        result = 1 - spatial.distance.cosine(enrol_embd, test_embd)\n",
    "                        if ts == utt[:4]:\n",
    "                            true_score.append(result) \n",
    "                            scenario2model2day2score_v21[tmp_scenario][tmp_round][tmp_model][day]['true'].append(result)\n",
    "                        else:\n",
    "                            false_score.append(result) \n",
    "                            scenario2model2day2score_v21[tmp_scenario][tmp_round][tmp_model][day]['false'].append(result)\n",
    "                            \n",
    "                        if result> Threshold:\n",
    "                            enrol_embd = enrol_embd/np.linalg.norm(enrol_embd)\n",
    "                            test_embd = test_embd/np.linalg.norm(test_embd)\n",
    "                            \n",
    "                            observation = np.concatenate((enrol_embd,test_embd),axis=1)\n",
    "                            observation = torch.from_numpy(observation.astype('float32'))\n",
    "                            observation = observation.to('cuda:3')\n",
    "                            mu,sigma = actor(observation)\n",
    "                            action_value = mu\n",
    "                            action_value = action_value.cpu().detach().cpu().numpy()[0][0]\n",
    "                            if visual: print(utt,ts,result,action_value)\n",
    "                            enrol_embd = (1-action_value)*enrol_embd + action_value*test_embd\n",
    "\n",
    "    eer_v21, threshold_eer, mindct_v21, threashold_dct = compute_eer(np.array(true_score), np.array(false_score))\n",
    "    eers_v21[tmp_scenario]=eer_v21\n",
    "    mindcts_v21[tmp_scenario]=mindct_v21\n",
    "    print('---- Scenario : %s----'%tmp_scenario)\n",
    "    print('EER: %s, EER_threshold: %s \\nMinDCT: %s, MinDCT_threshold: %s, '%(eer_v21*100,threshold_eer, mindct_v21, threashold_dct))\n",
    "    print(len(true_score),len(false_score))\n",
    "    "
   ]
  },
  {
   "cell_type": "code",
   "execution_count": 36,
   "metadata": {},
   "outputs": [
    {
     "name": "stdout",
     "output_type": "stream",
     "text": [
      "0.5 0.037412619273877554\n",
      "0.05 0.03064346060219477\n",
      "0.1 0.024785534828623126\n",
      "0.15 0.021908642393157943\n",
      "0.2 0.020906286205235682\n",
      "0.3 0.021335867428630938\n",
      "0.4 0.023978442833153257\n",
      "0.5 0.027258881266353376\n"
     ]
    }
   ],
   "source": [
    "print(,eers_v0['random'])\n",
    "for alpha in eers_v1:\n",
    "    print(alpha,eers_v1[alpha]['random'])"
   ]
  },
  {
   "cell_type": "code",
   "execution_count": 33,
   "metadata": {},
   "outputs": [
    {
     "data": {
      "image/png": "[encoded data removed]",
      "text/plain": [
       "<Figure size 640x480 with 1 Axes>"
      ]
     },
     "metadata": {},
     "output_type": "display_data"
    }
   ],
   "source": [
    "import matplotlib.pyplot as plt\n",
    "_ = plt.hist(true_score,bins=100,alpha=0.3)\n",
    "_ = plt.hist(false_score,bins=100,alpha=0.3)"
   ]
  },
  {
   "cell_type": "markdown",
   "metadata": {},
   "source": [
    "## DRL-TU-MH (V22)"
   ]
  },
  {
   "cell_type": "code",
   "execution_count": 37,
   "metadata": {},
   "outputs": [],
   "source": [
    "import torch.nn as nn\n",
    "import torch\n",
    "import torch.nn.functional as F\n",
    "\n",
    "def init(module, weight_init, bias_init, gain=1):\n",
    "    weight_init(module.weight.data, gain=gain)\n",
    "    bias_init(module.bias.data)\n",
    "    return module\n",
    "\n",
    "class AddBias(nn.Module):\n",
    "    def __init__(self, bias):\n",
    "        super(AddBias, self).__init__()\n",
    "        self._bias = nn.Parameter(bias.unsqueeze(1))\n",
    "\n",
    "    def forward(self, x):\n",
    "        bias = self._bias.t().view(1, -1)\n",
    "        return x + bias\n",
    "\n",
    "#Categorical\n",
    "class FixedCategorical(torch.distributions.Categorical):\n",
    "    def sample(self):\n",
    "        return super().sample().unsqueeze(-1)\n",
    "\n",
    "    def log_probs(self, actions):\n",
    "        return super().log_prob(actions.squeeze(-1)).view(actions.size(0), -1).sum(-1).unsqueeze(-1)\n",
    "\n",
    "    def entropy(self):\n",
    "        p = self.probs.masked_fill(self.probs <= 0, 1)\n",
    "        return -1 * p.mul(p.log()).sum(-1)\n",
    "\n",
    "    def mode(self):\n",
    "        return self.probs.argmax(dim=-1, keepdim=True)\n",
    "\n",
    "class Categorical(nn.Module):\n",
    "    def __init__(self, num_inputs, num_outputs):\n",
    "        super(Categorical, self).__init__()\n",
    "\n",
    "        init_ = lambda m: init(\n",
    "            m, nn.init.orthogonal_, lambda x: nn.init.constant_(x, 0), gain=0.01\n",
    "        )\n",
    "\n",
    "        self.linear = init_(nn.Linear(num_inputs, num_outputs))\n",
    "\n",
    "    def forward(self, x, mask=None):\n",
    "        x = self.linear(x)\n",
    "        if mask is not None:\n",
    "            return FixedCategorical(logits=x + torch.log(mask))\n",
    "        else:\n",
    "            return FixedCategorical(logits=x)\n",
    "\n",
    "#Normal\n",
    "class FixedNormal(torch.distributions.Normal):\n",
    "    def log_probs(self, actions):\n",
    "        return super().log_prob(actions).sum(-1, keepdim=True)\n",
    "\n",
    "    def entropy(self):\n",
    "        return super().entropy().sum(-1)\n",
    "\n",
    "    def mode(self):\n",
    "        return self.mean\n",
    "\n",
    "class DiagGaussian(nn.Module):\n",
    "    def __init__(self, num_inputs, num_outputs):\n",
    "        super(DiagGaussian, self).__init__()\n",
    "\n",
    "        init_ = lambda m: init(m, nn.init.orthogonal_, lambda x: nn.init.\n",
    "                               constant_(x, 0))\n",
    "\n",
    "        self.fc_mean = init_(nn.Linear(num_inputs, num_outputs))\n",
    "#         desired_init_log_std = -0.693471 #exp(..) ~= 0.5\n",
    "#         desired_init_log_std = -1.609437 #exp(..) ~=0.2\n",
    "        desired_init_log_std = -2.302585 #exp(..) ~=0.1\n",
    "        \n",
    "        self.logstd = AddBias(desired_init_log_std * torch.ones(num_outputs)) #so no state-dependent sigma\n",
    "\n",
    "    def forward(self, x, mask=None):\n",
    "        action_mean = self.fc_mean(x)\n",
    "#         print('action_mean',action_mean.shape,x.shape)\n",
    "        zeros = torch.zeros(action_mean.size())\n",
    "        if x.is_cuda:\n",
    "            zeros = zeros.to('cuda:3')\n",
    "\n",
    "        action_logstd = self.logstd(zeros)\n",
    "        return FixedNormal(action_mean, action_logstd.exp())\n",
    "\n",
    "class ActionHead(nn.Module):\n",
    "    def __init__(self, input_dim, output_dim, type=\"categorical\"):\n",
    "        super(ActionHead, self).__init__()\n",
    "        self.input_dim = input_dim\n",
    "        self.output_dim = output_dim\n",
    "        self.type = type\n",
    "        if type == \"categorical\":\n",
    "            self.distribution = Categorical(num_inputs=input_dim, num_outputs=output_dim)\n",
    "        elif type == \"normal\":\n",
    "            self.distribution = DiagGaussian(num_inputs=input_dim, num_outputs=output_dim)\n",
    "        else:\n",
    "            raise NotImplementedError\n",
    "\n",
    "    def forward(self, input, mask):\n",
    "        if self.type == \"normal\":\n",
    "            return self.distribution(input)\n",
    "        else:\n",
    "            return self.distribution(input, mask)\n",
    "        \n",
    "class Pi_net_mh(nn.Module):\n",
    "    def __init__(self, input_size, hidden_size):\n",
    "        super(Pi_net_mh, self).__init__()\n",
    "        self.linear1 = nn.Linear(input_size, hidden_size)\n",
    "        self.linear2 = nn.Linear(hidden_size, int(hidden_size/2))\n",
    "        self.action_heads = nn.ModuleList()\n",
    "        self.action_heads.append(ActionHead(int(hidden_size/2), 2, type='categorical'))\n",
    "        self.action_heads.append(ActionHead(int(hidden_size/2)+1, 1, type='normal'))\n",
    "        \n",
    "    def forward(self, s, deterministic=False):\n",
    "        x = F.relu(self.linear1(s))\n",
    "        x = F.relu(self.linear2(x))\n",
    "        \n",
    "        action_outputs=[]\n",
    "        head_outputs=[]\n",
    "        head_outputs.append(x)\n",
    "        action_type_dist = self.action_heads[0](x,mask=None)\n",
    "        if deterministic:\n",
    "            action_type = action_type_dist.mode()\n",
    "        else:\n",
    "            action_type = action_type_dist.sample()\n",
    "            \n",
    "        head_outputs.append(action_type)\n",
    "        action_outputs.append(action_type)\n",
    "        head_output = torch.cat(head_outputs, dim=-1)\n",
    "\n",
    "        head_dist = self.action_heads[1](head_output,mask=None)\n",
    "        \n",
    "        if deterministic:\n",
    "            head_action = head_dist.mode()\n",
    "        else:\n",
    "            head_action = head_dist.rsample()\n",
    "        \n",
    "        action_outputs.append(head_action)\n",
    "\n",
    "        joint_action_log_prob = action_type_dist.log_probs(action_type)\n",
    "        entropy = action_type_dist.entropy().mean()\n",
    "        \n",
    "        joint_action_log_prob += head_dist.log_probs(head_action)\n",
    "\n",
    "        entropy += head_dist.entropy().mean()\n",
    "        action_outputs = torch.cat(action_outputs,dim=-1)\n",
    "        return action_outputs, joint_action_log_prob, entropy\n",
    "    \n",
    "actor_mh = Pi_net_mh(256, 256)\n",
    "checkpoint = torch.load('./DRL-TU/egs/exp/DRL-TU-MH_pretrained/model_final.pkl',map_location='cpu')\n",
    "actor_mh.load_state_dict(checkpoint['pi'])\n",
    "actor_mh = actor_mh.to('cuda:3')"
   ]
  },
  {
   "cell_type": "code",
   "execution_count": null,
   "metadata": {},
   "outputs": [
    {
     "name": "stderr",
     "output_type": "stream",
     "text": [
      "  0%|                                                                         | 0/9 [00:00<?, ?it/s]\n",
      "  0%|                                                                      | 0/1740 [00:00<?, ?it/s]\u001b[A\n",
      "  0%|                                                              | 1/1740 [00:00<12:09,  2.38it/s]\u001b[A\n",
      "  0%|                                                              | 2/1740 [00:00<12:48,  2.26it/s]\u001b[A\n",
      "  0%|                                                              | 3/1740 [00:01<12:31,  2.31it/s]\u001b[A\n",
      "  0%|▏                                                             | 4/1740 [00:01<12:02,  2.40it/s]\u001b[A\n",
      "  0%|▏                                                             | 5/1740 [00:02<12:45,  2.27it/s]\u001b[A\n",
      "  0%|▏                                                             | 6/1740 [00:02<12:54,  2.24it/s]\u001b[A\n",
      "  0%|▏                                                             | 7/1740 [00:02<10:37,  2.72it/s]\u001b[A\n",
      "  0%|▎                                                             | 8/1740 [00:03<11:48,  2.44it/s]\u001b[A\n",
      "  1%|▎                                                             | 9/1740 [00:03<12:22,  2.33it/s]\u001b[A\n",
      "  1%|▎                                                            | 10/1740 [00:04<12:05,  2.39it/s]\u001b[A\n",
      "  1%|▍                                                            | 11/1740 [00:04<13:58,  2.06it/s]\u001b[A\n",
      "  1%|▍                                                            | 12/1740 [00:05<13:49,  2.08it/s]\u001b[A\n",
      "  1%|▍                                                            | 13/1740 [00:05<14:07,  2.04it/s]\u001b[A\n",
      "  1%|▍                                                            | 14/1740 [00:06<13:21,  2.15it/s]\u001b[A\n",
      "  1%|▌                                                            | 15/1740 [00:06<11:37,  2.47it/s]\u001b[A\n",
      "  1%|▌                                                            | 16/1740 [00:06<11:41,  2.46it/s]\u001b[A\n",
      "  1%|▌                                                            | 17/1740 [00:07<12:37,  2.28it/s]\u001b[A\n",
      "  1%|▋                                                            | 18/1740 [00:07<12:25,  2.31it/s]\u001b[A\n",
      "  1%|▋                                                            | 19/1740 [00:08<14:30,  1.98it/s]\u001b[A\n",
      "  1%|▋                                                            | 20/1740 [00:08<13:26,  2.13it/s]\u001b[A\n",
      "  1%|▋                                                            | 21/1740 [00:09<12:34,  2.28it/s]\u001b[A\n",
      "  1%|▊                                                            | 22/1740 [00:09<12:25,  2.31it/s]\u001b[A\n",
      "  1%|▊                                                            | 23/1740 [00:10<12:55,  2.22it/s]\u001b[A\n",
      "  1%|▊                                                            | 24/1740 [00:10<13:05,  2.18it/s]\u001b[A\n",
      "  1%|▉                                                            | 25/1740 [00:11<13:44,  2.08it/s]\u001b[A\n",
      "  1%|▉                                                            | 26/1740 [00:11<13:13,  2.16it/s]\u001b[A\n",
      "  2%|▉                                                            | 27/1740 [00:12<14:26,  1.98it/s]\u001b[A\n",
      "  2%|▉                                                            | 28/1740 [00:12<13:47,  2.07it/s]\u001b[A\n",
      "  2%|█                                                            | 29/1740 [00:12<12:31,  2.28it/s]\u001b[A\n",
      "  2%|█                                                            | 30/1740 [00:13<12:50,  2.22it/s]\u001b[A\n",
      "  2%|█                                                            | 31/1740 [00:13<13:08,  2.17it/s]\u001b[A\n",
      "  2%|█                                                            | 32/1740 [00:14<13:15,  2.15it/s]\u001b[A\n",
      "  2%|█▏                                                           | 33/1740 [00:14<12:47,  2.22it/s]\u001b[A\n",
      "  2%|█▏                                                           | 34/1740 [00:15<12:25,  2.29it/s]\u001b[A\n",
      "  2%|█▏                                                           | 35/1740 [00:15<13:16,  2.14it/s]\u001b[A\n",
      "  2%|█▎                                                           | 36/1740 [00:16<13:17,  2.14it/s]\u001b[A\n",
      "  2%|█▎                                                           | 37/1740 [00:16<13:38,  2.08it/s]\u001b[A\n",
      "  2%|█▎                                                           | 38/1740 [00:17<14:52,  1.91it/s]\u001b[A\n",
      "  2%|█▎                                                           | 39/1740 [00:17<13:08,  2.16it/s]\u001b[A\n",
      "  2%|█▍                                                           | 40/1740 [00:18<12:44,  2.22it/s]\u001b[A\n",
      "  2%|█▍                                                           | 41/1740 [00:18<11:54,  2.38it/s]\u001b[A\n",
      "  2%|█▍                                                           | 42/1740 [00:18<09:56,  2.85it/s]\u001b[A\n",
      "  2%|█▌                                                           | 43/1740 [00:19<10:23,  2.72it/s]\u001b[A\n",
      "  3%|█▌                                                           | 44/1740 [00:19<11:00,  2.57it/s]\u001b[A\n",
      "  3%|█▌                                                           | 45/1740 [00:20<12:03,  2.34it/s]\u001b[A\n",
      "  3%|█▌                                                           | 46/1740 [00:20<11:52,  2.38it/s]\u001b[A\n",
      "  3%|█▋                                                           | 47/1740 [00:20<11:01,  2.56it/s]\u001b[A\n",
      "  3%|█▋                                                           | 48/1740 [00:21<12:57,  2.18it/s]\u001b[A\n",
      "  3%|█▋                                                           | 49/1740 [00:21<13:53,  2.03it/s]\u001b[A\n",
      "  3%|█▊                                                           | 50/1740 [00:22<13:46,  2.04it/s]\u001b[A\n",
      "  3%|█▊                                                           | 51/1740 [00:22<13:15,  2.12it/s]\u001b[A\n",
      "  3%|█▊                                                           | 52/1740 [00:23<13:40,  2.06it/s]\u001b[A\n",
      "  3%|█▊                                                           | 53/1740 [00:23<14:14,  1.97it/s]\u001b[A\n",
      "  3%|█▉                                                           | 54/1740 [00:24<15:44,  1.78it/s]\u001b[A\n",
      "  3%|█▉                                                           | 55/1740 [00:25<15:24,  1.82it/s]\u001b[A\n",
      "  3%|█▉                                                           | 56/1740 [00:25<14:22,  1.95it/s]\u001b[A\n",
      "  3%|█▉                                                           | 57/1740 [00:26<13:48,  2.03it/s]\u001b[A\n",
      "  3%|██                                                           | 58/1740 [00:26<13:40,  2.05it/s]\u001b[A\n",
      "  3%|██                                                           | 59/1740 [00:26<13:02,  2.15it/s]\u001b[A\n",
      "  3%|██                                                           | 60/1740 [00:27<12:58,  2.16it/s]\u001b[A\n",
      "  4%|██▏                                                          | 61/1740 [00:27<14:13,  1.97it/s]\u001b[A\n",
      "  4%|██▏                                                          | 62/1740 [00:28<13:53,  2.01it/s]\u001b[A\n",
      "  4%|██▏                                                          | 63/1740 [00:28<13:42,  2.04it/s]\u001b[A\n",
      "  4%|██▏                                                          | 64/1740 [00:29<13:04,  2.14it/s]\u001b[A\n",
      "  4%|██▎                                                          | 65/1740 [00:29<12:44,  2.19it/s]\u001b[A\n",
      "  4%|██▎                                                          | 66/1740 [00:30<13:17,  2.10it/s]\u001b[A\n",
      "  4%|██▎                                                          | 67/1740 [00:30<13:28,  2.07it/s]\u001b[A\n",
      "  4%|██▍                                                          | 68/1740 [00:31<12:41,  2.20it/s]\u001b[A\n",
      "  4%|██▍                                                          | 69/1740 [00:31<13:20,  2.09it/s]\u001b[A\n",
      "  4%|██▍                                                          | 70/1740 [00:32<13:09,  2.11it/s]\u001b[A\n",
      "  4%|██▍                                                          | 71/1740 [00:32<13:06,  2.12it/s]\u001b[A\n",
      "  4%|██▌                                                          | 72/1740 [00:33<12:35,  2.21it/s]\u001b[A\n",
      "  4%|██▌                                                          | 73/1740 [00:33<12:53,  2.15it/s]\u001b[A\n",
      "  4%|██▌                                                          | 74/1740 [00:34<12:52,  2.16it/s]\u001b[A\n",
      "  4%|██▋                                                          | 75/1740 [00:34<12:30,  2.22it/s]\u001b[A\n",
      "  4%|██▋                                                          | 76/1740 [00:34<12:25,  2.23it/s]\u001b[A\n"
     ]
    },
    {
     "name": "stderr",
     "output_type": "stream",
     "text": [
      "  4%|██▋                                                          | 77/1740 [00:35<12:05,  2.29it/s]\u001b[A\n",
      "  4%|██▋                                                          | 78/1740 [00:35<12:31,  2.21it/s]\u001b[A\n",
      "  5%|██▊                                                          | 79/1740 [00:36<13:01,  2.12it/s]\u001b[A\n",
      "  5%|██▊                                                          | 80/1740 [00:36<12:56,  2.14it/s]\u001b[A\n",
      "  5%|██▊                                                          | 81/1740 [00:36<10:01,  2.76it/s]\u001b[A\n",
      "  5%|██▊                                                          | 82/1740 [00:37<10:29,  2.64it/s]\u001b[A\n",
      "  5%|██▉                                                          | 83/1740 [00:37<10:36,  2.60it/s]\u001b[A\n",
      "  5%|██▉                                                          | 84/1740 [00:38<11:39,  2.37it/s]\u001b[A\n",
      "  5%|██▉                                                          | 85/1740 [00:38<11:41,  2.36it/s]\u001b[A\n",
      "  5%|███                                                          | 86/1740 [00:39<13:12,  2.09it/s]\u001b[A\n",
      "  5%|███                                                          | 87/1740 [00:39<13:01,  2.12it/s]\u001b[A\n",
      "  5%|███                                                          | 88/1740 [00:40<13:22,  2.06it/s]\u001b[A\n",
      "  5%|███                                                          | 89/1740 [00:40<13:17,  2.07it/s]\u001b[A\n",
      "  5%|███▏                                                         | 90/1740 [00:41<13:11,  2.08it/s]\u001b[A\n",
      "  5%|███▏                                                         | 91/1740 [00:41<12:53,  2.13it/s]\u001b[A\n",
      "  5%|███▏                                                         | 92/1740 [00:42<13:26,  2.04it/s]\u001b[A\n",
      "  5%|███▎                                                         | 93/1740 [00:42<12:51,  2.13it/s]\u001b[A\n",
      "  5%|███▎                                                         | 94/1740 [00:43<12:49,  2.14it/s]\u001b[A\n",
      "  5%|███▎                                                         | 95/1740 [00:43<12:15,  2.24it/s]\u001b[A\n",
      "  6%|███▎                                                         | 96/1740 [00:43<13:01,  2.10it/s]\u001b[A\n",
      "  6%|███▍                                                         | 97/1740 [00:44<12:56,  2.12it/s]\u001b[A\n",
      "  6%|███▍                                                         | 98/1740 [00:44<10:15,  2.67it/s]\u001b[A\n",
      "  6%|███▍                                                         | 99/1740 [00:45<11:19,  2.42it/s]\u001b[A\n",
      "  6%|███▍                                                        | 100/1740 [00:45<13:51,  1.97it/s]\u001b[A\n",
      "  6%|███▍                                                        | 101/1740 [00:46<12:35,  2.17it/s]\u001b[A\n",
      "  6%|███▌                                                        | 102/1740 [00:46<11:53,  2.29it/s]\u001b[A\n",
      "  6%|███▌                                                        | 103/1740 [00:46<12:04,  2.26it/s]\u001b[A\n",
      "  6%|███▌                                                        | 104/1740 [00:47<11:18,  2.41it/s]\u001b[A\n",
      "  6%|███▌                                                        | 105/1740 [00:47<11:46,  2.31it/s]\u001b[A\n",
      "  6%|███▋                                                        | 106/1740 [00:48<12:52,  2.11it/s]\u001b[A\n",
      "  6%|███▋                                                        | 107/1740 [00:48<14:08,  1.92it/s]\u001b[A\n",
      "  6%|███▋                                                        | 108/1740 [00:49<15:19,  1.77it/s]\u001b[A\n",
      "  6%|███▊                                                        | 109/1740 [00:50<16:00,  1.70it/s]\u001b[A\n",
      "  6%|███▊                                                        | 110/1740 [00:50<15:08,  1.79it/s]\u001b[A\n",
      "  6%|███▊                                                        | 111/1740 [00:51<14:32,  1.87it/s]\u001b[A\n",
      "  6%|███▊                                                        | 112/1740 [00:51<14:00,  1.94it/s]\u001b[A\n",
      "  6%|███▉                                                        | 113/1740 [00:52<13:44,  1.97it/s]\u001b[A\n",
      "  7%|███▉                                                        | 114/1740 [00:52<12:54,  2.10it/s]\u001b[A\n",
      "  7%|███▉                                                        | 115/1740 [00:53<12:49,  2.11it/s]\u001b[A\n",
      "  7%|████                                                        | 116/1740 [00:53<12:41,  2.13it/s]\u001b[A\n",
      "  7%|████                                                        | 117/1740 [00:54<12:31,  2.16it/s]\u001b[A\n",
      "  7%|████                                                        | 118/1740 [00:54<12:34,  2.15it/s]\u001b[A\n",
      "  7%|████                                                        | 119/1740 [00:54<10:34,  2.56it/s]\u001b[A\n",
      "  7%|████▏                                                       | 120/1740 [00:55<11:18,  2.39it/s]\u001b[A\n",
      "  7%|████▏                                                       | 121/1740 [00:55<11:32,  2.34it/s]\u001b[A\n",
      "  7%|████▏                                                       | 122/1740 [00:56<11:46,  2.29it/s]\u001b[A\n",
      "  7%|████▏                                                       | 123/1740 [00:56<11:31,  2.34it/s]\u001b[A\n",
      "  7%|████▎                                                       | 124/1740 [00:56<11:47,  2.28it/s]\u001b[A\n",
      "  7%|████▎                                                       | 125/1740 [00:57<12:04,  2.23it/s]\u001b[A\n",
      "  7%|████▎                                                       | 126/1740 [00:57<10:18,  2.61it/s]\u001b[A\n",
      "  7%|████▍                                                       | 127/1740 [00:58<10:42,  2.51it/s]\u001b[A\n",
      "  7%|████▍                                                       | 128/1740 [00:58<10:36,  2.53it/s]\u001b[A\n",
      "  7%|████▍                                                       | 129/1740 [00:58<11:13,  2.39it/s]\u001b[A\n",
      "  7%|████▍                                                       | 130/1740 [00:59<11:31,  2.33it/s]\u001b[A\n",
      "  8%|████▌                                                       | 131/1740 [00:59<11:01,  2.43it/s]\u001b[A\n",
      "  8%|████▌                                                       | 132/1740 [01:00<11:39,  2.30it/s]\u001b[A\n",
      "  8%|████▌                                                       | 133/1740 [01:00<11:41,  2.29it/s]\u001b[A\n",
      "  8%|████▌                                                       | 134/1740 [01:01<10:53,  2.46it/s]\u001b[A\n",
      "  8%|████▋                                                       | 135/1740 [01:01<11:57,  2.24it/s]\u001b[A\n",
      "  8%|████▋                                                       | 136/1740 [01:02<11:39,  2.29it/s]\u001b[A\n",
      "  8%|████▋                                                       | 137/1740 [01:02<10:20,  2.58it/s]\u001b[A\n",
      "  8%|████▊                                                       | 138/1740 [01:02<10:27,  2.55it/s]\u001b[A\n",
      "  8%|████▊                                                       | 139/1740 [01:03<10:53,  2.45it/s]\u001b[A\n",
      "  8%|████▊                                                       | 140/1740 [01:03<11:39,  2.29it/s]\u001b[A\n",
      "  8%|████▊                                                       | 141/1740 [01:04<11:53,  2.24it/s]\u001b[A\n",
      "  8%|████▉                                                       | 142/1740 [01:04<12:03,  2.21it/s]\u001b[A\n",
      "  8%|████▉                                                       | 143/1740 [01:04<11:35,  2.30it/s]\u001b[A\n",
      "  8%|████▉                                                       | 144/1740 [01:05<12:13,  2.18it/s]\u001b[A\n",
      "  8%|█████                                                       | 145/1740 [01:05<12:42,  2.09it/s]\u001b[A\n",
      "  8%|█████                                                       | 146/1740 [01:06<11:45,  2.26it/s]\u001b[A\n",
      "  8%|█████                                                       | 147/1740 [01:06<11:25,  2.32it/s]\u001b[A\n",
      "  9%|█████                                                       | 148/1740 [01:07<12:24,  2.14it/s]\u001b[A\n",
      "  9%|█████▏                                                      | 149/1740 [01:07<13:12,  2.01it/s]\u001b[A\n",
      "  9%|█████▏                                                      | 150/1740 [01:08<12:57,  2.04it/s]\u001b[A\n",
      "  9%|█████▏                                                      | 151/1740 [01:09<14:20,  1.85it/s]\u001b[A\n",
      "  9%|█████▏                                                      | 152/1740 [01:09<13:34,  1.95it/s]\u001b[A\n",
      "  9%|█████▎                                                      | 153/1740 [01:09<11:13,  2.35it/s]\u001b[A\n",
      "  9%|█████▎                                                      | 154/1740 [01:10<13:38,  1.94it/s]\u001b[A\n"
     ]
    },
    {
     "name": "stderr",
     "output_type": "stream",
     "text": [
      "  9%|█████▎                                                      | 155/1740 [01:10<14:11,  1.86it/s]\u001b[A\n",
      "  9%|█████▍                                                      | 156/1740 [01:11<14:06,  1.87it/s]\u001b[A\n",
      "  9%|█████▍                                                      | 157/1740 [01:12<13:50,  1.91it/s]\u001b[A\n",
      "  9%|█████▍                                                      | 158/1740 [01:12<13:18,  1.98it/s]\u001b[A\n",
      "  9%|█████▍                                                      | 159/1740 [01:12<13:05,  2.01it/s]\u001b[A\n",
      "  9%|█████▌                                                      | 160/1740 [01:13<14:13,  1.85it/s]\u001b[A\n",
      "  9%|█████▌                                                      | 161/1740 [01:13<12:44,  2.07it/s]\u001b[A\n",
      "  9%|█████▌                                                      | 162/1740 [01:14<11:56,  2.20it/s]\u001b[A\n",
      "  9%|█████▌                                                      | 163/1740 [01:14<11:50,  2.22it/s]\u001b[A\n",
      "  9%|█████▋                                                      | 164/1740 [01:15<12:00,  2.19it/s]\u001b[A\n",
      "  9%|█████▋                                                      | 165/1740 [01:15<11:58,  2.19it/s]\u001b[A\n",
      " 10%|█████▋                                                      | 166/1740 [01:16<12:26,  2.11it/s]\u001b[A\n",
      " 10%|█████▊                                                      | 167/1740 [01:16<12:41,  2.07it/s]\u001b[A\n",
      " 10%|█████▊                                                      | 168/1740 [01:17<12:35,  2.08it/s]\u001b[A\n",
      " 10%|█████▊                                                      | 169/1740 [01:17<11:41,  2.24it/s]\u001b[A\n",
      " 10%|█████▊                                                      | 170/1740 [01:18<11:47,  2.22it/s]\u001b[A\n",
      " 10%|█████▉                                                      | 171/1740 [01:18<12:08,  2.15it/s]\u001b[A\n",
      " 10%|█████▉                                                      | 172/1740 [01:19<12:18,  2.12it/s]\u001b[A\n",
      " 10%|█████▉                                                      | 173/1740 [01:19<12:34,  2.08it/s]\u001b[A\n",
      " 10%|██████                                                      | 174/1740 [01:19<12:11,  2.14it/s]\u001b[A\n",
      " 10%|██████                                                      | 175/1740 [01:20<12:22,  2.11it/s]\u001b[A\n",
      " 10%|██████                                                      | 176/1740 [01:20<11:59,  2.17it/s]\u001b[A\n",
      " 10%|██████                                                      | 177/1740 [01:21<11:53,  2.19it/s]\u001b[A\n",
      " 10%|██████▏                                                     | 178/1740 [01:21<12:21,  2.11it/s]\u001b[A\n",
      " 10%|██████▏                                                     | 179/1740 [01:22<12:33,  2.07it/s]\u001b[A\n",
      " 10%|██████▏                                                     | 180/1740 [01:22<12:14,  2.12it/s]\u001b[A\n",
      " 10%|██████▏                                                     | 181/1740 [01:23<11:52,  2.19it/s]\u001b[A\n",
      " 10%|██████▎                                                     | 182/1740 [01:23<11:19,  2.29it/s]\u001b[A\n",
      " 11%|██████▎                                                     | 183/1740 [01:23<10:25,  2.49it/s]\u001b[A\n",
      " 11%|██████▎                                                     | 184/1740 [01:24<10:01,  2.59it/s]\u001b[A\n",
      " 11%|██████▍                                                     | 185/1740 [01:24<10:22,  2.50it/s]\u001b[A\n",
      " 11%|██████▍                                                     | 186/1740 [01:25<10:38,  2.43it/s]\u001b[A\n",
      " 11%|██████▍                                                     | 187/1740 [01:25<11:09,  2.32it/s]\u001b[A\n",
      " 11%|██████▍                                                     | 188/1740 [01:25<10:18,  2.51it/s]\u001b[A\n",
      " 11%|██████▌                                                     | 189/1740 [01:26<09:12,  2.81it/s]\u001b[A\n",
      " 11%|██████▌                                                     | 190/1740 [01:26<10:35,  2.44it/s]\u001b[A\n",
      " 11%|██████▌                                                     | 191/1740 [01:27<11:47,  2.19it/s]\u001b[A\n",
      " 11%|██████▌                                                     | 192/1740 [01:27<10:38,  2.43it/s]\u001b[A\n",
      " 11%|██████▋                                                     | 193/1740 [01:28<11:28,  2.25it/s]\u001b[A\n",
      " 11%|██████▋                                                     | 194/1740 [01:28<14:05,  1.83it/s]\u001b[A\n",
      " 11%|██████▋                                                     | 195/1740 [01:29<13:10,  1.95it/s]\u001b[A\n",
      " 11%|██████▊                                                     | 196/1740 [01:29<11:27,  2.24it/s]\u001b[A\n",
      " 11%|██████▊                                                     | 197/1740 [01:29<10:21,  2.48it/s]\u001b[A\n",
      " 11%|██████▊                                                     | 198/1740 [01:30<10:35,  2.43it/s]\u001b[A\n",
      " 11%|██████▊                                                     | 199/1740 [01:30<10:54,  2.36it/s]\u001b[A\n",
      " 11%|██████▉                                                     | 200/1740 [01:31<11:11,  2.29it/s]\u001b[A\n",
      " 12%|██████▉                                                     | 201/1740 [01:31<09:42,  2.64it/s]\u001b[A\n",
      " 12%|██████▉                                                     | 202/1740 [01:31<10:14,  2.50it/s]\u001b[A\n",
      " 12%|███████                                                     | 203/1740 [01:32<10:29,  2.44it/s]\u001b[A\n",
      " 12%|███████                                                     | 204/1740 [01:32<10:38,  2.40it/s]\u001b[A\n",
      " 12%|███████                                                     | 205/1740 [01:33<10:39,  2.40it/s]\u001b[A\n",
      " 12%|███████                                                     | 206/1740 [01:33<10:31,  2.43it/s]\u001b[A\n",
      " 12%|███████▏                                                    | 207/1740 [01:34<11:15,  2.27it/s]\u001b[A\n",
      " 12%|███████▏                                                    | 208/1740 [01:34<10:30,  2.43it/s]\u001b[A\n",
      " 12%|███████▏                                                    | 209/1740 [01:34<09:20,  2.73it/s]\u001b[A\n",
      " 12%|███████▏                                                    | 210/1740 [01:35<10:55,  2.33it/s]\u001b[A\n",
      " 12%|███████▎                                                    | 211/1740 [01:35<09:55,  2.57it/s]\u001b[A\n",
      " 12%|███████▎                                                    | 212/1740 [01:36<10:18,  2.47it/s]\u001b[A\n",
      " 12%|███████▎                                                    | 213/1740 [01:36<10:30,  2.42it/s]\u001b[A\n",
      " 12%|███████▍                                                    | 214/1740 [01:36<10:58,  2.32it/s]\u001b[A\n",
      " 12%|███████▍                                                    | 215/1740 [01:37<11:21,  2.24it/s]\u001b[A\n",
      " 12%|███████▍                                                    | 216/1740 [01:37<11:17,  2.25it/s]\u001b[A\n",
      " 12%|███████▍                                                    | 217/1740 [01:38<11:21,  2.23it/s]\u001b[A\n",
      " 13%|███████▌                                                    | 218/1740 [01:39<12:57,  1.96it/s]\u001b[A\n",
      " 13%|███████▌                                                    | 219/1740 [01:39<12:41,  2.00it/s]\u001b[A\n",
      " 13%|███████▌                                                    | 220/1740 [01:40<13:11,  1.92it/s]\u001b[A\n",
      " 13%|███████▌                                                    | 221/1740 [01:40<13:05,  1.93it/s]\u001b[A\n",
      " 13%|███████▋                                                    | 222/1740 [01:40<11:20,  2.23it/s]\u001b[A\n",
      " 13%|███████▋                                                    | 223/1740 [01:41<11:43,  2.16it/s]\u001b[A\n",
      " 13%|███████▋                                                    | 224/1740 [01:41<10:41,  2.36it/s]\u001b[A\n",
      " 13%|███████▊                                                    | 225/1740 [01:42<11:19,  2.23it/s]\u001b[A\n",
      " 13%|███████▊                                                    | 226/1740 [01:42<11:33,  2.18it/s]\u001b[A\n",
      " 13%|███████▊                                                    | 227/1740 [01:43<12:40,  1.99it/s]\u001b[A\n",
      " 13%|███████▊                                                    | 228/1740 [01:43<11:54,  2.12it/s]\u001b[A\n",
      " 13%|███████▉                                                    | 229/1740 [01:44<11:22,  2.21it/s]\u001b[A\n",
      " 13%|███████▉                                                    | 230/1740 [01:44<11:19,  2.22it/s]\u001b[A\n",
      " 13%|███████▉                                                    | 231/1740 [01:45<11:42,  2.15it/s]\u001b[A\n",
      " 13%|████████                                                    | 232/1740 [01:45<11:45,  2.14it/s]\u001b[A\n"
     ]
    },
    {
     "name": "stderr",
     "output_type": "stream",
     "text": [
      " 13%|████████                                                    | 233/1740 [01:46<13:22,  1.88it/s]\u001b[A\n",
      " 13%|████████                                                    | 234/1740 [01:46<13:26,  1.87it/s]\u001b[A\n",
      " 14%|████████                                                    | 235/1740 [01:47<14:30,  1.73it/s]\u001b[A\n",
      " 14%|████████▏                                                   | 236/1740 [01:47<12:21,  2.03it/s]\u001b[A\n",
      " 14%|████████▏                                                   | 237/1740 [01:48<11:27,  2.19it/s]\u001b[A\n",
      " 14%|████████▏                                                   | 238/1740 [01:48<11:28,  2.18it/s]\u001b[A\n",
      " 14%|████████▏                                                   | 239/1740 [01:49<11:35,  2.16it/s]\u001b[A\n",
      " 14%|████████▎                                                   | 240/1740 [01:49<12:03,  2.07it/s]\u001b[A\n",
      " 14%|████████▎                                                   | 241/1740 [01:50<11:54,  2.10it/s]\u001b[A\n",
      " 14%|████████▎                                                   | 242/1740 [01:50<12:01,  2.08it/s]\u001b[A\n",
      " 14%|████████▍                                                   | 243/1740 [01:50<12:02,  2.07it/s]\u001b[A\n",
      " 14%|████████▍                                                   | 244/1740 [01:51<11:15,  2.21it/s]\u001b[A\n",
      " 14%|████████▍                                                   | 245/1740 [01:51<11:39,  2.14it/s]\u001b[A\n",
      " 14%|████████▍                                                   | 246/1740 [01:52<11:42,  2.13it/s]\u001b[A\n",
      " 14%|████████▌                                                   | 247/1740 [01:52<11:43,  2.12it/s]\u001b[A\n",
      " 14%|████████▌                                                   | 248/1740 [01:53<11:52,  2.10it/s]\u001b[A\n",
      " 14%|████████▌                                                   | 249/1740 [01:53<12:03,  2.06it/s]\u001b[A\n",
      " 14%|████████▌                                                   | 250/1740 [01:54<11:36,  2.14it/s]\u001b[A\n",
      " 14%|████████▋                                                   | 251/1740 [01:54<12:55,  1.92it/s]\u001b[A\n",
      " 14%|████████▋                                                   | 252/1740 [01:55<11:27,  2.17it/s]\u001b[A\n",
      " 15%|████████▋                                                   | 253/1740 [01:55<11:23,  2.18it/s]\u001b[A\n",
      " 15%|████████▊                                                   | 254/1740 [01:56<10:53,  2.28it/s]\u001b[A\n",
      " 15%|████████▊                                                   | 255/1740 [01:56<11:12,  2.21it/s]\u001b[A\n",
      " 15%|████████▊                                                   | 256/1740 [01:56<11:11,  2.21it/s]\u001b[A\n",
      " 15%|████████▊                                                   | 257/1740 [01:57<09:16,  2.66it/s]\u001b[A\n",
      " 15%|████████▉                                                   | 258/1740 [01:57<09:47,  2.52it/s]\u001b[A\n",
      " 15%|████████▉                                                   | 259/1740 [01:58<10:00,  2.46it/s]\u001b[A\n",
      " 15%|████████▉                                                   | 260/1740 [01:58<10:05,  2.45it/s]\u001b[A\n",
      " 15%|█████████                                                   | 261/1740 [01:58<08:48,  2.80it/s]\u001b[A\n",
      " 15%|█████████                                                   | 262/1740 [01:59<09:18,  2.64it/s]\u001b[A\n",
      " 15%|█████████                                                   | 263/1740 [01:59<09:52,  2.49it/s]\u001b[A\n",
      " 15%|█████████                                                   | 264/1740 [02:00<10:08,  2.43it/s]\u001b[A\n",
      " 15%|█████████▏                                                  | 265/1740 [02:00<10:04,  2.44it/s]\u001b[A\n",
      " 15%|█████████▏                                                  | 266/1740 [02:00<10:24,  2.36it/s]\u001b[A\n",
      " 15%|█████████▏                                                  | 267/1740 [02:01<10:37,  2.31it/s]\u001b[A\n",
      " 15%|█████████▏                                                  | 268/1740 [02:01<11:15,  2.18it/s]\u001b[A\n",
      " 15%|█████████▎                                                  | 269/1740 [02:02<11:16,  2.17it/s]\u001b[A\n",
      " 16%|█████████▎                                                  | 270/1740 [02:02<11:16,  2.17it/s]\u001b[A\n",
      " 16%|█████████▎                                                  | 271/1740 [02:03<11:19,  2.16it/s]\u001b[A\n",
      " 16%|█████████▍                                                  | 272/1740 [02:03<11:27,  2.14it/s]\u001b[A\n",
      " 16%|█████████▍                                                  | 273/1740 [02:04<11:30,  2.12it/s]\u001b[A\n",
      " 16%|█████████▍                                                  | 274/1740 [02:04<10:51,  2.25it/s]\u001b[A\n",
      " 16%|█████████▍                                                  | 275/1740 [02:05<11:18,  2.16it/s]\u001b[A\n",
      " 16%|█████████▌                                                  | 276/1740 [02:05<11:26,  2.13it/s]\u001b[A\n",
      " 16%|█████████▌                                                  | 277/1740 [02:06<11:24,  2.14it/s]\u001b[A\n",
      " 16%|█████████▌                                                  | 278/1740 [02:06<09:28,  2.57it/s]\u001b[A\n",
      " 16%|█████████▌                                                  | 279/1740 [02:06<09:50,  2.47it/s]\u001b[A\n",
      " 16%|█████████▋                                                  | 280/1740 [02:07<10:18,  2.36it/s]\u001b[A\n",
      " 16%|█████████▋                                                  | 281/1740 [02:07<10:35,  2.30it/s]\u001b[A\n",
      " 16%|█████████▋                                                  | 282/1740 [02:08<12:26,  1.95it/s]\u001b[A\n",
      " 16%|█████████▊                                                  | 283/1740 [02:08<11:37,  2.09it/s]\u001b[A\n",
      " 16%|█████████▊                                                  | 284/1740 [02:08<10:00,  2.42it/s]\u001b[A\n",
      " 16%|█████████▊                                                  | 285/1740 [02:09<10:40,  2.27it/s]\u001b[A\n",
      " 16%|█████████▊                                                  | 286/1740 [02:10<11:46,  2.06it/s]\u001b[A\n",
      " 16%|█████████▉                                                  | 287/1740 [02:10<12:23,  1.95it/s]\u001b[A\n",
      " 17%|█████████▉                                                  | 288/1740 [02:11<13:32,  1.79it/s]\u001b[A\n",
      " 17%|█████████▉                                                  | 289/1740 [02:11<13:14,  1.83it/s]\u001b[A\n",
      " 17%|██████████                                                  | 290/1740 [02:12<12:28,  1.94it/s]\u001b[A\n",
      " 17%|██████████                                                  | 291/1740 [02:12<11:57,  2.02it/s]\u001b[A\n",
      " 17%|██████████                                                  | 292/1740 [02:13<11:31,  2.09it/s]\u001b[A\n",
      " 17%|██████████                                                  | 293/1740 [02:13<09:29,  2.54it/s]\u001b[A\n",
      " 17%|██████████▏                                                 | 294/1740 [02:13<09:57,  2.42it/s]\u001b[A\n",
      " 17%|██████████▏                                                 | 295/1740 [02:14<11:08,  2.16it/s]\u001b[A\n",
      " 17%|██████████▏                                                 | 296/1740 [02:14<11:26,  2.10it/s]\u001b[A\n",
      " 17%|██████████▏                                                 | 297/1740 [02:15<12:08,  1.98it/s]\u001b[A\n",
      " 17%|██████████▎                                                 | 298/1740 [02:15<11:25,  2.10it/s]\u001b[A\n",
      " 17%|██████████▎                                                 | 299/1740 [02:16<11:37,  2.07it/s]\u001b[A\n",
      " 17%|██████████▎                                                 | 300/1740 [02:16<12:10,  1.97it/s]\u001b[A\n",
      " 17%|██████████▍                                                 | 301/1740 [02:17<11:06,  2.16it/s]\u001b[A\n",
      " 17%|██████████▍                                                 | 302/1740 [02:17<10:52,  2.20it/s]\u001b[A\n",
      " 17%|██████████▍                                                 | 303/1740 [02:18<11:20,  2.11it/s]\u001b[A\n",
      " 17%|██████████▍                                                 | 304/1740 [02:18<10:48,  2.21it/s]\u001b[A\n",
      " 18%|██████████▌                                                 | 305/1740 [02:19<10:57,  2.18it/s]\u001b[A\n",
      " 18%|██████████▌                                                 | 306/1740 [02:19<10:50,  2.20it/s]\u001b[A\n",
      " 18%|██████████▌                                                 | 307/1740 [02:19<10:30,  2.27it/s]\u001b[A\n",
      " 18%|██████████▌                                                 | 308/1740 [02:20<11:17,  2.11it/s]\u001b[A\n",
      " 18%|██████████▋                                                 | 309/1740 [02:20<09:59,  2.39it/s]\u001b[A\n",
      " 18%|██████████▋                                                 | 310/1740 [02:21<09:03,  2.63it/s]\u001b[A\n"
     ]
    },
    {
     "name": "stderr",
     "output_type": "stream",
     "text": [
      " 18%|██████████▋                                                 | 311/1740 [02:21<09:27,  2.52it/s]\u001b[A\n",
      " 18%|██████████▊                                                 | 312/1740 [02:21<09:42,  2.45it/s]\u001b[A\n",
      " 18%|██████████▊                                                 | 313/1740 [02:22<10:20,  2.30it/s]\u001b[A\n",
      " 18%|██████████▊                                                 | 314/1740 [02:22<10:42,  2.22it/s]\u001b[A\n",
      " 18%|██████████▊                                                 | 315/1740 [02:23<10:04,  2.36it/s]\u001b[A\n",
      " 18%|██████████▉                                                 | 316/1740 [02:23<10:32,  2.25it/s]\u001b[A\n",
      " 18%|██████████▉                                                 | 317/1740 [02:24<11:15,  2.11it/s]\u001b[A\n",
      " 18%|██████████▉                                                 | 318/1740 [02:24<11:11,  2.12it/s]\u001b[A\n",
      " 18%|███████████                                                 | 319/1740 [02:25<11:13,  2.11it/s]\u001b[A\n",
      " 18%|███████████                                                 | 320/1740 [02:25<11:51,  2.00it/s]\u001b[A\n",
      " 18%|███████████                                                 | 321/1740 [02:26<11:08,  2.12it/s]\u001b[A\n",
      " 19%|███████████                                                 | 322/1740 [02:26<10:28,  2.25it/s]\u001b[A\n",
      " 19%|███████████▏                                                | 323/1740 [02:27<10:49,  2.18it/s]\u001b[A\n",
      " 19%|███████████▏                                                | 324/1740 [02:27<11:10,  2.11it/s]\u001b[A\n",
      " 19%|███████████▏                                                | 325/1740 [02:28<10:34,  2.23it/s]\u001b[A\n",
      " 19%|███████████▏                                                | 326/1740 [02:28<09:05,  2.59it/s]\u001b[A\n",
      " 19%|███████████▎                                                | 327/1740 [02:28<10:32,  2.23it/s]\u001b[A\n",
      " 19%|███████████▎                                                | 328/1740 [02:29<11:19,  2.08it/s]\u001b[A\n",
      " 19%|███████████▎                                                | 329/1740 [02:29<09:06,  2.58it/s]\u001b[A\n",
      " 19%|███████████▍                                                | 330/1740 [02:30<09:04,  2.59it/s]\u001b[A\n",
      " 19%|███████████▍                                                | 331/1740 [02:30<09:17,  2.53it/s]\u001b[A\n",
      " 19%|███████████▍                                                | 332/1740 [02:30<10:20,  2.27it/s]\u001b[A\n",
      " 19%|███████████▍                                                | 333/1740 [02:31<08:32,  2.74it/s]\u001b[A\n",
      " 19%|███████████▌                                                | 334/1740 [02:31<08:57,  2.61it/s]\u001b[A\n",
      " 19%|███████████▌                                                | 335/1740 [02:31<09:12,  2.54it/s]\u001b[A\n",
      " 19%|███████████▌                                                | 336/1740 [02:32<09:17,  2.52it/s]\u001b[A\n",
      " 19%|███████████▌                                                | 337/1740 [02:32<07:52,  2.97it/s]\u001b[A\n",
      " 19%|███████████▋                                                | 338/1740 [02:32<06:53,  3.39it/s]\u001b[A\n",
      " 19%|███████████▋                                                | 339/1740 [02:32<06:00,  3.89it/s]\u001b[A\n",
      " 20%|███████████▋                                                | 340/1740 [02:33<05:26,  4.29it/s]\u001b[A\n",
      " 20%|███████████▊                                                | 341/1740 [02:33<04:47,  4.87it/s]\u001b[A\n",
      " 20%|███████████▊                                                | 342/1740 [02:33<04:57,  4.70it/s]\u001b[A\n",
      " 20%|███████████▊                                                | 343/1740 [02:33<04:54,  4.74it/s]\u001b[A\n",
      " 20%|███████████▊                                                | 344/1740 [02:33<04:58,  4.67it/s]\u001b[A\n",
      " 20%|███████████▉                                                | 345/1740 [02:34<04:54,  4.74it/s]\u001b[A\n",
      " 20%|███████████▉                                                | 346/1740 [02:34<05:14,  4.43it/s]\u001b[A\n",
      " 20%|███████████▉                                                | 347/1740 [02:34<06:04,  3.82it/s]\u001b[A\n",
      " 20%|████████████                                                | 348/1740 [02:35<06:17,  3.69it/s]\u001b[A\n",
      " 20%|████████████                                                | 349/1740 [02:35<09:08,  2.54it/s]\u001b[A\n",
      " 20%|████████████                                                | 350/1740 [02:35<08:16,  2.80it/s]\u001b[A\n",
      " 20%|████████████                                                | 351/1740 [02:36<11:46,  1.97it/s]\u001b[A\n",
      " 20%|████████████▏                                               | 352/1740 [02:37<09:44,  2.37it/s]\u001b[A\n",
      " 20%|████████████▏                                               | 353/1740 [02:37<10:13,  2.26it/s]\u001b[A\n",
      " 20%|████████████▏                                               | 354/1740 [02:38<11:42,  1.97it/s]\u001b[A\n",
      " 20%|████████████▏                                               | 355/1740 [02:38<09:23,  2.46it/s]\u001b[A\n",
      " 20%|████████████▎                                               | 356/1740 [02:39<13:39,  1.69it/s]\u001b[A\n",
      " 21%|████████████▎                                               | 357/1740 [02:39<10:51,  2.12it/s]\u001b[A\n",
      " 21%|████████████▎                                               | 358/1740 [02:40<11:24,  2.02it/s]\u001b[A\n",
      " 21%|████████████▍                                               | 359/1740 [02:40<11:57,  1.93it/s]\u001b[A"
     ]
    }
   ],
   "source": [
    "eers_v22={}\n",
    "mindcts_v22={}\n",
    "\n",
    "for tmp_scenario in tqdm(['random','1das','3das','5das','10das','1d1s','3d1s','5d1s','10d1s']):\n",
    "# for tmp_scenario in tqdm(['random']):\n",
    "    # 0. init\n",
    "    scenario2model2day2score_v22[tmp_scenario]=defaultdict(list)\n",
    "    \n",
    "    # 1. Load trial trajectory and enrollment model\n",
    "    f_read = open('./trials/%s/trial.pkl' %tmp_scenario, 'rb')\n",
    "    trials = pickle.load(f_read)\n",
    "    f_read.close()\n",
    "    enrol_models={i.split()[0]:i.split()[1:] for i in open('./trials/%s/enrol_model'%tmp_scenario)}\n",
    "    \n",
    "    # 2. achieve enrol template\n",
    "    enrol_embd_dict={}\n",
    "    for tmp_model in enrol_models:\n",
    "        enrol_embd=np.zeros((1,128))\n",
    "        for utt in enrol_models[tmp_model]:\n",
    "            enrol_embd += embds_dict[utt]\n",
    "\n",
    "        enrol_embd_dict[tmp_model] = enrol_embd/5\n",
    "    # 3. scoring\n",
    "    true_score=[]\n",
    "    false_score=[]\n",
    "    \n",
    "    if tmp_scenario in ['random']:\n",
    "        for tmp_model in tqdm(trials):\n",
    "            enrol_embd = enrol_embd_dict[tmp_model]\n",
    "            ts=tmp_model[3:7]\n",
    "            scenario2model2day2score_v22[tmp_scenario][tmp_model]=defaultdict(list)\n",
    "            for utt in trials[tmp_model]:\n",
    "                test_embd = embds_dict[utt]\n",
    "                observation = np.concatenate((enrol_embd,test_embd),axis=1)\n",
    "                observation = torch.from_numpy(observation.astype('float32'))\n",
    "                observation = observation.to('cuda:3')\n",
    "                action_output, _, _ = actor_mh(observation,deterministic=True)\n",
    "                action_output = action_output.cpu().detach().numpy()\n",
    "                action_deter, action_value = action_output[0][0], action_output[0][1]\n",
    "\n",
    "                result = 1 - spatial.distance.cosine(enrol_embd, test_embd)\n",
    "                if ts == utt[:4]:\n",
    "                    true_score.append(result) \n",
    "                    scenario2model2day2score_v22[tmp_scenario][tmp_model]['true'].append(result)\n",
    "                else:\n",
    "                    false_score.append(result) \n",
    "                    scenario2model2day2score_v22[tmp_scenario][tmp_model]['false'].append(result)\n",
    "                    \n",
    "                if action_deter==1 and result>0.4:\n",
    "                    enrol_embd = (1-action_value)*enrol_embd + action_value*test_embd\n",
    "                    \n",
    "    elif tmp_scenario in ['1das','3das','5das','10das']:\n",
    "        for tmp_model in trials:\n",
    "            enrol_embd = enrol_embd_dict[tmp_model]\n",
    "            ts=tmp_model[3:7]\n",
    "            scenario2model2day2score_v22[tmp_scenario][tmp_model]=defaultdict(list)\n",
    "            for day in trials[tmp_model]:\n",
    "                scenario2model2day2score_v22[tmp_scenario][tmp_model][day]=defaultdict(list)\n",
    "                for utt in trials[tmp_model][day]:\n",
    "                    test_embd = embds_dict[utt]\n",
    "                    observation = np.concatenate((enrol_embd,test_embd),axis=1)\n",
    "                    observation = torch.from_numpy(observation.astype('float32'))\n",
    "                    observation = observation.to('cuda:3')\n",
    "                    action_output, _, _ = actor_mh(observation,deterministic=True)\n",
    "                    action_output = action_output.cpu().detach().numpy()\n",
    "                    action_deter, action_value = action_output[0][0], action_output[0][1]\n",
    "\n",
    "                    result = 1 - spatial.distance.cosine(enrol_embd, test_embd)\n",
    "                    if ts == utt[:4]:\n",
    "                        true_score.append(result) \n",
    "                        scenario2model2day2score_v22[tmp_scenario][tmp_model][day]['true'].append(result)\n",
    "                    else:\n",
    "                        false_score.append(result) \n",
    "                        scenario2model2day2score_v22[tmp_scenario][tmp_model][day]['false'].append(result)\n",
    "                        \n",
    "                    if action_deter==1 and result>0.4:\n",
    "                        enrol_embd = (1-action_value)*enrol_embd + action_value*test_embd\n",
    "                        \n",
    "    elif tmp_scenario in ['1d1s','3d1s','5d1s','10d1s']:\n",
    "        for tmp_round in trials:\n",
    "            scenario2model2day2score_v22[tmp_scenario][tmp_round]=defaultdict(list)\n",
    "            for tmp_model in trials[tmp_round]:\n",
    "                enrol_embd = enrol_embd_dict[tmp_model]\n",
    "                ts=tmp_model[3:7]\n",
    "                scenario2model2day2score_v22[tmp_scenario][tmp_round][tmp_model]=defaultdict(list)\n",
    "                for day in trials[tmp_round][tmp_model]:\n",
    "                    scenario2model2day2score_v22[tmp_scenario][tmp_round][tmp_model][day]=defaultdict(list)\n",
    "                    for utt in trials[tmp_round][tmp_model][day]:\n",
    "                        test_embd = embds_dict[utt]\n",
    "                        observation = np.concatenate((enrol_embd,test_embd),axis=1)\n",
    "                        observation = torch.from_numpy(observation.astype('float32'))\n",
    "                        observation = observation.to('cuda:3')\n",
    "                        action_output, _, _ = actor_mh(observation,deterministic=True)\n",
    "                        action_output = action_output.cpu().detach().numpy()\n",
    "                        action_deter, action_value = action_output[0][0], action_output[0][1]\n",
    "\n",
    "                        result = 1 - spatial.distance.cosine(enrol_embd, test_embd)\n",
    "                        if ts == utt[:4]:\n",
    "                            true_score.append(result) \n",
    "                            scenario2model2day2score_v22[tmp_scenario][tmp_round][tmp_model][day]['true'].append(result)\n",
    "                        else:\n",
    "                            false_score.append(result) \n",
    "                            scenario2model2day2score_v22[tmp_scenario][tmp_round][tmp_model][day]['false'].append(result)\n",
    "                            \n",
    "                        if action_deter==1 and result>0.4:\n",
    "                            enrol_embd = (1-action_value)*enrol_embd + action_value*test_embd\n",
    "\n",
    "    eer_v22, threshold_eer, mindct_v22, threashold_dct = compute_eer(np.array(true_score), np.array(false_score))\n",
    "    eers_v22[tmp_scenario]=eer_v22\n",
    "    mindcts_v22[tmp_scenario]=mindct_v22\n",
    "    print('---- Scenario : %s----'%tmp_scenario)\n",
    "    print('EER: %s, EER_threshold: %s \\nMinDCT: %s, MinDCT_threshold: %s, '%(eer_v22*100,threshold_eer, mindct_v22, threashold_dct))\n",
    "    print(len(true_score),len(false_score))\n",
    "    "
   ]
  },
  {
   "cell_type": "code",
   "execution_count": null,
   "metadata": {},
   "outputs": [],
   "source": []
  },
  {
   "cell_type": "code",
   "execution_count": null,
   "metadata": {},
   "outputs": [],
   "source": []
  },
  {
   "cell_type": "code",
   "execution_count": null,
   "metadata": {},
   "outputs": [],
   "source": []
  }
 ],
 "metadata": {
  "kernelspec": {
   "display_name": "ISSV",
   "language": "python",
   "name": "issv"
  },
  "language_info": {
   "codemirror_mode": {
    "name": "ipython",
    "version": 3
   },
   "file_extension": ".py",
   "mimetype": "text/x-python",
   "name": "python",
   "nbconvert_exporter": "python",
   "pygments_lexer": "ipython3",
   "version": "3.8.16"
  }
 },
 "nbformat": 4,
 "nbformat_minor": 2
}
