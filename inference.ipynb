{
 "cells": [
  {
   "cell_type": "markdown",
   "metadata": {},
   "source": [
    "# Step.0 Prepare"
   ]
  },
  {
   "cell_type": "code",
   "execution_count": 10,
   "metadata": {},
   "outputs": [
    {
     "name": "stdout",
     "output_type": "stream",
     "text": [
      "./DRL-TU/egs/embed/time_varying_all_T_epoch21_rank0.npy\n",
      "./DRL-TU/egs/embed/time_varying_all_T_epoch21_rank1.npy\n",
      "./DRL-TU/egs/embed/time_varying_all_T_epoch21_rank2.npy\n"
     ]
    }
   ],
   "source": [
    "# 1. Load speaker embedding\n",
    "import glob\n",
    "import numpy as np\n",
    "from scipy import spatial\n",
    "import pickle\n",
    "\n",
    "embds_dict={}\n",
    "for npy_path in glob.glob('./DRL-TU/egs/embed/time_varying_all_T_epoch21_rank*.npy'):\n",
    "    print(npy_path)\n",
    "    embds_dict_tmp = np.load(npy_path,allow_pickle=True).item()\n",
    "    embds_dict ={**embds_dict,**embds_dict_tmp}"
   ]
  },
  {
   "cell_type": "markdown",
   "metadata": {},
   "source": [
    "# Step.1 Inference"
   ]
  },
  {
   "cell_type": "code",
   "execution_count": 11,
   "metadata": {},
   "outputs": [],
   "source": [
    "from collections import defaultdict\n",
    "from utils.util import compute_eer\n",
    "from tqdm import tqdm\n",
    "embd_size=128\n",
    "scenario2model2day2score_v0=defaultdict(list)\n",
    "scenario2model2day2score_v1=defaultdict(list)\n",
    "scenario2model2day2score_v21=defaultdict(list)\n",
    "scenario2model2day2score_v22=defaultdict(list)"
   ]
  },
  {
   "cell_type": "markdown",
   "metadata": {},
   "source": [
    "## Baseline Method  Scoring ( V0 )"
   ]
  },
  {
   "cell_type": "code",
   "execution_count": 12,
   "metadata": {},
   "outputs": [
    {
     "name": "stderr",
     "output_type": "stream",
     "text": [
      " 11%|██████████████████████████▎                                                                                                                                                                                                                  | 1/9 [00:09<01:15,  9.44s/it]"
     ]
    },
    {
     "name": "stdout",
     "output_type": "stream",
     "text": [
      "---- Scenario : random----\n",
      "EER: 3.741261927387755, EER_threshold: 0.4204883810721398 \n",
      "MinDCT: 0.4168760332730183, MinDCT_threshold: 0.6114183805549603, \n",
      "76819 76819\n"
     ]
    },
    {
     "name": "stderr",
     "output_type": "stream",
     "text": [
      "\r",
      " 22%|████████████████████████████████████████████████████▋                                                                                                                                                                                        | 2/9 [00:18<01:05,  9.40s/it]"
     ]
    },
    {
     "name": "stdout",
     "output_type": "stream",
     "text": [
      "---- Scenario : 1das----\n",
      "EER: 3.5488372699646553, EER_threshold: 0.42262014935163994 \n",
      "MinDCT: 0.4114094922593351, MinDCT_threshold: 0.6101848045173396, \n",
      "76673 76673\n"
     ]
    },
    {
     "name": "stderr",
     "output_type": "stream",
     "text": [
      "\r",
      " 33%|███████████████████████████████████████████████████████████████████████████████                                                                                                                                                              | 3/9 [00:29<01:00, 10.03s/it]"
     ]
    },
    {
     "name": "stdout",
     "output_type": "stream",
     "text": [
      "---- Scenario : 3das----\n",
      "EER: 3.1537940379403793, EER_threshold: 0.43440902365005996 \n",
      "MinDCT: 0.38472222222222224, MinDCT_threshold: 0.6166655118717964, \n",
      "88560 88560\n"
     ]
    },
    {
     "name": "stderr",
     "output_type": "stream",
     "text": [
      "\r",
      " 44%|█████████████████████████████████████████████████████████████████████████████████████████████████████████▎                                                                                                                                   | 4/9 [00:37<00:46,  9.29s/it]"
     ]
    },
    {
     "name": "stdout",
     "output_type": "stream",
     "text": [
      "---- Scenario : 5das----\n",
      "EER: 3.106192677935269, EER_threshold: 0.43856202796563903 \n",
      "MinDCT: 0.3766239672553627, MinDCT_threshold: 0.6300347089493383, \n",
      "65965 65965\n"
     ]
    },
    {
     "name": "stderr",
     "output_type": "stream",
     "text": [
      "\r",
      " 56%|███████████████████████████████████████████████████████████████████████████████████████████████████████████████████████████████████▋                                                                                                         | 5/9 [00:44<00:34,  8.53s/it]"
     ]
    },
    {
     "name": "stdout",
     "output_type": "stream",
     "text": [
      "---- Scenario : 10das----\n",
      "EER: 3.1131727903004323, EER_threshold: 0.4379431343961363 \n",
      "MinDCT: 0.38520280001339724, MinDCT_threshold: 0.6207601899579509, \n",
      "59714 59714\n"
     ]
    },
    {
     "name": "stderr",
     "output_type": "stream",
     "text": [
      "\r",
      " 67%|██████████████████████████████████████████████████████████████████████████████████████████████████████████████████████████████████████████████████████████████                                                                               | 6/9 [00:55<00:27,  9.20s/it]"
     ]
    },
    {
     "name": "stdout",
     "output_type": "stream",
     "text": [
      "---- Scenario : 1d1s----\n",
      "EER: 3.608339728830903, EER_threshold: 0.4210491813310211 \n",
      "MinDCT: 0.40076745970836525, MinDCT_threshold: 0.6056797494933029, \n",
      "78180 78180\n"
     ]
    },
    {
     "name": "stderr",
     "output_type": "stream",
     "text": [
      "\r",
      " 78%|████████████████████████████████████████████████████████████████████████████████████████████████████████████████████████████████████████████████████████████████████████████████████████▎                                                    | 7/9 [01:09<00:21, 10.65s/it]"
     ]
    },
    {
     "name": "stdout",
     "output_type": "stream",
     "text": [
      "---- Scenario : 3d1s----\n",
      "EER: 3.214285714285714, EER_threshold: 0.43185900051725 \n",
      "MinDCT: 0.38895053166897825, MinDCT_threshold: 0.622124760633776, \n",
      "86520 86520\n"
     ]
    },
    {
     "name": "stderr",
     "output_type": "stream",
     "text": [
      "\r",
      " 89%|██████████████████████████████████████████████████████████████████████████████████████████████████████████████████████████████████████████████████████████████████████████████████████████████████████████████████▋                          | 8/9 [01:17<00:10, 10.08s/it]"
     ]
    },
    {
     "name": "stdout",
     "output_type": "stream",
     "text": [
      "---- Scenario : 5d1s----\n",
      "EER: 3.1555971312753353, EER_threshold: 0.4349993243156891 \n",
      "MinDCT: 0.4003429996881821, MinDCT_threshold: 0.6009552607194296, \n",
      "64140 64140\n"
     ]
    },
    {
     "name": "stderr",
     "output_type": "stream",
     "text": [
      "100%|█████████████████████████████████████████████████████████████████████████████████████████████████████████████████████████████████████████████████████████████████████████████████████████████████████████████████████████████████████████████| 9/9 [01:25<00:00,  9.51s/it]"
     ]
    },
    {
     "name": "stdout",
     "output_type": "stream",
     "text": [
      "---- Scenario : 10d1s----\n",
      "EER: 3.0926594464500603, EER_threshold: 0.43475103455404407 \n",
      "MinDCT: 0.3838748495788207, MinDCT_threshold: 0.6196905461999074, \n",
      "58170 58170\n"
     ]
    },
    {
     "name": "stderr",
     "output_type": "stream",
     "text": [
      "\n"
     ]
    }
   ],
   "source": [
    "eers_v0={}\n",
    "mindcts_v0={}\n",
    "\n",
    "for tmp_scenario in tqdm(['random','1das','3das','5das','10das','1d1s','3d1s','5d1s','10d1s']):\n",
    "    # 0. init\n",
    "    scenario2model2day2score_v0[tmp_scenario]=defaultdict(list)\n",
    "    \n",
    "    # 1. Load trial trajectory and enrollment model\n",
    "    f_read = open('./trials/%s/trial.pkl' %tmp_scenario, 'rb')\n",
    "    trials = pickle.load(f_read)\n",
    "    f_read.close()\n",
    "    enrol_models={i.split()[0]:i.split()[1:] for i in open('./trials/%s/enrol_model'%tmp_scenario)}\n",
    "    \n",
    "    # 2. achieve enrol template\n",
    "    enrol_embd_dict={}\n",
    "    for tmp_model in enrol_models:\n",
    "        enrol_embd=np.zeros((1,128))\n",
    "        for utt in enrol_models[tmp_model]:\n",
    "            enrol_embd += embds_dict[utt]\n",
    "\n",
    "        enrol_embd_dict[tmp_model]=enrol_embd/np.linalg.norm(enrol_embd)\n",
    "    # 3. scoring\n",
    "    true_score=[]\n",
    "    false_score=[]\n",
    "    \n",
    "    if tmp_scenario in ['random']:\n",
    "        for tmp_model in trials:\n",
    "            ts=tmp_model[3:7]\n",
    "            scenario2model2day2score_v0[tmp_scenario][tmp_model]=defaultdict(list)\n",
    "            for utt in trials[tmp_model]:\n",
    "                test_embd = embds_dict[utt]\n",
    "                result = 1 - spatial.distance.cosine(enrol_embd_dict[tmp_model], test_embd)\n",
    "                if ts == utt[:4]:\n",
    "                    true_score.append(result) \n",
    "                    scenario2model2day2score_v0[tmp_scenario][tmp_model]['true'].append(result)\n",
    "                else:\n",
    "                    false_score.append(result) \n",
    "                    scenario2model2day2score_v0[tmp_scenario][tmp_model]['false'].append(result)\n",
    "    elif tmp_scenario in ['1das','3das','5das','10das']:\n",
    "        for tmp_model in trials:\n",
    "            ts=tmp_model[3:7]\n",
    "            scenario2model2day2score_v0[tmp_scenario][tmp_model]=defaultdict(list)\n",
    "            for day in trials[tmp_model]:\n",
    "                scenario2model2day2score_v0[tmp_scenario][tmp_model][day]=defaultdict(list)\n",
    "                for utt in trials[tmp_model][day]:\n",
    "                    test_embd = embds_dict[utt]\n",
    "                    result = 1 - spatial.distance.cosine(enrol_embd_dict[tmp_model], test_embd)\n",
    "                    if ts == utt[:4]:\n",
    "                        true_score.append(result) \n",
    "                        scenario2model2day2score_v0[tmp_scenario][tmp_model][day]['true'].append(result)\n",
    "                    else:\n",
    "                        false_score.append(result) \n",
    "                        scenario2model2day2score_v0[tmp_scenario][tmp_model][day]['false'].append(result)\n",
    "    elif tmp_scenario in ['1d1s','3d1s','5d1s','10d1s']:\n",
    "        for tmp_round in trials:\n",
    "            scenario2model2day2score_v0[tmp_scenario][tmp_round]=defaultdict(list)\n",
    "            for tmp_model in trials[tmp_round]:\n",
    "                ts=tmp_model[3:7]\n",
    "                scenario2model2day2score_v0[tmp_scenario][tmp_round][tmp_model]=defaultdict(list)\n",
    "                for day in trials[tmp_round][tmp_model]:\n",
    "                    scenario2model2day2score_v0[tmp_scenario][tmp_round][tmp_model][day]=defaultdict(list)\n",
    "                    for utt in trials[tmp_round][tmp_model][day]:\n",
    "                        test_embd = embds_dict[utt]\n",
    "                        result = 1 - spatial.distance.cosine(enrol_embd_dict[tmp_model], test_embd)\n",
    "                        if ts == utt[:4]:\n",
    "                            true_score.append(result) \n",
    "                            scenario2model2day2score_v0[tmp_scenario][tmp_round][tmp_model][day]['true'].append(result)\n",
    "                        else:\n",
    "                            false_score.append(result) \n",
    "                            scenario2model2day2score_v0[tmp_scenario][tmp_round][tmp_model][day]['false'].append(result)\n",
    "\n",
    "    eer_v0, threshold_eer, mindct_v0, threashold_dct = compute_eer(np.array(true_score), np.array(false_score))\n",
    "    eers_v0[tmp_scenario]=eer_v0\n",
    "    mindcts_v0[tmp_scenario]=mindct_v0\n",
    "    print('---- Scenario : %s----'%tmp_scenario)\n",
    "    print('EER: %s, EER_threshold: %s \\nMinDCT: %s, MinDCT_threshold: %s, '%(eer_v0*100,threshold_eer, mindct_v0, threashold_dct))\n",
    "    print(len(true_score),len(false_score))\n",
    "    "
   ]
  },
  {
   "cell_type": "code",
   "execution_count": null,
   "metadata": {},
   "outputs": [],
   "source": []
  },
  {
   "cell_type": "code",
   "execution_count": null,
   "metadata": {},
   "outputs": [],
   "source": []
  },
  {
   "cell_type": "code",
   "execution_count": null,
   "metadata": {},
   "outputs": [],
   "source": []
  },
  {
   "cell_type": "markdown",
   "metadata": {},
   "source": [
    "## FixW-TU  Scoring ( V1 )"
   ]
  },
  {
   "cell_type": "code",
   "execution_count": 13,
   "metadata": {},
   "outputs": [
    {
     "name": "stderr",
     "output_type": "stream",
     "text": [
      " 11%|██████████████████████████▎                                                                                                                                                                                                                  | 1/9 [00:10<01:21, 10.17s/it]"
     ]
    },
    {
     "name": "stdout",
     "output_type": "stream",
     "text": [
      "---- Alpha: 0.05, Scenario : random----\n",
      "EER: 2.360093206107864, EER_threshold: 0.472695597257236 \n",
      "MinDCT: 0.3099103086476002, MinDCT_threshold: 0.6543091019062975, \n",
      "76819 76819\n"
     ]
    },
    {
     "name": "stderr",
     "output_type": "stream",
     "text": [
      "\r",
      " 22%|████████████████████████████████████████████████████▋                                                                                                                                                                                        | 2/9 [00:20<01:10, 10.09s/it]"
     ]
    },
    {
     "name": "stdout",
     "output_type": "stream",
     "text": [
      "---- Alpha: 0.05, Scenario : 1das----\n",
      "EER: 1.1620779153026488, EER_threshold: 0.5219353950380302 \n",
      "MinDCT: 0.23469800320843062, MinDCT_threshold: 0.6626917801232193, \n",
      "76673 76673\n"
     ]
    },
    {
     "name": "stderr",
     "output_type": "stream",
     "text": [
      "\r",
      " 33%|███████████████████████████████████████████████████████████████████████████████                                                                                                                                                              | 3/9 [00:31<01:04, 10.71s/it]"
     ]
    },
    {
     "name": "stdout",
     "output_type": "stream",
     "text": [
      "---- Alpha: 0.05, Scenario : 3das----\n",
      "EER: 1.3256549232158987, EER_threshold: 0.5125040948458087 \n",
      "MinDCT: 0.2102416440831075, MinDCT_threshold: 0.664629307629638, \n",
      "88560 88560\n"
     ]
    },
    {
     "name": "stderr",
     "output_type": "stream",
     "text": [
      "\r",
      " 44%|█████████████████████████████████████████████████████████████████████████████████████████████████████████▎                                                                                                                                   | 4/9 [00:40<00:49,  9.95s/it]"
     ]
    },
    {
     "name": "stdout",
     "output_type": "stream",
     "text": [
      "---- Alpha: 0.05, Scenario : 5das----\n",
      "EER: 1.3613279769574775, EER_threshold: 0.5107180471988028 \n",
      "MinDCT: 0.23426059273857353, MinDCT_threshold: 0.6534568755956484, \n",
      "65965 65965\n"
     ]
    },
    {
     "name": "stderr",
     "output_type": "stream",
     "text": [
      "\r",
      " 56%|███████████████████████████████████████████████████████████████████████████████████████████████████████████████████████████████████▋                                                                                                         | 5/9 [00:48<00:36,  9.20s/it]"
     ]
    },
    {
     "name": "stdout",
     "output_type": "stream",
     "text": [
      "---- Alpha: 0.05, Scenario : 10das----\n",
      "EER: 1.6528787219077603, EER_threshold: 0.5010186811447674 \n",
      "MinDCT: 0.27846066249120804, MinDCT_threshold: 0.6580156633016945, \n",
      "59714 59714\n"
     ]
    },
    {
     "name": "stderr",
     "output_type": "stream",
     "text": [
      "\r",
      " 67%|██████████████████████████████████████████████████████████████████████████████████████████████████████████████████████████████████████████████████████████████                                                                               | 6/9 [00:59<00:29,  9.89s/it]"
     ]
    },
    {
     "name": "stdout",
     "output_type": "stream",
     "text": [
      "---- Alpha: 0.05, Scenario : 1d1s----\n",
      "EER: 1.7805065234075212, EER_threshold: 0.49516379661879495 \n",
      "MinDCT: 0.2781018163213098, MinDCT_threshold: 0.647331429820839, \n",
      "78180 78180\n"
     ]
    },
    {
     "name": "stderr",
     "output_type": "stream",
     "text": [
      "\r",
      " 78%|████████████████████████████████████████████████████████████████████████████████████████████████████████████████████████████████████████████████████████████████████████████████████████▎                                                    | 7/9 [01:11<00:21, 10.64s/it]"
     ]
    },
    {
     "name": "stdout",
     "output_type": "stream",
     "text": [
      "---- Alpha: 0.05, Scenario : 3d1s----\n",
      "EER: 2.498844197873324, EER_threshold: 0.4632350067358846 \n",
      "MinDCT: 0.3297156726768377, MinDCT_threshold: 0.6367534674832281, \n",
      "86520 86520\n"
     ]
    },
    {
     "name": "stderr",
     "output_type": "stream",
     "text": [
      "\r",
      " 89%|██████████████████████████████████████████████████████████████████████████████████████████████████████████████████████████████████████████████████████████████████████████████████████████████████████████████████▋                          | 8/9 [01:20<00:10, 10.08s/it]"
     ]
    },
    {
     "name": "stdout",
     "output_type": "stream",
     "text": [
      "---- Alpha: 0.05, Scenario : 5d1s----\n",
      "EER: 2.708138447146866, EER_threshold: 0.4545968893675476 \n",
      "MinDCT: 0.36323666978484564, MinDCT_threshold: 0.6227079328514987, \n",
      "64140 64140\n"
     ]
    },
    {
     "name": "stderr",
     "output_type": "stream",
     "text": [
      "100%|█████████████████████████████████████████████████████████████████████████████████████████████████████████████████████████████████████████████████████████████████████████████████████████████████████████████████████████████████████████████| 9/9 [01:29<00:00,  9.89s/it]\n"
     ]
    },
    {
     "name": "stdout",
     "output_type": "stream",
     "text": [
      "---- Alpha: 0.05, Scenario : 10d1s----\n",
      "EER: 2.937940519167956, EER_threshold: 0.4447405718124411 \n",
      "MinDCT: 0.3747636238610968, MinDCT_threshold: 0.6345423768007323, \n",
      "58170 58170\n"
     ]
    },
    {
     "name": "stderr",
     "output_type": "stream",
     "text": [
      " 11%|██████████████████████████▎                                                                                                                                                                                                                  | 1/9 [00:09<01:18,  9.84s/it]"
     ]
    },
    {
     "name": "stdout",
     "output_type": "stream",
     "text": [
      "---- Alpha: 0.1, Scenario : random----\n",
      "EER: 2.00080709199547, EER_threshold: 0.4853787334557623 \n",
      "MinDCT: 0.29671044923781875, MinDCT_threshold: 0.652063319566512, \n",
      "76819 76819\n"
     ]
    },
    {
     "name": "stderr",
     "output_type": "stream",
     "text": [
      "\r",
      " 22%|████████████████████████████████████████████████████▋                                                                                                                                                                                        | 2/9 [00:19<01:08,  9.83s/it]"
     ]
    },
    {
     "name": "stdout",
     "output_type": "stream",
     "text": [
      "---- Alpha: 0.1, Scenario : 1das----\n",
      "EER: 1.1529482347110456, EER_threshold: 0.5200933279138782 \n",
      "MinDCT: 0.23124176698446647, MinDCT_threshold: 0.6655423409516492, \n",
      "76673 76673\n"
     ]
    },
    {
     "name": "stderr",
     "output_type": "stream",
     "text": [
      "\r",
      " 33%|███████████████████████████████████████████████████████████████████████████████                                                                                                                                                              | 3/9 [00:31<01:03, 10.58s/it]"
     ]
    },
    {
     "name": "stdout",
     "output_type": "stream",
     "text": [
      "---- Alpha: 0.1, Scenario : 3das----\n",
      "EER: 1.326784101174345, EER_threshold: 0.5107469218054671 \n",
      "MinDCT: 0.19515582655826558, MinDCT_threshold: 0.6558726872981291, \n",
      "88560 88560\n"
     ]
    },
    {
     "name": "stderr",
     "output_type": "stream",
     "text": [
      "\r",
      " 44%|█████████████████████████████████████████████████████████████████████████████████████████████████████████▎                                                                                                                                   | 4/9 [00:39<00:48,  9.78s/it]"
     ]
    },
    {
     "name": "stdout",
     "output_type": "stream",
     "text": [
      "---- Alpha: 0.1, Scenario : 5das----\n",
      "EER: 1.294625937997423, EER_threshold: 0.511195199895296 \n",
      "MinDCT: 0.2217539604335633, MinDCT_threshold: 0.662164650714912, \n",
      "65965 65965\n"
     ]
    },
    {
     "name": "stderr",
     "output_type": "stream",
     "text": [
      "\r",
      " 56%|███████████████████████████████████████████████████████████████████████████████████████████████████████████████████████████████████▋                                                                                                         | 5/9 [00:47<00:36,  9.10s/it]"
     ]
    },
    {
     "name": "stdout",
     "output_type": "stream",
     "text": [
      "---- Alpha: 0.1, Scenario : 10das----\n",
      "EER: 1.4251264360116556, EER_threshold: 0.5083761574017378 \n",
      "MinDCT: 0.2531399671768764, MinDCT_threshold: 0.6627612319629407, \n",
      "59714 59714\n"
     ]
    },
    {
     "name": "stderr",
     "output_type": "stream",
     "text": [
      "\r",
      " 67%|██████████████████████████████████████████████████████████████████████████████████████████████████████████████████████████████████████████████████████████████                                                                               | 6/9 [00:59<00:29,  9.94s/it]"
     ]
    },
    {
     "name": "stdout",
     "output_type": "stream",
     "text": [
      "---- Alpha: 0.1, Scenario : 1d1s----\n",
      "EER: 1.648759273471476, EER_threshold: 0.5001790521145316 \n",
      "MinDCT: 0.2720644666155027, MinDCT_threshold: 0.6508694982749199, \n",
      "78180 78180\n"
     ]
    },
    {
     "name": "stderr",
     "output_type": "stream",
     "text": [
      "\r",
      " 78%|████████████████████████████████████████████████████████████████████████████████████████████████████████████████████████████████████████████████████████████████████████████████████████▎                                                    | 7/9 [01:11<00:21, 10.73s/it]"
     ]
    },
    {
     "name": "stdout",
     "output_type": "stream",
     "text": [
      "---- Alpha: 0.1, Scenario : 3d1s----\n",
      "EER: 2.23416551086454, EER_threshold: 0.47444566288959256 \n",
      "MinDCT: 0.3189782709200185, MinDCT_threshold: 0.6416848685964799, \n",
      "86520 86520\n"
     ]
    },
    {
     "name": "stderr",
     "output_type": "stream",
     "text": [
      "\r",
      " 89%|██████████████████████████████████████████████████████████████████████████████████████████████████████████████████████████████████████████████████████████████████████████████████████████████████████████████████▋                          | 8/9 [01:20<00:10, 10.26s/it]"
     ]
    },
    {
     "name": "stdout",
     "output_type": "stream",
     "text": [
      "---- Alpha: 0.1, Scenario : 5d1s----\n",
      "EER: 2.4929840972871844, EER_threshold: 0.4641571964938257 \n",
      "MinDCT: 0.35183972560024945, MinDCT_threshold: 0.6229137859364042, \n",
      "64140 64140\n"
     ]
    },
    {
     "name": "stderr",
     "output_type": "stream",
     "text": [
      "100%|█████████████████████████████████████████████████████████████████████████████████████████████████████████████████████████████████████████████████████████████████████████████████████████████████████████████████████████████████████████████| 9/9 [01:28<00:00,  9.86s/it]\n"
     ]
    },
    {
     "name": "stdout",
     "output_type": "stream",
     "text": [
      "---- Alpha: 0.1, Scenario : 10d1s----\n",
      "EER: 2.7918170878459687, EER_threshold: 0.4517118156177726 \n",
      "MinDCT: 0.35624892556300497, MinDCT_threshold: 0.6217898424696384, \n",
      "58170 58170\n"
     ]
    },
    {
     "name": "stderr",
     "output_type": "stream",
     "text": [
      " 11%|██████████████████████████▎                                                                                                                                                                                                                  | 1/9 [00:11<01:29, 11.16s/it]"
     ]
    },
    {
     "name": "stdout",
     "output_type": "stream",
     "text": [
      "---- Alpha: 0.15, Scenario : random----\n",
      "EER: 1.9370207891276896, EER_threshold: 0.48675947283938314 \n",
      "MinDCT: 0.29561696976008534, MinDCT_threshold: 0.6482337180547856, \n",
      "76819 76819\n"
     ]
    },
    {
     "name": "stderr",
     "output_type": "stream",
     "text": [
      "\r",
      " 22%|████████████████████████████████████████████████████▋                                                                                                                                                                                        | 2/9 [00:21<01:12, 10.38s/it]"
     ]
    },
    {
     "name": "stdout",
     "output_type": "stream",
     "text": [
      "---- Alpha: 0.15, Scenario : 1das----\n",
      "EER: 1.2325068798664458, EER_threshold: 0.5138180041980459 \n",
      "MinDCT: 0.22820288758754712, MinDCT_threshold: 0.6564822826659105, \n",
      "76673 76673\n"
     ]
    },
    {
     "name": "stderr",
     "output_type": "stream",
     "text": [
      "\r",
      " 33%|███████████████████████████████████████████████████████████████████████████████                                                                                                                                                              | 3/9 [00:32<01:05, 10.85s/it]"
     ]
    },
    {
     "name": "stdout",
     "output_type": "stream",
     "text": [
      "---- Alpha: 0.15, Scenario : 3das----\n",
      "EER: 1.3742095754290875, EER_threshold: 0.5052269627331861 \n",
      "MinDCT: 0.19290876242095753, MinDCT_threshold: 0.6520116135231667, \n",
      "88560 88560\n"
     ]
    },
    {
     "name": "stderr",
     "output_type": "stream",
     "text": [
      "\r",
      " 44%|█████████████████████████████████████████████████████████████████████████████████████████████████████████▎                                                                                                                                   | 4/9 [00:40<00:49,  9.94s/it]"
     ]
    },
    {
     "name": "stdout",
     "output_type": "stream",
     "text": [
      "---- Alpha: 0.15, Scenario : 5das----\n",
      "EER: 1.32797695747745, EER_threshold: 0.5065400299120261 \n",
      "MinDCT: 0.21731221102099602, MinDCT_threshold: 0.6622571903913019, \n",
      "65965 65965\n"
     ]
    },
    {
     "name": "stderr",
     "output_type": "stream",
     "text": [
      "\r",
      " 56%|███████████████████████████████████████████████████████████████████████████████████████████████████████████████████████████████████▋                                                                                                         | 5/9 [00:48<00:36,  9.13s/it]"
     ]
    },
    {
     "name": "stdout",
     "output_type": "stream",
     "text": [
      "---- Alpha: 0.15, Scenario : 10das----\n",
      "EER: 1.4636433667146733, EER_threshold: 0.5046852932532295 \n",
      "MinDCT: 0.24118297216733095, MinDCT_threshold: 0.6557229551836561, \n",
      "59714 59714\n"
     ]
    },
    {
     "name": "stderr",
     "output_type": "stream",
     "text": [
      "\r",
      " 67%|██████████████████████████████████████████████████████████████████████████████████████████████████████████████████████████████████████████████████████████████                                                                               | 6/9 [01:00<00:30, 10.05s/it]"
     ]
    },
    {
     "name": "stdout",
     "output_type": "stream",
     "text": [
      "---- Alpha: 0.15, Scenario : 1d1s----\n",
      "EER: 1.66282936812484, EER_threshold: 0.4980070240067228 \n",
      "MinDCT: 0.2800588385776413, MinDCT_threshold: 0.6427065898928577, \n",
      "78180 78180\n"
     ]
    },
    {
     "name": "stderr",
     "output_type": "stream",
     "text": [
      "\r",
      " 78%|████████████████████████████████████████████████████████████████████████████████████████████████████████████████████████████████████████████████████████████████████████████████████████▎                                                    | 7/9 [01:12<00:21, 10.70s/it]"
     ]
    },
    {
     "name": "stdout",
     "output_type": "stream",
     "text": [
      "---- Alpha: 0.15, Scenario : 3d1s----\n",
      "EER: 2.10124826629681, EER_threshold: 0.47732903583423214 \n",
      "MinDCT: 0.31808830328247806, MinDCT_threshold: 0.6459279468695273, \n",
      "86520 86520\n"
     ]
    },
    {
     "name": "stderr",
     "output_type": "stream",
     "text": [
      "\r",
      " 89%|██████████████████████████████████████████████████████████████████████████████████████████████████████████████████████████████████████████████████████████████████████████████████████████████████████████████████▋                          | 8/9 [01:21<00:10, 10.15s/it]"
     ]
    },
    {
     "name": "stdout",
     "output_type": "stream",
     "text": [
      "---- Alpha: 0.15, Scenario : 5d1s----\n",
      "EER: 2.388525101340817, EER_threshold: 0.4674317185424228 \n",
      "MinDCT: 0.3455410040536327, MinDCT_threshold: 0.6250868263711, \n",
      "64140 64140\n"
     ]
    },
    {
     "name": "stderr",
     "output_type": "stream",
     "text": [
      "100%|█████████████████████████████████████████████████████████████████████████████████████████████████████████████████████████████████████████████████████████████████████████████████████████████████████████████████████████████████████████████| 9/9 [01:30<00:00, 10.05s/it]\n"
     ]
    },
    {
     "name": "stdout",
     "output_type": "stream",
     "text": [
      "---- Alpha: 0.15, Scenario : 10d1s----\n",
      "EER: 2.7282104177411037, EER_threshold: 0.4554192115249167 \n",
      "MinDCT: 0.3565583634175692, MinDCT_threshold: 0.6172007481681395, \n",
      "58170 58170\n"
     ]
    },
    {
     "name": "stderr",
     "output_type": "stream",
     "text": [
      " 11%|██████████████████████████▎                                                                                                                                                                                                                  | 1/9 [00:10<01:21, 10.19s/it]"
     ]
    },
    {
     "name": "stdout",
     "output_type": "stream",
     "text": [
      "---- Alpha: 0.2, Scenario : random----\n",
      "EER: 1.9604524922219764, EER_threshold: 0.4835511603650031 \n",
      "MinDCT: 0.30174826540309035, MinDCT_threshold: 0.6560478545387949, \n",
      "76819 76819\n"
     ]
    },
    {
     "name": "stderr",
     "output_type": "stream",
     "text": [
      "\r",
      " 22%|████████████████████████████████████████████████████▋                                                                                                                                                                                        | 2/9 [00:20<01:10, 10.11s/it]"
     ]
    },
    {
     "name": "stdout",
     "output_type": "stream",
     "text": [
      "---- Alpha: 0.2, Scenario : 1das----\n",
      "EER: 1.3303248862050527, EER_threshold: 0.5049248554910747 \n",
      "MinDCT: 0.23042009573122219, MinDCT_threshold: 0.6542427036733757, \n",
      "76673 76673\n"
     ]
    },
    {
     "name": "stderr",
     "output_type": "stream",
     "text": [
      "\r",
      " 33%|███████████████████████████████████████████████████████████████████████████████                                                                                                                                                              | 3/9 [00:31<01:04, 10.75s/it]"
     ]
    },
    {
     "name": "stdout",
     "output_type": "stream",
     "text": [
      "---- Alpha: 0.2, Scenario : 3das----\n",
      "EER: 1.4803523035230353, EER_threshold: 0.49668039135613873 \n",
      "MinDCT: 0.19079719963866304, MinDCT_threshold: 0.643437648682253, \n",
      "88560 88560\n"
     ]
    },
    {
     "name": "stderr",
     "output_type": "stream",
     "text": [
      "\r",
      " 44%|█████████████████████████████████████████████████████████████████████████████████████████████████████████▎                                                                                                                                   | 4/9 [00:40<00:49,  9.90s/it]"
     ]
    },
    {
     "name": "stdout",
     "output_type": "stream",
     "text": [
      "---- Alpha: 0.2, Scenario : 5das----\n",
      "EER: 1.4174183279011596, EER_threshold: 0.4978781748073995 \n",
      "MinDCT: 0.21553854316683088, MinDCT_threshold: 0.6485872079330856, \n",
      "65965 65965\n"
     ]
    },
    {
     "name": "stderr",
     "output_type": "stream",
     "text": [
      "\r",
      " 56%|███████████████████████████████████████████████████████████████████████████████████████████████████████████████████████████████████▋                                                                                                         | 5/9 [00:48<00:36,  9.11s/it]"
     ]
    },
    {
     "name": "stdout",
     "output_type": "stream",
     "text": [
      "---- Alpha: 0.2, Scenario : 10das----\n",
      "EER: 1.5289546839937032, EER_threshold: 0.4980294819558252 \n",
      "MinDCT: 0.24036239407844057, MinDCT_threshold: 0.6727797018766425, \n",
      "59714 59714\n"
     ]
    },
    {
     "name": "stderr",
     "output_type": "stream",
     "text": [
      "\r",
      " 67%|██████████████████████████████████████████████████████████████████████████████████████████████████████████████████████████████████████████████████████████████                                                                               | 6/9 [00:58<00:28,  9.66s/it]"
     ]
    },
    {
     "name": "stdout",
     "output_type": "stream",
     "text": [
      "---- Alpha: 0.2, Scenario : 1d1s----\n",
      "EER: 1.760040931184446, EER_threshold: 0.4927908284355951 \n",
      "MinDCT: 0.28896137119467896, MinDCT_threshold: 0.6441919162366376, \n",
      "78180 78180\n"
     ]
    },
    {
     "name": "stderr",
     "output_type": "stream",
     "text": [
      "\r",
      " 78%|████████████████████████████████████████████████████████████████████████████████████████████████████████████████████████████████████████████████████████████████████████████████████████▎                                                    | 7/9 [01:10<00:20, 10.37s/it]"
     ]
    },
    {
     "name": "stdout",
     "output_type": "stream",
     "text": [
      "---- Alpha: 0.2, Scenario : 3d1s----\n",
      "EER: 2.098936662043458, EER_threshold: 0.47670241975932814 \n",
      "MinDCT: 0.3223069810448451, MinDCT_threshold: 0.6448229468603147, \n",
      "86520 86520\n"
     ]
    },
    {
     "name": "stderr",
     "output_type": "stream",
     "text": [
      "\r",
      " 89%|██████████████████████████████████████████████████████████████████████████████████████████████████████████████████████████████████████████████████████████████████████████████████████████████████████████████████▋                          | 8/9 [01:20<00:10, 10.21s/it]"
     ]
    },
    {
     "name": "stdout",
     "output_type": "stream",
     "text": [
      "---- Alpha: 0.2, Scenario : 5d1s----\n",
      "EER: 2.324602432179607, EER_threshold: 0.4676300985008921 \n",
      "MinDCT: 0.3460399126909885, MinDCT_threshold: 0.6361787988897807, \n",
      "64140 64140\n"
     ]
    },
    {
     "name": "stderr",
     "output_type": "stream",
     "text": [
      "100%|█████████████████████████████████████████████████████████████████████████████████████████████████████████████████████████████████████████████████████████████████████████████████████████████████████████████████████████████████████████████| 9/9 [01:28<00:00,  9.85s/it]\n"
     ]
    },
    {
     "name": "stdout",
     "output_type": "stream",
     "text": [
      "---- Alpha: 0.2, Scenario : 10d1s----\n",
      "EER: 2.669761045212309, EER_threshold: 0.4572914657120437 \n",
      "MinDCT: 0.3512291559222967, MinDCT_threshold: 0.6247302396153868, \n",
      "58170 58170\n"
     ]
    },
    {
     "name": "stderr",
     "output_type": "stream",
     "text": [
      " 11%|██████████████████████████▎                                                                                                                                                                                                                  | 1/9 [00:10<01:21, 10.18s/it]"
     ]
    },
    {
     "name": "stdout",
     "output_type": "stream",
     "text": [
      "---- Alpha: 0.3, Scenario : random----\n",
      "EER: 2.1179656074669024, EER_threshold: 0.47394287207208396 \n",
      "MinDCT: 0.31457061404079717, MinDCT_threshold: 0.6383313572282083, \n",
      "76819 76819\n"
     ]
    },
    {
     "name": "stderr",
     "output_type": "stream",
     "text": [
      "\r",
      " 22%|████████████████████████████████████████████████████▋                                                                                                                                                                                        | 2/9 [00:19<01:09,  9.94s/it]"
     ]
    },
    {
     "name": "stdout",
     "output_type": "stream",
     "text": [
      "---- Alpha: 0.3, Scenario : 1das----\n",
      "EER: 1.5663923415022238, EER_threshold: 0.48688783775683975 \n",
      "MinDCT: 0.23180259022080787, MinDCT_threshold: 0.6365848646871476, \n",
      "76673 76673\n"
     ]
    },
    {
     "name": "stderr",
     "output_type": "stream",
     "text": [
      "\r",
      " 33%|███████████████████████████████████████████████████████████████████████████████                                                                                                                                                              | 3/9 [00:31<01:03, 10.61s/it]"
     ]
    },
    {
     "name": "stdout",
     "output_type": "stream",
     "text": [
      "---- Alpha: 0.3, Scenario : 3das----\n",
      "EER: 1.776196928635953, EER_threshold: 0.4805087973482678 \n",
      "MinDCT: 0.20616531165311655, MinDCT_threshold: 0.6502473326197685, \n",
      "88560 88560\n"
     ]
    },
    {
     "name": "stderr",
     "output_type": "stream",
     "text": [
      "\r",
      " 44%|█████████████████████████████████████████████████████████████████████████████████████████████████████████▎                                                                                                                                   | 4/9 [00:39<00:48,  9.78s/it]"
     ]
    },
    {
     "name": "stdout",
     "output_type": "stream",
     "text": [
      "---- Alpha: 0.3, Scenario : 5das----\n",
      "EER: 1.6326839990904267, EER_threshold: 0.4831135001867015 \n",
      "MinDCT: 0.2136890775411203, MinDCT_threshold: 0.6621842749460328, \n",
      "65965 65965\n"
     ]
    },
    {
     "name": "stderr",
     "output_type": "stream",
     "text": [
      "\r",
      " 56%|███████████████████████████████████████████████████████████████████████████████████████████████████████████████████████████████████▋                                                                                                         | 5/9 [00:47<00:36,  9.04s/it]"
     ]
    },
    {
     "name": "stdout",
     "output_type": "stream",
     "text": [
      "---- Alpha: 0.3, Scenario : 10das----\n",
      "EER: 1.741635127440801, EER_threshold: 0.48227055081052794 \n",
      "MinDCT: 0.23513748869611814, MinDCT_threshold: 0.6625763318294399, \n",
      "59714 59714\n"
     ]
    },
    {
     "name": "stderr",
     "output_type": "stream",
     "text": [
      "\r",
      " 67%|██████████████████████████████████████████████████████████████████████████████████████████████████████████████████████████████████████████████████████████████                                                                               | 6/9 [00:58<00:28,  9.53s/it]"
     ]
    },
    {
     "name": "stdout",
     "output_type": "stream",
     "text": [
      "---- Alpha: 0.3, Scenario : 1d1s----\n",
      "EER: 1.9493476592478896, EER_threshold: 0.4804171640149857 \n",
      "MinDCT: 0.31284215911997953, MinDCT_threshold: 0.6333618035109161, \n",
      "78180 78180\n"
     ]
    },
    {
     "name": "stderr",
     "output_type": "stream",
     "text": [
      "\r",
      " 78%|████████████████████████████████████████████████████████████████████████████████████████████████████████████████████████████████████████████████████████████████████████████████████████▎                                                    | 7/9 [01:09<00:20, 10.25s/it]"
     ]
    },
    {
     "name": "stdout",
     "output_type": "stream",
     "text": [
      "---- Alpha: 0.3, Scenario : 3d1s----\n",
      "EER: 2.2457235321312994, EER_threshold: 0.46782101147245836 \n",
      "MinDCT: 0.3335644937586685, MinDCT_threshold: 0.638670218522686, \n",
      "86520 86520\n"
     ]
    },
    {
     "name": "stderr",
     "output_type": "stream",
     "text": [
      "\r",
      " 89%|██████████████████████████████████████████████████████████████████████████████████████████████████████████████████████████████████████████████████████████████████████████████████████████████████████████████████▋                          | 8/9 [01:20<00:10, 10.26s/it]"
     ]
    },
    {
     "name": "stdout",
     "output_type": "stream",
     "text": [
      "---- Alpha: 0.3, Scenario : 5d1s----\n",
      "EER: 2.4134705332086064, EER_threshold: 0.463818647742015 \n",
      "MinDCT: 0.35653258497037726, MinDCT_threshold: 0.6285127336963702, \n",
      "64140 64140\n"
     ]
    },
    {
     "name": "stderr",
     "output_type": "stream",
     "text": [
      "100%|█████████████████████████████████████████████████████████████████████████████████████████████████████████████████████████████████████████████████████████████████████████████████████████████████████████████████████████████████████████████| 9/9 [01:28<00:00,  9.82s/it]\n"
     ]
    },
    {
     "name": "stdout",
     "output_type": "stream",
     "text": [
      "---- Alpha: 0.3, Scenario : 10d1s----\n",
      "EER: 2.6508509541000516, EER_threshold: 0.45594705170897054 \n",
      "MinDCT: 0.3581399346742307, MinDCT_threshold: 0.6231047777797454, \n",
      "58170 58170\n"
     ]
    },
    {
     "name": "stderr",
     "output_type": "stream",
     "text": [
      " 11%|██████████████████████████▎                                                                                                                                                                                                                  | 1/9 [00:10<01:22, 10.30s/it]"
     ]
    },
    {
     "name": "stdout",
     "output_type": "stream",
     "text": [
      "---- Alpha: 0.4, Scenario : random----\n",
      "EER: 2.42518127025866, EER_threshold: 0.4599991547756135 \n",
      "MinDCT: 0.33716918991395356, MinDCT_threshold: 0.6342219054123444, \n",
      "76819 76819\n"
     ]
    },
    {
     "name": "stderr",
     "output_type": "stream",
     "text": [
      "\r",
      " 22%|████████████████████████████████████████████████████▋                                                                                                                                                                                        | 2/9 [00:20<01:12, 10.30s/it]"
     ]
    },
    {
     "name": "stdout",
     "output_type": "stream",
     "text": [
      "---- Alpha: 0.4, Scenario : 1das----\n",
      "EER: 2.295462548745973, EER_threshold: 0.45805204043399783 \n",
      "MinDCT: 0.2524487107586765, MinDCT_threshold: 0.6355663280966231, \n",
      "76673 76673\n"
     ]
    },
    {
     "name": "stderr",
     "output_type": "stream",
     "text": [
      "\r",
      " 33%|███████████████████████████████████████████████████████████████████████████████                                                                                                                                                              | 3/9 [00:32<01:06, 11.14s/it]"
     ]
    },
    {
     "name": "stdout",
     "output_type": "stream",
     "text": [
      "---- Alpha: 0.4, Scenario : 3das----\n",
      "EER: 2.26513098464318, EER_threshold: 0.4574810072724562 \n",
      "MinDCT: 0.2274503161698284, MinDCT_threshold: 0.655202010347544, \n",
      "88560 88560\n"
     ]
    },
    {
     "name": "stderr",
     "output_type": "stream",
     "text": [
      "\r",
      " 44%|█████████████████████████████████████████████████████████████████████████████████████████████████████████▎                                                                                                                                   | 4/9 [00:41<00:50, 10.18s/it]"
     ]
    },
    {
     "name": "stdout",
     "output_type": "stream",
     "text": [
      "---- Alpha: 0.4, Scenario : 5das----\n",
      "EER: 2.101114227241719, EER_threshold: 0.46256257257672373 \n",
      "MinDCT: 0.22915182293640565, MinDCT_threshold: 0.6553941472234482, \n",
      "65965 65965\n"
     ]
    },
    {
     "name": "stderr",
     "output_type": "stream",
     "text": [
      "\r",
      " 56%|███████████████████████████████████████████████████████████████████████████████████████████████████████████████████████████████████▋                                                                                                         | 5/9 [00:49<00:37,  9.45s/it]"
     ]
    },
    {
     "name": "stdout",
     "output_type": "stream",
     "text": [
      "---- Alpha: 0.4, Scenario : 10das----\n",
      "EER: 2.187091804267006, EER_threshold: 0.4613994995692833 \n",
      "MinDCT: 0.24501791874602272, MinDCT_threshold: 0.6443858687573223, \n",
      "59714 59714\n"
     ]
    },
    {
     "name": "stderr",
     "output_type": "stream",
     "text": [
      "\r",
      " 67%|██████████████████████████████████████████████████████████████████████████████████████████████████████████████████████████████████████████████████████████████                                                                               | 6/9 [01:00<00:29,  9.93s/it]"
     ]
    },
    {
     "name": "stdout",
     "output_type": "stream",
     "text": [
      "---- Alpha: 0.4, Scenario : 1d1s----\n",
      "EER: 2.1706318751598874, EER_threshold: 0.46689544561116025 \n",
      "MinDCT: 0.3322205167562036, MinDCT_threshold: 0.6153869409804756, \n",
      "78180 78180\n"
     ]
    },
    {
     "name": "stderr",
     "output_type": "stream",
     "text": [
      "\r",
      " 78%|████████████████████████████████████████████████████████████████████████████████████████████████████████████████████████████████████████████████████████████████████████████████████████▎                                                    | 7/9 [01:12<00:21, 10.72s/it]"
     ]
    },
    {
     "name": "stdout",
     "output_type": "stream",
     "text": [
      "---- Alpha: 0.4, Scenario : 3d1s----\n",
      "EER: 2.452612112806287, EER_threshold: 0.457809013113914 \n",
      "MinDCT: 0.35151410078594547, MinDCT_threshold: 0.629072505936819, \n",
      "86520 86520\n"
     ]
    },
    {
     "name": "stderr",
     "output_type": "stream",
     "text": [
      "\r",
      " 89%|██████████████████████████████████████████████████████████████████████████████████████████████████████████████████████████████████████████████████████████████████████████████████████████████████████████████████▋                          | 8/9 [01:23<00:10, 10.80s/it]"
     ]
    },
    {
     "name": "stdout",
     "output_type": "stream",
     "text": [
      "---- Alpha: 0.4, Scenario : 5d1s----\n",
      "EER: 2.575615840349236, EER_threshold: 0.454164726261727 \n",
      "MinDCT: 0.3694106641721235, MinDCT_threshold: 0.6217208500536962, \n",
      "64140 64140\n"
     ]
    },
    {
     "name": "stderr",
     "output_type": "stream",
     "text": [
      "100%|█████████████████████████████████████████████████████████████████████████████████████████████████████████████████████████████████████████████████████████████████████████████████████████████████████████████████████████████████████████████| 9/9 [01:32<00:00, 10.31s/it]\n"
     ]
    },
    {
     "name": "stdout",
     "output_type": "stream",
     "text": [
      "---- Alpha: 0.4, Scenario : 10d1s----\n",
      "EER: 2.752277806429431, EER_threshold: 0.44913843824244315 \n",
      "MinDCT: 0.36425992779783395, MinDCT_threshold: 0.6113717270251979, \n",
      "58170 58170\n"
     ]
    },
    {
     "name": "stderr",
     "output_type": "stream",
     "text": [
      " 11%|██████████████████████████▎                                                                                                                                                                                                                  | 1/9 [00:10<01:26, 10.82s/it]"
     ]
    },
    {
     "name": "stdout",
     "output_type": "stream",
     "text": [
      "---- Alpha: 0.5, Scenario : random----\n",
      "EER: 2.7753550553899426, EER_threshold: 0.44522394599588777 \n",
      "MinDCT: 0.35855712779390514, MinDCT_threshold: 0.6313428132580887, \n",
      "76819 76819\n"
     ]
    },
    {
     "name": "stderr",
     "output_type": "stream",
     "text": [
      "\r",
      " 22%|████████████████████████████████████████████████████▋                                                                                                                                                                                        | 2/9 [00:21<01:15, 10.76s/it]"
     ]
    },
    {
     "name": "stdout",
     "output_type": "stream",
     "text": [
      "---- Alpha: 0.5, Scenario : 1das----\n",
      "EER: 3.059747238271621, EER_threshold: 0.43473796005535803 \n",
      "MinDCT: 0.2765771523221994, MinDCT_threshold: 0.6295275981156513, \n",
      "76673 76673\n"
     ]
    },
    {
     "name": "stderr",
     "output_type": "stream",
     "text": [
      "\r",
      " 33%|███████████████████████████████████████████████████████████████████████████████                                                                                                                                                              | 3/9 [00:33<01:07, 11.26s/it]"
     ]
    },
    {
     "name": "stdout",
     "output_type": "stream",
     "text": [
      "---- Alpha: 0.5, Scenario : 3das----\n",
      "EER: 3.051038843721771, EER_threshold: 0.4337578408492575 \n",
      "MinDCT: 0.25191960252935863, MinDCT_threshold: 0.6364608607048166, \n",
      "88560 88560\n"
     ]
    },
    {
     "name": "stderr",
     "output_type": "stream",
     "text": [
      "\r",
      " 44%|█████████████████████████████████████████████████████████████████████████████████████████████████████████▎                                                                                                                                   | 4/9 [00:43<00:53, 10.75s/it]"
     ]
    },
    {
     "name": "stdout",
     "output_type": "stream",
     "text": [
      "---- Alpha: 0.5, Scenario : 5das----\n",
      "EER: 2.7120442658985824, EER_threshold: 0.44282892624559644 \n",
      "MinDCT: 0.2544076404153718, MinDCT_threshold: 0.6296999997398992, \n",
      "65965 65965\n"
     ]
    },
    {
     "name": "stderr",
     "output_type": "stream",
     "text": [
      "\r",
      " 56%|███████████████████████████████████████████████████████████████████████████████████████████████████████████████████████████████████▋                                                                                                         | 5/9 [00:51<00:38,  9.74s/it]"
     ]
    },
    {
     "name": "stdout",
     "output_type": "stream",
     "text": [
      "---- Alpha: 0.5, Scenario : 10das----\n",
      "EER: 2.7079076933382455, EER_threshold: 0.44318639587481234 \n",
      "MinDCT: 0.2525705864621362, MinDCT_threshold: 0.6370737123120775, \n",
      "59714 59714\n"
     ]
    },
    {
     "name": "stderr",
     "output_type": "stream",
     "text": [
      "\r",
      " 67%|██████████████████████████████████████████████████████████████████████████████████████████████████████████████████████████████████████████████████████████████                                                                               | 6/9 [01:02<00:30, 10.16s/it]"
     ]
    },
    {
     "name": "stdout",
     "output_type": "stream",
     "text": [
      "---- Alpha: 0.5, Scenario : 1d1s----\n",
      "EER: 2.4763366589920697, EER_threshold: 0.4526854149293169 \n",
      "MinDCT: 0.3601176771552827, MinDCT_threshold: 0.6078769375298234, \n",
      "78180 78180\n"
     ]
    },
    {
     "name": "stderr",
     "output_type": "stream",
     "text": [
      "\r",
      " 78%|████████████████████████████████████████████████████████████████████████████████████████████████████████████████████████████████████████████████████████████████████████████████████████▎                                                    | 7/9 [01:14<00:21, 10.89s/it]"
     ]
    },
    {
     "name": "stdout",
     "output_type": "stream",
     "text": [
      "---- Alpha: 0.5, Scenario : 3d1s----\n",
      "EER: 2.7288488210818307, EER_threshold: 0.44455355359935356 \n",
      "MinDCT: 0.37357836338418865, MinDCT_threshold: 0.6267795874983382, \n",
      "86520 86520\n"
     ]
    },
    {
     "name": "stderr",
     "output_type": "stream",
     "text": [
      "\r",
      " 89%|██████████████████████████████████████████████████████████████████████████████████████████████████████████████████████████████████████████████████████████████████████████████████████████████████████████████████▋                          | 8/9 [01:23<00:10, 10.34s/it]"
     ]
    },
    {
     "name": "stdout",
     "output_type": "stream",
     "text": [
      "---- Alpha: 0.5, Scenario : 5d1s----\n",
      "EER: 2.8235110695353915, EER_threshold: 0.44377382846249636 \n",
      "MinDCT: 0.38372310570626755, MinDCT_threshold: 0.6195593052108259, \n",
      "64140 64140\n"
     ]
    },
    {
     "name": "stderr",
     "output_type": "stream",
     "text": [
      "100%|█████████████████████████████████████████████████████████████████████████████████████████████████████████████████████████████████████████████████████████████████████████████████████████████████████████████████████████████████████████████| 9/9 [01:33<00:00, 10.39s/it]"
     ]
    },
    {
     "name": "stdout",
     "output_type": "stream",
     "text": [
      "---- Alpha: 0.5, Scenario : 10d1s----\n",
      "EER: 2.905277634519512, EER_threshold: 0.44052119023018776 \n",
      "MinDCT: 0.38012721334020977, MinDCT_threshold: 0.6107626067711185, \n",
      "58170 58170\n"
     ]
    },
    {
     "name": "stderr",
     "output_type": "stream",
     "text": [
      "\n"
     ]
    }
   ],
   "source": [
    "eers_v1=defaultdict(list)\n",
    "mindcts_v1=defaultdict(list)\n",
    "Threshold=0.51\n",
    "\n",
    "for alpha in [0.05,0.1,0.15,0.2,0.3,0.4,0.5]:\n",
    "    scenario2model2day2score_v1[alpha]=defaultdict(list)\n",
    "    eers_v1[alpha]={}\n",
    "    mindcts_v1[alpha]={}\n",
    "    for tmp_scenario in tqdm(['random','1das','3das','5das','10das','1d1s','3d1s','5d1s','10d1s']):\n",
    "        # 0. init\n",
    "        scenario2model2day2score_v1[alpha][tmp_scenario]=defaultdict(list)\n",
    "\n",
    "        # 1. Load trial trajectory and enrollment model\n",
    "        f_read = open('./trials/%s/trial.pkl' %tmp_scenario, 'rb')\n",
    "        trials = pickle.load(f_read)\n",
    "        f_read.close()\n",
    "        enrol_models={i.split()[0]:i.split()[1:] for i in open('./trials/%s/enrol_model'%tmp_scenario)}\n",
    "\n",
    "        # 2. achieve enrol template\n",
    "        enrol_embd_dict={}\n",
    "        for tmp_model in enrol_models:\n",
    "            enrol_embd=np.zeros((1,128))\n",
    "            for utt in enrol_models[tmp_model]:\n",
    "                enrol_embd += embds_dict[utt]\n",
    "\n",
    "#             enrol_embd_dict[tmp_model]=enrol_embd/np.linalg.norm(enrol_embd)\n",
    "            enrol_embd_dict[tmp_model]=enrol_embd/len(enrol_models[tmp_model])\n",
    "        # 3. scoring\n",
    "        true_score=[]\n",
    "        false_score=[]\n",
    "\n",
    "        if tmp_scenario in ['random']:\n",
    "            for tmp_model in trials:\n",
    "                enrol_embd = enrol_embd_dict[tmp_model]\n",
    "                ts=tmp_model[3:7]\n",
    "                scenario2model2day2score_v1[alpha][tmp_scenario][tmp_model]=defaultdict(list)\n",
    "                for utt in trials[tmp_model]:\n",
    "                    test_embd = embds_dict[utt]\n",
    "                    result = 1 - spatial.distance.cosine(enrol_embd, test_embd)\n",
    "                    if ts == utt[:4]:\n",
    "                        true_score.append(result) \n",
    "                        scenario2model2day2score_v1[alpha][tmp_scenario][tmp_model]['true'].append(result)\n",
    "                    else:\n",
    "                        false_score.append(result) \n",
    "                        scenario2model2day2score_v1[alpha][tmp_scenario][tmp_model]['false'].append(result)\n",
    "                    \n",
    "                    if result> Threshold:\n",
    "                        enrol_embd = (1-alpha)*enrol_embd + alpha*test_embd\n",
    "                    \n",
    "        elif tmp_scenario in ['1das','3das','5das','10das']:\n",
    "            for tmp_model in trials:\n",
    "                enrol_embd = enrol_embd_dict[tmp_model]\n",
    "                ts=tmp_model[3:7]\n",
    "                scenario2model2day2score_v1[alpha][tmp_scenario][tmp_model]=defaultdict(list)\n",
    "                for day in trials[tmp_model]:\n",
    "                    scenario2model2day2score_v1[alpha][tmp_scenario][tmp_model][day]=defaultdict(list)\n",
    "                    for utt in trials[tmp_model][day]:\n",
    "                        test_embd = embds_dict[utt]\n",
    "                        result = 1 - spatial.distance.cosine(enrol_embd, test_embd)\n",
    "                        if ts == utt[:4]:\n",
    "                            true_score.append(result) \n",
    "                            scenario2model2day2score_v1[alpha][tmp_scenario][tmp_model][day]['true'].append(result)\n",
    "                        else:\n",
    "                            false_score.append(result) \n",
    "                            scenario2model2day2score_v1[alpha][tmp_scenario][tmp_model][day]['false'].append(result)\n",
    "                        \n",
    "                        if result> Threshold:\n",
    "                            enrol_embd = (1-alpha)*enrol_embd + alpha*test_embd\n",
    "                        \n",
    "        elif tmp_scenario in ['1d1s','3d1s','5d1s','10d1s']:\n",
    "            for tmp_round in trials:\n",
    "                scenario2model2day2score_v1[alpha][tmp_scenario][tmp_round]=defaultdict(list)\n",
    "                for tmp_model in trials[tmp_round]:\n",
    "                    enrol_embd = enrol_embd_dict[tmp_model]\n",
    "                    ts=tmp_model[3:7]\n",
    "                    scenario2model2day2score_v1[alpha][tmp_scenario][tmp_round][tmp_model]=defaultdict(list)\n",
    "                    for day in trials[tmp_round][tmp_model]:\n",
    "                        scenario2model2day2score_v1[alpha][tmp_scenario][tmp_round][tmp_model][day]=defaultdict(list)\n",
    "                        for utt in trials[tmp_round][tmp_model][day]:\n",
    "                            test_embd = embds_dict[utt]\n",
    "                            result = 1 - spatial.distance.cosine(enrol_embd, test_embd)\n",
    "                            if ts == utt[:4]:\n",
    "                                true_score.append(result) \n",
    "                                scenario2model2day2score_v1[alpha][tmp_scenario][tmp_round][tmp_model][day]['true'].append(result)\n",
    "                            else:\n",
    "                                false_score.append(result) \n",
    "                                scenario2model2day2score_v1[alpha][tmp_scenario][tmp_round][tmp_model][day]['false'].append(result)\n",
    "                            \n",
    "                            if result> Threshold:\n",
    "                                enrol_embd = (1-alpha)*enrol_embd + alpha*test_embd\n",
    "                                \n",
    "        eer_v1, threshold_eer, mindct_v1, threashold_dct = compute_eer(np.array(true_score), np.array(false_score))\n",
    "        eers_v1[alpha][tmp_scenario]=eer_v1\n",
    "        mindcts_v1[alpha][tmp_scenario]=mindct_v1\n",
    "\n",
    "        print('---- Alpha: %s, Scenario : %s----'%(alpha,tmp_scenario))\n",
    "        print('EER: %s, EER_threshold: %s \\nMinDCT: %s, MinDCT_threshold: %s, '%(eer_v1*100,threshold_eer, mindct_v1, threashold_dct))\n",
    "        print(len(true_score),len(false_score))\n",
    "    "
   ]
  },
  {
   "cell_type": "markdown",
   "metadata": {},
   "source": [
    "## DRL-TU-AdW (V21)"
   ]
  },
  {
   "cell_type": "code",
   "execution_count": 16,
   "metadata": {},
   "outputs": [
    {
     "data": {
      "text/plain": [
       "_IncompatibleKeys(missing_keys=[], unexpected_keys=['linear_determine.weight', 'linear_determine.bias'])"
      ]
     },
     "execution_count": 16,
     "metadata": {},
     "output_type": "execute_result"
    }
   ],
   "source": [
    "import torch.nn as nn\n",
    "import torch\n",
    "import torch.nn.functional as F\n",
    "\n",
    "class Pi_net(nn.Module):\n",
    "    def __init__(self, input_size, hidden_size, output_size):\n",
    "        super(Pi_net, self).__init__()\n",
    "        self.linear1 = nn.Linear(input_size, hidden_size)\n",
    "        self.linear2 = nn.Linear(hidden_size, int(hidden_size/2))\n",
    "        self.mu = nn.Linear(int(hidden_size/2), output_size)\n",
    "        self.sigma = nn.Linear(int(hidden_size/2), output_size)\n",
    "\n",
    "    def forward(self, s):\n",
    "        x = F.relu(self.linear1(s))\n",
    "        x = F.relu(self.linear2(x))\n",
    "        mu = (torch.tanh(self.mu(x))+1)/2\n",
    "        sigma = F.softplus(self.mu(x))\n",
    "        return mu,sigma \n",
    "\n",
    "actor = Pi_net(256, 256, 1) # \n",
    "checkpoint = torch.load('./DRL-TU/egs/exp/DRL-TU-AdW_pretrained/model_final.pkl',map_location='cpu')\n",
    "actor.load_state_dict(checkpoint['pi'],strict=False)\n",
    "# actor = actor.to('cuda:3')"
   ]
  },
  {
   "cell_type": "code",
   "execution_count": null,
   "metadata": {},
   "outputs": [
    {
     "name": "stderr",
     "output_type": "stream",
     "text": [
      " 11%|██████████████████████████▎                                                                                                                                                                                                                  | 1/9 [00:59<07:56, 59.54s/it]"
     ]
    },
    {
     "name": "stdout",
     "output_type": "stream",
     "text": [
      "---- Scenario : random----\n",
      "EER: 2.082818052825473, EER_threshold: 0.4823680352742584 \n",
      "MinDCT: 0.29384657441518375, MinDCT_threshold: 0.6615565213392994, \n",
      "76819 76819\n"
     ]
    },
    {
     "name": "stderr",
     "output_type": "stream",
     "text": [
      "\r",
      " 22%|████████████████████████████████████████████████████▋                                                                                                                                                                                        | 2/9 [01:59<06:57, 59.58s/it]"
     ]
    },
    {
     "name": "stdout",
     "output_type": "stream",
     "text": [
      "---- Scenario : 1das----\n",
      "EER: 1.139905833865898, EER_threshold: 0.5213414858432526 \n",
      "MinDCT: 0.2349718936261787, MinDCT_threshold: 0.6590617168880055, \n",
      "76673 76673\n"
     ]
    },
    {
     "name": "stderr",
     "output_type": "stream",
     "text": [
      "\r",
      " 33%|███████████████████████████████████████████████████████████████████████████████                                                                                                                                                              | 3/9 [03:09<06:28, 64.73s/it]"
     ]
    },
    {
     "name": "stdout",
     "output_type": "stream",
     "text": [
      "---- Scenario : 3das----\n",
      "EER: 1.335817524841915, EER_threshold: 0.5113768858409535 \n",
      "MinDCT: 0.19625112917795845, MinDCT_threshold: 0.6639785478311441, \n",
      "88560 88560\n"
     ]
    },
    {
     "name": "stderr",
     "output_type": "stream",
     "text": [
      "\r",
      " 44%|█████████████████████████████████████████████████████████████████████████████████████████████████████████▎                                                                                                                                   | 4/9 [03:59<04:53, 58.75s/it]"
     ]
    },
    {
     "name": "stdout",
     "output_type": "stream",
     "text": [
      "---- Scenario : 5das----\n",
      "EER: 1.3158493140301675, EER_threshold: 0.5115842196157928 \n",
      "MinDCT: 0.2251648601531115, MinDCT_threshold: 0.6516122084361357, \n",
      "65965 65965\n"
     ]
    },
    {
     "name": "stderr",
     "output_type": "stream",
     "text": [
      "\r",
      " 56%|███████████████████████████████████████████████████████████████████████████████████████████████████████████████████████████████████▋                                                                                                         | 5/9 [04:45<03:36, 54.18s/it]"
     ]
    },
    {
     "name": "stdout",
     "output_type": "stream",
     "text": [
      "---- Scenario : 10das----\n",
      "EER: 1.4686673141976756, EER_threshold: 0.506774099770693 \n",
      "MinDCT: 0.2662022306326824, MinDCT_threshold: 0.6677172832262871, \n",
      "59714 59714\n"
     ]
    },
    {
     "name": "stderr",
     "output_type": "stream",
     "text": [
      "\r",
      " 67%|██████████████████████████████████████████████████████████████████████████████████████████████████████████████████████████████████████████████████████████████                                                                               | 6/9 [05:42<02:45, 55.03s/it]"
     ]
    },
    {
     "name": "stdout",
     "output_type": "stream",
     "text": [
      "---- Scenario : 1d1s----\n",
      "EER: 1.6525965720133027, EER_threshold: 0.49847401919951717 \n",
      "MinDCT: 0.27421335379892553, MinDCT_threshold: 0.6432642514577953, \n",
      "78180 78180\n"
     ]
    },
    {
     "name": "stderr",
     "output_type": "stream",
     "text": [
      "\r",
      " 78%|████████████████████████████████████████████████████████████████████████████████████████████████████████████████████████████████████████████████████████████████████████████████████████▎                                                    | 7/9 [06:44<01:54, 57.35s/it]"
     ]
    },
    {
     "name": "stdout",
     "output_type": "stream",
     "text": [
      "---- Scenario : 3d1s----\n",
      "EER: 2.2850208044382803, EER_threshold: 0.4704318817183428 \n",
      "MinDCT: 0.31716366158113735, MinDCT_threshold: 0.6396442823719398, \n",
      "86520 86520\n"
     ]
    },
    {
     "name": "stderr",
     "output_type": "stream",
     "text": [
      "\r",
      " 89%|██████████████████████████████████████████████████████████████████████████████████████████████████████████████████████████████████████████████████████████████████████████████████████████████████████████████████▋                          | 8/9 [07:30<00:53, 53.87s/it]"
     ]
    },
    {
     "name": "stdout",
     "output_type": "stream",
     "text": [
      "---- Scenario : 5d1s----\n",
      "EER: 2.513252260679763, EER_threshold: 0.4621256025759285 \n",
      "MinDCT: 0.3482850015590895, MinDCT_threshold: 0.6146218773801573, \n",
      "64140 64140\n"
     ]
    }
   ],
   "source": [
    "eers_v21={}\n",
    "mindcts_v21={}\n",
    "Threshold=0.51\n",
    "visual=False\n",
    "\n",
    "for tmp_scenario in tqdm(['random','1das','3das','5das','10das','1d1s','3d1s','5d1s','10d1s']):\n",
    "# for tmp_scenario in tqdm(['random']):\n",
    "    # 0. init\n",
    "    scenario2model2day2score_v21[tmp_scenario]=defaultdict(list)\n",
    "    \n",
    "    # 1. Load trial trajectory and enrollment model\n",
    "    f_read = open('./trials/%s/trial.pkl' %tmp_scenario, 'rb')\n",
    "    trials = pickle.load(f_read)\n",
    "    f_read.close()\n",
    "    enrol_models={i.split()[0]:i.split()[1:] for i in open('./trials/%s/enrol_model'%tmp_scenario)}\n",
    "    \n",
    "    # 2. achieve enrol template\n",
    "    enrol_embd_dict={}\n",
    "    for tmp_model in enrol_models:\n",
    "        enrol_embd=np.zeros((1,128))\n",
    "        for utt in enrol_models[tmp_model]:\n",
    "            enrol_embd += embds_dict[utt]\n",
    "\n",
    "#         enrol_embd_dict[tmp_model]=enrol_embd/np.linalg.norm(enrol_embd)\n",
    "        enrol_embd_dict[tmp_model]=enrol_embd/5\n",
    "    # 3. scoring\n",
    "    true_score=[]\n",
    "    false_score=[]\n",
    "    \n",
    "    if tmp_scenario in ['random']:\n",
    "        for tmp_model in trials:\n",
    "            enrol_embd = enrol_embd_dict[tmp_model]\n",
    "            ts=tmp_model[3:7]\n",
    "            scenario2model2day2score_v21[tmp_scenario][tmp_model]=defaultdict(list)\n",
    "            for utt in trials[tmp_model]:\n",
    "                test_embd = embds_dict[utt]\n",
    "                \n",
    "                result = 1 - spatial.distance.cosine(enrol_embd, test_embd)\n",
    "                \n",
    "                if ts == utt[:4]:\n",
    "                    true_score.append(result) \n",
    "                    scenario2model2day2score_v21[tmp_scenario][tmp_model]['true'].append(result)\n",
    "                else:\n",
    "                    false_score.append(result) \n",
    "                    scenario2model2day2score_v21[tmp_scenario][tmp_model]['false'].append(result)\n",
    "                    \n",
    "                if result> Threshold:\n",
    "                    enrol_embd = enrol_embd/np.linalg.norm(enrol_embd)\n",
    "                    test_embd = test_embd/np.linalg.norm(test_embd)\n",
    "                    \n",
    "                    observation = np.concatenate((enrol_embd,test_embd),axis=1)\n",
    "                    observation = torch.from_numpy(observation.astype('float32'))\n",
    "#                     observation = observation.to('cuda:3')\n",
    "                    mu,sigma = actor(observation)\n",
    "                    action_value = mu\n",
    "                    action_value = action_value.cpu().detach().cpu().numpy()[0][0]\n",
    "                    if visual: print(utt,ts,result,action_value)\n",
    "                    enrol_embd = (1-action_value)*enrol_embd + action_value*test_embd\n",
    "                    \n",
    "    elif tmp_scenario in ['1das','3das','5das','10das']:\n",
    "        for tmp_model in trials:\n",
    "            enrol_embd = enrol_embd_dict[tmp_model]\n",
    "            ts=tmp_model[3:7]\n",
    "            scenario2model2day2score_v21[tmp_scenario][tmp_model]=defaultdict(list)\n",
    "            for day in trials[tmp_model]:\n",
    "                scenario2model2day2score_v21[tmp_scenario][tmp_model][day]=defaultdict(list)\n",
    "                for utt in trials[tmp_model][day]:\n",
    "                    test_embd = embds_dict[utt]\n",
    "                    \n",
    "                    result = 1 - spatial.distance.cosine(enrol_embd, test_embd)\n",
    "                    if ts == utt[:4]:\n",
    "                        true_score.append(result) \n",
    "                        scenario2model2day2score_v21[tmp_scenario][tmp_model][day]['true'].append(result)\n",
    "                    else:\n",
    "                        false_score.append(result) \n",
    "                        scenario2model2day2score_v21[tmp_scenario][tmp_model][day]['false'].append(result)\n",
    "                        \n",
    "                    if result> Threshold:\n",
    "                        enrol_embd = enrol_embd/np.linalg.norm(enrol_embd)\n",
    "                        test_embd = test_embd/np.linalg.norm(test_embd)\n",
    "                        \n",
    "                        observation = np.concatenate((enrol_embd,test_embd),axis=1)\n",
    "                        observation = torch.from_numpy(observation.astype('float32'))\n",
    "#                         observation = observation.to('cuda:3')\n",
    "                        mu,sigma = actor(observation)\n",
    "                        action_value = mu\n",
    "                        action_value = action_value.cpu().detach().cpu().numpy()[0][0]\n",
    "                        if visual: print(utt,ts,result,action_value)\n",
    "                        enrol_embd = (1-action_value)*enrol_embd + action_value*test_embd\n",
    "                        \n",
    "    elif tmp_scenario in ['1d1s','3d1s','5d1s','10d1s']:\n",
    "        for tmp_round in trials:\n",
    "            scenario2model2day2score_v21[tmp_scenario][tmp_round]=defaultdict(list)\n",
    "            for tmp_model in trials[tmp_round]:\n",
    "                enrol_embd = enrol_embd_dict[tmp_model]\n",
    "                ts=tmp_model[3:7]\n",
    "                scenario2model2day2score_v21[tmp_scenario][tmp_round][tmp_model]=defaultdict(list)\n",
    "                for day in trials[tmp_round][tmp_model]:\n",
    "                    scenario2model2day2score_v21[tmp_scenario][tmp_round][tmp_model][day]=defaultdict(list)\n",
    "                    for utt in trials[tmp_round][tmp_model][day]:\n",
    "                        test_embd = embds_dict[utt]\n",
    "                        \n",
    "                        result = 1 - spatial.distance.cosine(enrol_embd, test_embd)\n",
    "                        if ts == utt[:4]:\n",
    "                            true_score.append(result) \n",
    "                            scenario2model2day2score_v21[tmp_scenario][tmp_round][tmp_model][day]['true'].append(result)\n",
    "                        else:\n",
    "                            false_score.append(result) \n",
    "                            scenario2model2day2score_v21[tmp_scenario][tmp_round][tmp_model][day]['false'].append(result)\n",
    "                            \n",
    "                        if result> Threshold:\n",
    "                            enrol_embd = enrol_embd/np.linalg.norm(enrol_embd)\n",
    "                            test_embd = test_embd/np.linalg.norm(test_embd)\n",
    "                            \n",
    "                            observation = np.concatenate((enrol_embd,test_embd),axis=1)\n",
    "                            observation = torch.from_numpy(observation.astype('float32'))\n",
    "#                             observation = observation.to('cuda:3')\n",
    "                            mu,sigma = actor(observation)\n",
    "                            action_value = mu\n",
    "                            action_value = action_value.cpu().detach().cpu().numpy()[0][0]\n",
    "                            if visual: print(utt,ts,result,action_value)\n",
    "                            enrol_embd = (1-action_value)*enrol_embd + action_value*test_embd\n",
    "\n",
    "    eer_v21, threshold_eer, mindct_v21, threashold_dct = compute_eer(np.array(true_score), np.array(false_score))\n",
    "    eers_v21[tmp_scenario]=eer_v21\n",
    "    mindcts_v21[tmp_scenario]=mindct_v21\n",
    "    print('---- Scenario : %s----'%tmp_scenario)\n",
    "    print('EER: %s, EER_threshold: %s \\nMinDCT: %s, MinDCT_threshold: %s, '%(eer_v21*100,threshold_eer, mindct_v21, threashold_dct))\n",
    "    print(len(true_score),len(false_score))\n",
    "    "
   ]
  },
  {
   "cell_type": "code",
   "execution_count": null,
   "metadata": {},
   "outputs": [],
   "source": []
  },
  {
   "cell_type": "code",
   "execution_count": null,
   "metadata": {},
   "outputs": [],
   "source": []
  },
  {
   "cell_type": "markdown",
   "metadata": {},
   "source": [
    "## DRL-TU-MH (V22)"
   ]
  },
  {
   "cell_type": "code",
   "execution_count": null,
   "metadata": {},
   "outputs": [],
   "source": [
    "import torch.nn as nn\n",
    "import torch\n",
    "import torch.nn.functional as F\n",
    "\n",
    "def init(module, weight_init, bias_init, gain=1):\n",
    "    weight_init(module.weight.data, gain=gain)\n",
    "    bias_init(module.bias.data)\n",
    "    return module\n",
    "\n",
    "class AddBias(nn.Module):\n",
    "    def __init__(self, bias):\n",
    "        super(AddBias, self).__init__()\n",
    "        self._bias = nn.Parameter(bias.unsqueeze(1))\n",
    "\n",
    "    def forward(self, x):\n",
    "        bias = self._bias.t().view(1, -1)\n",
    "        return x + bias\n",
    "\n",
    "#Categorical\n",
    "class FixedCategorical(torch.distributions.Categorical):\n",
    "    def sample(self):\n",
    "        return super().sample().unsqueeze(-1)\n",
    "\n",
    "    def log_probs(self, actions):\n",
    "        return super().log_prob(actions.squeeze(-1)).view(actions.size(0), -1).sum(-1).unsqueeze(-1)\n",
    "\n",
    "    def entropy(self):\n",
    "        p = self.probs.masked_fill(self.probs <= 0, 1)\n",
    "        return -1 * p.mul(p.log()).sum(-1)\n",
    "\n",
    "    def mode(self):\n",
    "        return self.probs.argmax(dim=-1, keepdim=True)\n",
    "\n",
    "class Categorical(nn.Module):\n",
    "    def __init__(self, num_inputs, num_outputs):\n",
    "        super(Categorical, self).__init__()\n",
    "\n",
    "        init_ = lambda m: init(\n",
    "            m, nn.init.orthogonal_, lambda x: nn.init.constant_(x, 0), gain=0.01\n",
    "        )\n",
    "\n",
    "        self.linear = init_(nn.Linear(num_inputs, num_outputs))\n",
    "\n",
    "    def forward(self, x, mask=None):\n",
    "        x = self.linear(x)\n",
    "        if mask is not None:\n",
    "            return FixedCategorical(logits=x + torch.log(mask))\n",
    "        else:\n",
    "            return FixedCategorical(logits=x)\n",
    "\n",
    "#Normal\n",
    "class FixedNormal(torch.distributions.Normal):\n",
    "    def log_probs(self, actions):\n",
    "        return super().log_prob(actions).sum(-1, keepdim=True)\n",
    "\n",
    "    def entropy(self):\n",
    "        return super().entropy().sum(-1)\n",
    "\n",
    "    def mode(self):\n",
    "        return self.mean\n",
    "\n",
    "class DiagGaussian(nn.Module):\n",
    "    def __init__(self, num_inputs, num_outputs):\n",
    "        super(DiagGaussian, self).__init__()\n",
    "\n",
    "        init_ = lambda m: init(m, nn.init.orthogonal_, lambda x: nn.init.\n",
    "                               constant_(x, 0))\n",
    "\n",
    "        self.fc_mean = init_(nn.Linear(num_inputs, num_outputs))\n",
    "#         desired_init_log_std = -0.693471 #exp(..) ~= 0.5\n",
    "#         desired_init_log_std = -1.609437 #exp(..) ~=0.2\n",
    "        desired_init_log_std = -2.302585 #exp(..) ~=0.1\n",
    "        \n",
    "        self.logstd = AddBias(desired_init_log_std * torch.ones(num_outputs)) #so no state-dependent sigma\n",
    "\n",
    "    def forward(self, x, mask=None):\n",
    "        action_mean = self.fc_mean(x)\n",
    "#         print('action_mean',action_mean.shape,x.shape)\n",
    "        zeros = torch.zeros(action_mean.size())\n",
    "        if x.is_cuda:\n",
    "            zeros = zeros.to('cuda:3')\n",
    "\n",
    "        action_logstd = self.logstd(zeros)\n",
    "        return FixedNormal(action_mean, action_logstd.exp())\n",
    "\n",
    "class ActionHead(nn.Module):\n",
    "    def __init__(self, input_dim, output_dim, type=\"categorical\"):\n",
    "        super(ActionHead, self).__init__()\n",
    "        self.input_dim = input_dim\n",
    "        self.output_dim = output_dim\n",
    "        self.type = type\n",
    "        if type == \"categorical\":\n",
    "            self.distribution = Categorical(num_inputs=input_dim, num_outputs=output_dim)\n",
    "        elif type == \"normal\":\n",
    "            self.distribution = DiagGaussian(num_inputs=input_dim, num_outputs=output_dim)\n",
    "        else:\n",
    "            raise NotImplementedError\n",
    "\n",
    "    def forward(self, input, mask):\n",
    "        if self.type == \"normal\":\n",
    "            return self.distribution(input)\n",
    "        else:\n",
    "            return self.distribution(input, mask)\n",
    "        \n",
    "class Pi_net_mh(nn.Module):\n",
    "    def __init__(self, input_size, hidden_size):\n",
    "        super(Pi_net_mh, self).__init__()\n",
    "        self.linear1 = nn.Linear(input_size, hidden_size)\n",
    "        self.linear2 = nn.Linear(hidden_size, int(hidden_size/2))\n",
    "        self.action_heads = nn.ModuleList()\n",
    "        self.action_heads.append(ActionHead(int(hidden_size/2), 2, type='categorical'))\n",
    "        self.action_heads.append(ActionHead(int(hidden_size/2)+1, 1, type='normal'))\n",
    "        \n",
    "    def forward(self, s, deterministic=False):\n",
    "        x = F.relu(self.linear1(s))\n",
    "        x = F.relu(self.linear2(x))\n",
    "        \n",
    "        action_outputs=[]\n",
    "        head_outputs=[]\n",
    "        head_outputs.append(x)\n",
    "        action_type_dist = self.action_heads[0](x,mask=None)\n",
    "        if deterministic:\n",
    "            action_type = action_type_dist.mode()\n",
    "        else:\n",
    "            action_type = action_type_dist.sample()\n",
    "            \n",
    "        head_outputs.append(action_type)\n",
    "        action_outputs.append(action_type)\n",
    "        head_output = torch.cat(head_outputs, dim=-1)\n",
    "\n",
    "        head_dist = self.action_heads[1](head_output,mask=None)\n",
    "        \n",
    "        if deterministic:\n",
    "            head_action = head_dist.mode()\n",
    "        else:\n",
    "            head_action = head_dist.rsample()\n",
    "        \n",
    "        action_outputs.append(head_action)\n",
    "\n",
    "        joint_action_log_prob = action_type_dist.log_probs(action_type)\n",
    "        entropy = action_type_dist.entropy().mean()\n",
    "        \n",
    "        joint_action_log_prob += head_dist.log_probs(head_action)\n",
    "\n",
    "        entropy += head_dist.entropy().mean()\n",
    "        action_outputs = torch.cat(action_outputs,dim=-1)\n",
    "        return action_outputs, joint_action_log_prob, entropy\n",
    "    \n",
    "actor_mh = Pi_net_mh(256, 256)\n",
    "checkpoint = torch.load('./DRL-TU/egs/exp/DRL-TU-MH_pretrained/model_final.pkl',map_location='cpu')\n",
    "actor_mh.load_state_dict(checkpoint['pi'])\n",
    "# actor_mh = actor_mh.to('cuda:3')"
   ]
  },
  {
   "cell_type": "code",
   "execution_count": null,
   "metadata": {},
   "outputs": [
    {
     "name": "stderr",
     "output_type": "stream",
     "text": [
      "\r",
      " 11%|██████████████████████████▏                                                                                                                                                                                                                 | 1/9 [04:14<33:55, 254.46s/it]"
     ]
    },
    {
     "name": "stdout",
     "output_type": "stream",
     "text": [
      "---- Scenario : random----\n",
      "EER: 1.8745362475429257, EER_threshold: 0.4936059872128533 \n",
      "MinDCT: 0.3013577370181856, MinDCT_threshold: 0.6593987079739003, \n",
      "76819 76819\n"
     ]
    }
   ],
   "source": [
    "eers_v22={}\n",
    "mindcts_v22={}\n",
    "\n",
    "for tmp_scenario in tqdm(['random','1das','3das','5das','10das','1d1s','3d1s','5d1s','10d1s']):\n",
    "# for tmp_scenario in tqdm(['random']):\n",
    "    # 0. init\n",
    "    scenario2model2day2score_v22[tmp_scenario]=defaultdict(list)\n",
    "    \n",
    "    # 1. Load trial trajectory and enrollment model\n",
    "    f_read = open('./trials/%s/trial.pkl' %tmp_scenario, 'rb')\n",
    "    trials = pickle.load(f_read)\n",
    "    f_read.close()\n",
    "    enrol_models={i.split()[0]:i.split()[1:] for i in open('./trials/%s/enrol_model'%tmp_scenario)}\n",
    "    \n",
    "    # 2. achieve enrol template\n",
    "    enrol_embd_dict={}\n",
    "    for tmp_model in enrol_models:\n",
    "        enrol_embd=np.zeros((1,128))\n",
    "        for utt in enrol_models[tmp_model]:\n",
    "            enrol_embd += embds_dict[utt]\n",
    "\n",
    "        enrol_embd_dict[tmp_model] = enrol_embd/5\n",
    "    # 3. scoring\n",
    "    true_score=[]\n",
    "    false_score=[]\n",
    "    \n",
    "    if tmp_scenario in ['random']:\n",
    "        for tmp_model in trials:\n",
    "            enrol_embd = enrol_embd_dict[tmp_model]\n",
    "            ts=tmp_model[3:7]\n",
    "            scenario2model2day2score_v22[tmp_scenario][tmp_model]=defaultdict(list)\n",
    "            for utt in trials[tmp_model]:\n",
    "                test_embd = embds_dict[utt]\n",
    "                observation = np.concatenate((enrol_embd,test_embd),axis=1)\n",
    "                observation = torch.from_numpy(observation.astype('float32'))\n",
    "#                 observation = observation.to('cuda:3')\n",
    "                action_output, _, _ = actor_mh(observation,deterministic=True)\n",
    "                action_output = action_output.cpu().detach().numpy()\n",
    "                action_deter, action_value = action_output[0][0], action_output[0][1]\n",
    "\n",
    "                result = 1 - spatial.distance.cosine(enrol_embd, test_embd)\n",
    "                if ts == utt[:4]:\n",
    "                    true_score.append(result) \n",
    "                    scenario2model2day2score_v22[tmp_scenario][tmp_model]['true'].append(result)\n",
    "                else:\n",
    "                    false_score.append(result) \n",
    "                    scenario2model2day2score_v22[tmp_scenario][tmp_model]['false'].append(result)\n",
    "                    \n",
    "                if action_deter==1 and result>0.4:\n",
    "                    enrol_embd = (1-action_value)*enrol_embd + action_value*test_embd\n",
    "                    \n",
    "    elif tmp_scenario in ['1das','3das','5das','10das']:\n",
    "        for tmp_model in trials:\n",
    "            enrol_embd = enrol_embd_dict[tmp_model]\n",
    "            ts=tmp_model[3:7]\n",
    "            scenario2model2day2score_v22[tmp_scenario][tmp_model]=defaultdict(list)\n",
    "            for day in trials[tmp_model]:\n",
    "                scenario2model2day2score_v22[tmp_scenario][tmp_model][day]=defaultdict(list)\n",
    "                for utt in trials[tmp_model][day]:\n",
    "                    test_embd = embds_dict[utt]\n",
    "                    observation = np.concatenate((enrol_embd,test_embd),axis=1)\n",
    "                    observation = torch.from_numpy(observation.astype('float32'))\n",
    "#                     observation = observation.to('cuda:3')\n",
    "                    action_output, _, _ = actor_mh(observation,deterministic=True)\n",
    "                    action_output = action_output.cpu().detach().numpy()\n",
    "                    action_deter, action_value = action_output[0][0], action_output[0][1]\n",
    "\n",
    "                    result = 1 - spatial.distance.cosine(enrol_embd, test_embd)\n",
    "                    if ts == utt[:4]:\n",
    "                        true_score.append(result) \n",
    "                        scenario2model2day2score_v22[tmp_scenario][tmp_model][day]['true'].append(result)\n",
    "                    else:\n",
    "                        false_score.append(result) \n",
    "                        scenario2model2day2score_v22[tmp_scenario][tmp_model][day]['false'].append(result)\n",
    "                        \n",
    "                    if action_deter==1 and result>0.4:\n",
    "                        enrol_embd = (1-action_value)*enrol_embd + action_value*test_embd\n",
    "                        \n",
    "    elif tmp_scenario in ['1d1s','3d1s','5d1s','10d1s']:\n",
    "        for tmp_round in trials:\n",
    "            scenario2model2day2score_v22[tmp_scenario][tmp_round]=defaultdict(list)\n",
    "            for tmp_model in trials[tmp_round]:\n",
    "                enrol_embd = enrol_embd_dict[tmp_model]\n",
    "                ts=tmp_model[3:7]\n",
    "                scenario2model2day2score_v22[tmp_scenario][tmp_round][tmp_model]=defaultdict(list)\n",
    "                for day in trials[tmp_round][tmp_model]:\n",
    "                    scenario2model2day2score_v22[tmp_scenario][tmp_round][tmp_model][day]=defaultdict(list)\n",
    "                    for utt in trials[tmp_round][tmp_model][day]:\n",
    "                        test_embd = embds_dict[utt]\n",
    "                        observation = np.concatenate((enrol_embd,test_embd),axis=1)\n",
    "                        observation = torch.from_numpy(observation.astype('float32'))\n",
    "#                         observation = observation.to('cuda:3')\n",
    "                        action_output, _, _ = actor_mh(observation,deterministic=True)\n",
    "                        action_output = action_output.cpu().detach().numpy()\n",
    "                        action_deter, action_value = action_output[0][0], action_output[0][1]\n",
    "\n",
    "                        result = 1 - spatial.distance.cosine(enrol_embd, test_embd)\n",
    "                        if ts == utt[:4]:\n",
    "                            true_score.append(result) \n",
    "                            scenario2model2day2score_v22[tmp_scenario][tmp_round][tmp_model][day]['true'].append(result)\n",
    "                        else:\n",
    "                            false_score.append(result) \n",
    "                            scenario2model2day2score_v22[tmp_scenario][tmp_round][tmp_model][day]['false'].append(result)\n",
    "                            \n",
    "                        if action_deter==1 and result>0.4:\n",
    "                            enrol_embd = (1-action_value)*enrol_embd + action_value*test_embd\n",
    "\n",
    "    eer_v22, threshold_eer, mindct_v22, threashold_dct = compute_eer(np.array(true_score), np.array(false_score))\n",
    "    eers_v22[tmp_scenario]=eer_v22\n",
    "    mindcts_v22[tmp_scenario]=mindct_v22\n",
    "    print('---- Scenario : %s----'%tmp_scenario)\n",
    "    print('EER: %s, EER_threshold: %s \\nMinDCT: %s, MinDCT_threshold: %s, '%(eer_v22*100,threshold_eer, mindct_v22, threashold_dct))\n",
    "    print(len(true_score),len(false_score))\n",
    "    "
   ]
  },
  {
   "cell_type": "code",
   "execution_count": null,
   "metadata": {},
   "outputs": [],
   "source": []
  },
  {
   "cell_type": "code",
   "execution_count": null,
   "metadata": {},
   "outputs": [],
   "source": [
    "print('baseline:',eers_v0['random']*100)\n",
    "for alpha in eers_v1:\n",
    "    print(alpha,eers_v1[alpha]['random']*100)\n",
    "print('Adw',eers_v21['random']*100)  \n",
    "print('MH',eers_v22['random']*100)  \n"
   ]
  },
  {
   "cell_type": "code",
   "execution_count": null,
   "metadata": {},
   "outputs": [],
   "source": [
    "for scenario in ['1das','3das','5das','10das','1d1s','3d1s','5d1s','10d1s']:\n",
    "    print('-----%s-----'%scenario)\n",
    "    print('baseline:',eers_v0[scenario]*100)\n",
    "    for alpha in eers_v1:\n",
    "        print(alpha,eers_v1[alpha][scenario]*100)\n",
    "    print('Adw',eers_v21[scenario]*100)  \n",
    "    print('MH',eers_v22[scenario]*100)  \n"
   ]
  },
  {
   "cell_type": "code",
   "execution_count": null,
   "metadata": {},
   "outputs": [],
   "source": [
    "eer_dicts={'eers_v0':eers_v0,'eers_v1':eers_v1,'eers_v21':eers_v21,'eers_v22':eers_v22}"
   ]
  },
  {
   "cell_type": "code",
   "execution_count": null,
   "metadata": {},
   "outputs": [],
   "source": [
    "np.save('eers.npy',eer_dicts)"
   ]
  },
  {
   "cell_type": "code",
   "execution_count": null,
   "metadata": {},
   "outputs": [],
   "source": []
  }
 ],
 "metadata": {
  "kernelspec": {
   "display_name": "torch",
   "language": "python",
   "name": "torch"
  },
  "language_info": {
   "codemirror_mode": {
    "name": "ipython",
    "version": 3
   },
   "file_extension": ".py",
   "mimetype": "text/x-python",
   "name": "python",
   "nbconvert_exporter": "python",
   "pygments_lexer": "ipython3",
   "version": "3.7.12"
  }
 },
 "nbformat": 4,
 "nbformat_minor": 2
}
